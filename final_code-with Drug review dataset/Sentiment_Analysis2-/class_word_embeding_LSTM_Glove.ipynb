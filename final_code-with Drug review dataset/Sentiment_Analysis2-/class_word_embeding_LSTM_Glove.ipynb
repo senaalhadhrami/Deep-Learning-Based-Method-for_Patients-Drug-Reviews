{
 "cells": [
  {
   "cell_type": "markdown",
   "metadata": {
    "colab": {
     "base_uri": "https://localhost:8080/"
    },
    "executionInfo": {
     "elapsed": 29487,
     "status": "ok",
     "timestamp": 1681981198193,
     "user": {
      "displayName": "Sena ALHADHRAMI",
      "userId": "15424902837319805851"
     },
     "user_tz": -120
    },
    "id": "XQNMeNFmZ0pW",
    "outputId": "d11d57e1-978a-491c-e608-86803a55fbaa"
   },
   "source": [
    "# Project Description"
   ]
  },
  {
   "cell_type": "markdown",
   "metadata": {
    "colab": {
     "base_uri": "https://localhost:8080/"
    },
    "executionInfo": {
     "elapsed": 27,
     "status": "ok",
     "timestamp": 1681981198195,
     "user": {
      "displayName": "Sena ALHADHRAMI",
      "userId": "15424902837319805851"
     },
     "user_tz": -120
    },
    "id": "05-QFm04aZrj",
    "outputId": "ea7b2390-7fd2-4987-f0a4-6e2c36313503"
   },
   "source": [
    "we performed several steps to train and evaluate a model for sentiment analysis on drug reviews.\n",
    "\n",
    "Firstly, we pre-processed the data by performing tasks such as data cleaning, text normalization, and tokenization. We also used Glove embedding to represent words as dense vectors.\n",
    "\n",
    "Then, we trained two models, LSTM and LSTM-CNN, using the pre-processed data. We evaluated the performance of the models on the test data from drugsComTest_raw.csv.\n",
    "\n",
    "Next, we performed evaluation on the test data, including calculating accuracy, precision, recall, and F1-score.\n",
    "\n",
    "We also generated training and validation curves to visualize the performance of the models during training.\n",
    "\n",
    "Finally, we plotted the confusion matrix to gain insight into the performance of the models in predicting the sentiment of drug reviews.\n"
   ]
  },
  {
   "cell_type": "code",
   "execution_count": 47,
   "metadata": {
    "executionInfo": {
     "elapsed": 7847,
     "status": "ok",
     "timestamp": 1681981206029,
     "user": {
      "displayName": "Sena ALHADHRAMI",
      "userId": "15424902837319805851"
     },
     "user_tz": -120
    },
    "id": "nYNoc9jLajBa"
   },
   "outputs": [],
   "source": [
    "import os\n",
    "import re\n",
    "import nltk\n",
    "import pandas as pd\n",
    "import numpy as np\n",
    "import seaborn as sns\n",
    "import matplotlib.pyplot as plt\n",
    "from nltk.tokenize import word_tokenize\n",
    "from nltk import pos_tag\n",
    "from nltk.corpus import stopwords, wordnet\n",
    "from nltk.stem import WordNetLemmatizer\n",
    "from keras import layers\n",
    "from sklearn.model_selection import train_test_split\n",
    "#from tensorflow.keras.models import Sequential\n",
    "from keras.models import Sequential\n",
    "#from tensorflow.keras.preprocessing.text import Tokenizer\n",
    "from keras.preprocessing.text import Tokenizer\n",
    "from tensorflow.keras.preprocessing.sequence import pad_sequences\n",
    "#from keras.preprocessing.sequence import pad_sequences\n",
    "import tensorflow as tf\n",
    "from keras.layers.core import Dense, Activation, Dropout\n",
    "#from keras.layers.normalization import BatchNormalization\n",
    "from keras.utils import np_utils\n",
    "from keras.layers import GlobalMaxPooling1D, Conv1D, MaxPooling1D, Flatten, Bidirectional, SpatialDropout1D,LSTM\n",
    "\n",
    "from keras.callbacks import EarlyStopping\n",
    "from keras.optimizers import Adam\n",
    "from keras import regularizers\n",
    "from keras import backend as K\n",
    "from keras.models import load_model\n",
    "from keras.models import model_from_json\n",
    "from keras.utils import to_categorical\n",
    "from keras.utils import plot_model\n",
    "from keras.models import Model\n",
    "from sklearn.preprocessing import LabelEncoder\n",
    "from sklearn.preprocessing import OneHotEncoder\n",
    "from keras.layers.core import Dense, Activation, Dropout\n",
    "\n"
   ]
  },
  {
   "cell_type": "code",
   "execution_count": 3,
   "metadata": {
    "colab": {
     "base_uri": "https://localhost:8080/"
    },
    "executionInfo": {
     "elapsed": 17,
     "status": "ok",
     "timestamp": 1681981206030,
     "user": {
      "displayName": "Sena ALHADHRAMI",
      "userId": "15424902837319805851"
     },
     "user_tz": -120
    },
    "id": "-bKu5IL1bjWI",
    "outputId": "77c70955-4794-4ab7-c8d7-8bec760d353e"
   },
   "outputs": [
    {
     "name": "stderr",
     "output_type": "stream",
     "text": [
      "[nltk_data] Downloading package punkt to\n",
      "[nltk_data]     C:\\Users\\Sena\\AppData\\Roaming\\nltk_data...\n",
      "[nltk_data]   Package punkt is already up-to-date!\n",
      "[nltk_data] Downloading package averaged_perceptron_tagger to\n",
      "[nltk_data]     C:\\Users\\Sena\\AppData\\Roaming\\nltk_data...\n",
      "[nltk_data]   Package averaged_perceptron_tagger is already up-to-\n",
      "[nltk_data]       date!\n",
      "[nltk_data] Downloading package wordnet to\n",
      "[nltk_data]     C:\\Users\\Sena\\AppData\\Roaming\\nltk_data...\n",
      "[nltk_data]   Package wordnet is already up-to-date!\n",
      "[nltk_data] Downloading package stopwords to\n",
      "[nltk_data]     C:\\Users\\Sena\\AppData\\Roaming\\nltk_data...\n",
      "[nltk_data]   Package stopwords is already up-to-date!\n",
      "[nltk_data] Downloading package omw-1.4 to\n",
      "[nltk_data]     C:\\Users\\Sena\\AppData\\Roaming\\nltk_data...\n",
      "[nltk_data]   Package omw-1.4 is already up-to-date!\n"
     ]
    },
    {
     "data": {
      "text/plain": [
       "True"
      ]
     },
     "execution_count": 3,
     "metadata": {},
     "output_type": "execute_result"
    }
   ],
   "source": [
    "nltk.download(\"punkt\")\n",
    "nltk.download(\"averaged_perceptron_tagger\")\n",
    "nltk.download(\"wordnet\")\n",
    "nltk.download(\"stopwords\")\n",
    "nltk.download('omw-1.4')"
   ]
  },
  {
   "cell_type": "markdown",
   "metadata": {},
   "source": [
    "# Loading dataset"
   ]
  },
  {
   "cell_type": "code",
   "execution_count": 4,
   "metadata": {
    "executionInfo": {
     "elapsed": 2690,
     "status": "ok",
     "timestamp": 1681981208714,
     "user": {
      "displayName": "Sena ALHADHRAMI",
      "userId": "15424902837319805851"
     },
     "user_tz": -120
    },
    "id": "TcUtLyH9eI1a"
   },
   "outputs": [],
   "source": [
    "#df = pd.read_csv(\"/content/drive/My Drive/Sentiment_Analysis/drugsComTrain_raw.csv\")\n",
    "df = pd.read_csv('drugsComTrain_raw.csv')\n",
    "Test_dataset=pd.read_csv('drugsComTest_raw.csv')"
   ]
  },
  {
   "cell_type": "code",
   "execution_count": 5,
   "metadata": {
    "colab": {
     "base_uri": "https://localhost:8080/"
    },
    "executionInfo": {
     "elapsed": 21,
     "status": "ok",
     "timestamp": 1681981208716,
     "user": {
      "displayName": "Sena ALHADHRAMI",
      "userId": "15424902837319805851"
     },
     "user_tz": -120
    },
    "id": "V2ePTbQBbtwv",
    "outputId": "81fc4cf0-be40-48ef-9cb3-b13a95913f9e"
   },
   "outputs": [
    {
     "name": "stdout",
     "output_type": "stream",
     "text": [
      "<class 'pandas.core.frame.DataFrame'>\n",
      "RangeIndex: 161297 entries, 0 to 161296\n",
      "Data columns (total 7 columns):\n",
      " #   Column       Non-Null Count   Dtype \n",
      "---  ------       --------------   ----- \n",
      " 0   uniqueID     161297 non-null  int64 \n",
      " 1   drugName     161297 non-null  object\n",
      " 2   condition    160398 non-null  object\n",
      " 3   review       161297 non-null  object\n",
      " 4   rating       161297 non-null  int64 \n",
      " 5   date         161297 non-null  object\n",
      " 6   usefulCount  161297 non-null  int64 \n",
      "dtypes: int64(3), object(4)\n",
      "memory usage: 8.6+ MB\n",
      "None\n"
     ]
    }
   ],
   "source": [
    "\n",
    "print(df.info()) "
   ]
  },
  {
   "cell_type": "code",
   "execution_count": 6,
   "metadata": {
    "colab": {
     "base_uri": "https://localhost:8080/",
     "height": 206
    },
    "executionInfo": {
     "elapsed": 18,
     "status": "ok",
     "timestamp": 1681981208717,
     "user": {
      "displayName": "Sena ALHADHRAMI",
      "userId": "15424902837319805851"
     },
     "user_tz": -120
    },
    "id": "T0WuCA0PgkC7",
    "outputId": "4b97f15e-c778-41a0-adb8-993e96a5c1b0"
   },
   "outputs": [
    {
     "data": {
      "text/html": [
       "<div>\n",
       "<style scoped>\n",
       "    .dataframe tbody tr th:only-of-type {\n",
       "        vertical-align: middle;\n",
       "    }\n",
       "\n",
       "    .dataframe tbody tr th {\n",
       "        vertical-align: top;\n",
       "    }\n",
       "\n",
       "    .dataframe thead th {\n",
       "        text-align: right;\n",
       "    }\n",
       "</style>\n",
       "<table border=\"1\" class=\"dataframe\">\n",
       "  <thead>\n",
       "    <tr style=\"text-align: right;\">\n",
       "      <th></th>\n",
       "      <th>uniqueID</th>\n",
       "      <th>drugName</th>\n",
       "      <th>condition</th>\n",
       "      <th>review</th>\n",
       "      <th>rating</th>\n",
       "      <th>date</th>\n",
       "      <th>usefulCount</th>\n",
       "    </tr>\n",
       "  </thead>\n",
       "  <tbody>\n",
       "    <tr>\n",
       "      <th>0</th>\n",
       "      <td>206461</td>\n",
       "      <td>Valsartan</td>\n",
       "      <td>Left Ventricular Dysfunction</td>\n",
       "      <td>\"It has no side effect, I take it in combinati...</td>\n",
       "      <td>9</td>\n",
       "      <td>20-May-12</td>\n",
       "      <td>27</td>\n",
       "    </tr>\n",
       "    <tr>\n",
       "      <th>1</th>\n",
       "      <td>95260</td>\n",
       "      <td>Guanfacine</td>\n",
       "      <td>ADHD</td>\n",
       "      <td>\"My son is halfway through his fourth week of ...</td>\n",
       "      <td>8</td>\n",
       "      <td>27-Apr-10</td>\n",
       "      <td>192</td>\n",
       "    </tr>\n",
       "    <tr>\n",
       "      <th>2</th>\n",
       "      <td>92703</td>\n",
       "      <td>Lybrel</td>\n",
       "      <td>Birth Control</td>\n",
       "      <td>\"I used to take another oral contraceptive, wh...</td>\n",
       "      <td>5</td>\n",
       "      <td>14-Dec-09</td>\n",
       "      <td>17</td>\n",
       "    </tr>\n",
       "    <tr>\n",
       "      <th>3</th>\n",
       "      <td>138000</td>\n",
       "      <td>Ortho Evra</td>\n",
       "      <td>Birth Control</td>\n",
       "      <td>\"This is my first time using any form of birth...</td>\n",
       "      <td>8</td>\n",
       "      <td>3-Nov-15</td>\n",
       "      <td>10</td>\n",
       "    </tr>\n",
       "    <tr>\n",
       "      <th>4</th>\n",
       "      <td>35696</td>\n",
       "      <td>Buprenorphine / naloxone</td>\n",
       "      <td>Opiate Dependence</td>\n",
       "      <td>\"Suboxone has completely turned my life around...</td>\n",
       "      <td>9</td>\n",
       "      <td>27-Nov-16</td>\n",
       "      <td>37</td>\n",
       "    </tr>\n",
       "  </tbody>\n",
       "</table>\n",
       "</div>"
      ],
      "text/plain": [
       "   uniqueID                  drugName                     condition  \\\n",
       "0    206461                 Valsartan  Left Ventricular Dysfunction   \n",
       "1     95260                Guanfacine                          ADHD   \n",
       "2     92703                    Lybrel                 Birth Control   \n",
       "3    138000                Ortho Evra                 Birth Control   \n",
       "4     35696  Buprenorphine / naloxone             Opiate Dependence   \n",
       "\n",
       "                                              review  rating       date  \\\n",
       "0  \"It has no side effect, I take it in combinati...       9  20-May-12   \n",
       "1  \"My son is halfway through his fourth week of ...       8  27-Apr-10   \n",
       "2  \"I used to take another oral contraceptive, wh...       5  14-Dec-09   \n",
       "3  \"This is my first time using any form of birth...       8   3-Nov-15   \n",
       "4  \"Suboxone has completely turned my life around...       9  27-Nov-16   \n",
       "\n",
       "   usefulCount  \n",
       "0           27  \n",
       "1          192  \n",
       "2           17  \n",
       "3           10  \n",
       "4           37  "
      ]
     },
     "execution_count": 6,
     "metadata": {},
     "output_type": "execute_result"
    }
   ],
   "source": [
    "df.head()"
   ]
  },
  {
   "cell_type": "code",
   "execution_count": 7,
   "metadata": {},
   "outputs": [
    {
     "data": {
      "text/html": [
       "<div>\n",
       "<style scoped>\n",
       "    .dataframe tbody tr th:only-of-type {\n",
       "        vertical-align: middle;\n",
       "    }\n",
       "\n",
       "    .dataframe tbody tr th {\n",
       "        vertical-align: top;\n",
       "    }\n",
       "\n",
       "    .dataframe thead th {\n",
       "        text-align: right;\n",
       "    }\n",
       "</style>\n",
       "<table border=\"1\" class=\"dataframe\">\n",
       "  <thead>\n",
       "    <tr style=\"text-align: right;\">\n",
       "      <th></th>\n",
       "      <th>uniqueID</th>\n",
       "      <th>drugName</th>\n",
       "      <th>condition</th>\n",
       "      <th>review</th>\n",
       "      <th>rating</th>\n",
       "      <th>date</th>\n",
       "      <th>usefulCount</th>\n",
       "    </tr>\n",
       "  </thead>\n",
       "  <tbody>\n",
       "    <tr>\n",
       "      <th>0</th>\n",
       "      <td>163740</td>\n",
       "      <td>Mirtazapine</td>\n",
       "      <td>Depression</td>\n",
       "      <td>\"I&amp;#039;ve tried a few antidepressants over th...</td>\n",
       "      <td>10</td>\n",
       "      <td>28-Feb-12</td>\n",
       "      <td>22</td>\n",
       "    </tr>\n",
       "    <tr>\n",
       "      <th>1</th>\n",
       "      <td>206473</td>\n",
       "      <td>Mesalamine</td>\n",
       "      <td>Crohn's Disease, Maintenance</td>\n",
       "      <td>\"My son has Crohn&amp;#039;s disease and has done ...</td>\n",
       "      <td>8</td>\n",
       "      <td>17-May-09</td>\n",
       "      <td>17</td>\n",
       "    </tr>\n",
       "    <tr>\n",
       "      <th>2</th>\n",
       "      <td>159672</td>\n",
       "      <td>Bactrim</td>\n",
       "      <td>Urinary Tract Infection</td>\n",
       "      <td>\"Quick reduction of symptoms\"</td>\n",
       "      <td>9</td>\n",
       "      <td>29-Sep-17</td>\n",
       "      <td>3</td>\n",
       "    </tr>\n",
       "    <tr>\n",
       "      <th>3</th>\n",
       "      <td>39293</td>\n",
       "      <td>Contrave</td>\n",
       "      <td>Weight Loss</td>\n",
       "      <td>\"Contrave combines drugs that were used for al...</td>\n",
       "      <td>9</td>\n",
       "      <td>5-Mar-17</td>\n",
       "      <td>35</td>\n",
       "    </tr>\n",
       "    <tr>\n",
       "      <th>4</th>\n",
       "      <td>97768</td>\n",
       "      <td>Cyclafem 1 / 35</td>\n",
       "      <td>Birth Control</td>\n",
       "      <td>\"I have been on this birth control for one cyc...</td>\n",
       "      <td>9</td>\n",
       "      <td>22-Oct-15</td>\n",
       "      <td>4</td>\n",
       "    </tr>\n",
       "  </tbody>\n",
       "</table>\n",
       "</div>"
      ],
      "text/plain": [
       "   uniqueID         drugName                     condition  \\\n",
       "0    163740      Mirtazapine                    Depression   \n",
       "1    206473       Mesalamine  Crohn's Disease, Maintenance   \n",
       "2    159672          Bactrim       Urinary Tract Infection   \n",
       "3     39293         Contrave                   Weight Loss   \n",
       "4     97768  Cyclafem 1 / 35                 Birth Control   \n",
       "\n",
       "                                              review  rating       date  \\\n",
       "0  \"I&#039;ve tried a few antidepressants over th...      10  28-Feb-12   \n",
       "1  \"My son has Crohn&#039;s disease and has done ...       8  17-May-09   \n",
       "2                      \"Quick reduction of symptoms\"       9  29-Sep-17   \n",
       "3  \"Contrave combines drugs that were used for al...       9   5-Mar-17   \n",
       "4  \"I have been on this birth control for one cyc...       9  22-Oct-15   \n",
       "\n",
       "   usefulCount  \n",
       "0           22  \n",
       "1           17  \n",
       "2            3  \n",
       "3           35  \n",
       "4            4  "
      ]
     },
     "execution_count": 7,
     "metadata": {},
     "output_type": "execute_result"
    }
   ],
   "source": [
    "Test_dataset.head()"
   ]
  },
  {
   "cell_type": "code",
   "execution_count": 8,
   "metadata": {},
   "outputs": [
    {
     "data": {
      "text/plain": [
       "(161297, 7)"
      ]
     },
     "execution_count": 8,
     "metadata": {},
     "output_type": "execute_result"
    }
   ],
   "source": [
    "df.shape"
   ]
  },
  {
   "cell_type": "code",
   "execution_count": 9,
   "metadata": {},
   "outputs": [
    {
     "data": {
      "text/plain": [
       "(53766, 7)"
      ]
     },
     "execution_count": 9,
     "metadata": {},
     "output_type": "execute_result"
    }
   ],
   "source": [
    "Test_dataset.shape"
   ]
  },
  {
   "cell_type": "code",
   "execution_count": 10,
   "metadata": {
    "scrolled": true
   },
   "outputs": [
    {
     "data": {
      "text/plain": [
       "array([[False, False, False, ..., False, False, False],\n",
       "       [False, False, False, ..., False, False, False],\n",
       "       [False, False, False, ..., False, False, False],\n",
       "       ...,\n",
       "       [False, False, False, ..., False, False, False],\n",
       "       [False, False, False, ..., False, False, False],\n",
       "       [False, False, False, ..., False, False, False]])"
      ]
     },
     "execution_count": 10,
     "metadata": {},
     "output_type": "execute_result"
    }
   ],
   "source": [
    "df.isnull().values"
   ]
  },
  {
   "cell_type": "code",
   "execution_count": 11,
   "metadata": {},
   "outputs": [
    {
     "data": {
      "text/plain": [
       "array([[False, False, False, ..., False, False, False],\n",
       "       [False, False, False, ..., False, False, False],\n",
       "       [False, False, False, ..., False, False, False],\n",
       "       ...,\n",
       "       [False, False, False, ..., False, False, False],\n",
       "       [False, False, False, ..., False, False, False],\n",
       "       [False, False, False, ..., False, False, False]])"
      ]
     },
     "execution_count": 11,
     "metadata": {},
     "output_type": "execute_result"
    }
   ],
   "source": [
    "Test_dataset.isnull().values"
   ]
  },
  {
   "cell_type": "code",
   "execution_count": 12,
   "metadata": {
    "colab": {
     "base_uri": "https://localhost:8080/"
    },
    "executionInfo": {
     "elapsed": 24,
     "status": "ok",
     "timestamp": 1681981210053,
     "user": {
      "displayName": "Sena ALHADHRAMI",
      "userId": "15424902837319805851"
     },
     "user_tz": -120
    },
    "id": "rU7PQq3Pg8Js",
    "outputId": "27da1858-235b-46e2-80fe-3aa8877c0e86",
    "scrolled": true
   },
   "outputs": [
    {
     "data": {
      "text/plain": [
       "10    50989\n",
       "9     27531\n",
       "1     21619\n",
       "8     18890\n",
       "7      9456\n",
       "5      8013\n",
       "2      6931\n",
       "3      6513\n",
       "6      6343\n",
       "4      5012\n",
       "Name: rating, dtype: int64"
      ]
     },
     "execution_count": 12,
     "metadata": {},
     "output_type": "execute_result"
    }
   ],
   "source": [
    "df['rating'].value_counts()"
   ]
  },
  {
   "cell_type": "code",
   "execution_count": 13,
   "metadata": {},
   "outputs": [],
   "source": [
    "Prediction_Train_data = pd.DataFrame({'rating':df.rating,\n",
    "                                     'condition':df.condition,\n",
    "                                     'review':df.review})\n"
   ]
  },
  {
   "cell_type": "code",
   "execution_count": 14,
   "metadata": {},
   "outputs": [],
   "source": [
    "Prediction_Test_data = pd.DataFrame({'rating':Test_dataset.rating,\n",
    "                                     'condition':Test_dataset.condition,\n",
    "                                     'review':Test_dataset.review})"
   ]
  },
  {
   "cell_type": "code",
   "execution_count": 15,
   "metadata": {},
   "outputs": [],
   "source": [
    "report=['condition','review']"
   ]
  },
  {
   "cell_type": "code",
   "execution_count": 16,
   "metadata": {},
   "outputs": [],
   "source": [
    "Prediction_Train_data['report'] = Prediction_Train_data[report].apply(lambda row: '_'.join(row.values.astype(str)), axis=1)\n",
    "Prediction_Test_data['report'] = Prediction_Test_data[report].apply(lambda row: '_'.join(row.values.astype(str)), axis=1)"
   ]
  },
  {
   "cell_type": "code",
   "execution_count": null,
   "metadata": {},
   "outputs": [],
   "source": []
  },
  {
   "cell_type": "code",
   "execution_count": 17,
   "metadata": {
    "scrolled": true
   },
   "outputs": [
    {
     "data": {
      "text/plain": [
       "0         Left Ventricular Dysfunction_\"It has no side e...\n",
       "1         ADHD_\"My son is halfway through his fourth wee...\n",
       "2         Birth Control_\"I used to take another oral con...\n",
       "3         Birth Control_\"This is my first time using any...\n",
       "4         Opiate Dependence_\"Suboxone has completely tur...\n",
       "                                ...                        \n",
       "161292    Alcohol Dependence_\"I wrote my first report in...\n",
       "161293    Nausea/Vomiting_\"I was given this in IV before...\n",
       "161294    Rheumatoid Arthritis_\"Limited improvement afte...\n",
       "161295    Underactive Thyroid_\"I&#039;ve been on thyroid...\n",
       "161296    Constipation, Chronic_\"I&#039;ve had chronic c...\n",
       "Name: report, Length: 161297, dtype: object"
      ]
     },
     "execution_count": 17,
     "metadata": {},
     "output_type": "execute_result"
    }
   ],
   "source": [
    "Prediction_Train_data['report'] "
   ]
  },
  {
   "cell_type": "code",
   "execution_count": 18,
   "metadata": {},
   "outputs": [
    {
     "data": {
      "text/plain": [
       "0        Depression_\"I&#039;ve tried a few antidepressa...\n",
       "1        Crohn's Disease, Maintenance_\"My son has Crohn...\n",
       "2        Urinary Tract Infection_\"Quick reduction of sy...\n",
       "3        Weight Loss_\"Contrave combines drugs that were...\n",
       "4        Birth Control_\"I have been on this birth contr...\n",
       "                               ...                        \n",
       "53761    Breast Cancer, Prevention_\"I have taken Tamoxi...\n",
       "53762    Anxiety_\"I&#039;ve been taking Lexapro (escita...\n",
       "53763    Birth Control_\"I&#039;m married, 34 years old ...\n",
       "53764    Pain_\"I was prescribed Nucynta for severe neck...\n",
       "53765                               Sciatica_\"It works!!!\"\n",
       "Name: report, Length: 53766, dtype: object"
      ]
     },
     "execution_count": 18,
     "metadata": {},
     "output_type": "execute_result"
    }
   ],
   "source": [
    "Prediction_Test_data['report']"
   ]
  },
  {
   "cell_type": "code",
   "execution_count": 19,
   "metadata": {
    "scrolled": true
   },
   "outputs": [],
   "source": [
    "# Labeling of ratings as Postive, Negative and Neutral for sentimentclassification\n",
    "Prediction_Train_data['Sentiment'] = [ 'Negative' if (x<=4) else 'Neutral' if (4<x<=7) else 'Positive' for x in Prediction_Train_data['rating']]\n",
    "Prediction_Test_data['Sentiment'] = [ 'Negative' if (x<=4) else 'Neutral' if (4<x<=7) else 'Positive' for x in Prediction_Test_data['rating']]"
   ]
  },
  {
   "cell_type": "code",
   "execution_count": 20,
   "metadata": {},
   "outputs": [
    {
     "data": {
      "text/plain": [
       "0         Positive\n",
       "1         Positive\n",
       "2          Neutral\n",
       "3         Positive\n",
       "4         Positive\n",
       "            ...   \n",
       "161292    Positive\n",
       "161293    Negative\n",
       "161294    Negative\n",
       "161295    Positive\n",
       "161296    Positive\n",
       "Name: Sentiment, Length: 161297, dtype: object"
      ]
     },
     "execution_count": 20,
     "metadata": {},
     "output_type": "execute_result"
    }
   ],
   "source": [
    "Prediction_Train_data['Sentiment']"
   ]
  },
  {
   "cell_type": "code",
   "execution_count": 21,
   "metadata": {},
   "outputs": [
    {
     "data": {
      "text/plain": [
       "0        Positive\n",
       "1        Positive\n",
       "2        Positive\n",
       "3        Positive\n",
       "4        Positive\n",
       "           ...   \n",
       "53761    Positive\n",
       "53762    Positive\n",
       "53763    Positive\n",
       "53764    Negative\n",
       "53765    Positive\n",
       "Name: Sentiment, Length: 53766, dtype: object"
      ]
     },
     "execution_count": 21,
     "metadata": {},
     "output_type": "execute_result"
    }
   ],
   "source": [
    "Prediction_Test_data['Sentiment']"
   ]
  },
  {
   "cell_type": "code",
   "execution_count": 22,
   "metadata": {
    "scrolled": true
   },
   "outputs": [
    {
     "data": {
      "text/plain": [
       "<AxesSubplot:xlabel='Sentiment', ylabel='count'>"
      ]
     },
     "execution_count": 22,
     "metadata": {},
     "output_type": "execute_result"
    },
    {
     "data": {
      "image/png": "[encoded data removed]",
      "text/plain": [
       "<Figure size 432x288 with 1 Axes>"
      ]
     },
     "metadata": {
      "needs_background": "light"
     },
     "output_type": "display_data"
    }
   ],
   "source": [
    "sns.countplot(x=Prediction_Train_data['Sentiment'])"
   ]
  },
  {
   "cell_type": "code",
   "execution_count": 23,
   "metadata": {
    "scrolled": true
   },
   "outputs": [
    {
     "data": {
      "text/html": [
       "<div>\n",
       "<style scoped>\n",
       "    .dataframe tbody tr th:only-of-type {\n",
       "        vertical-align: middle;\n",
       "    }\n",
       "\n",
       "    .dataframe tbody tr th {\n",
       "        vertical-align: top;\n",
       "    }\n",
       "\n",
       "    .dataframe thead th {\n",
       "        text-align: right;\n",
       "    }\n",
       "</style>\n",
       "<table border=\"1\" class=\"dataframe\">\n",
       "  <thead>\n",
       "    <tr style=\"text-align: right;\">\n",
       "      <th></th>\n",
       "      <th>report</th>\n",
       "      <th>Sentiment</th>\n",
       "    </tr>\n",
       "  </thead>\n",
       "  <tbody>\n",
       "    <tr>\n",
       "      <th>0</th>\n",
       "      <td>Left Ventricular Dysfunction_\"It has no side e...</td>\n",
       "      <td>Positive</td>\n",
       "    </tr>\n",
       "    <tr>\n",
       "      <th>1</th>\n",
       "      <td>ADHD_\"My son is halfway through his fourth wee...</td>\n",
       "      <td>Positive</td>\n",
       "    </tr>\n",
       "    <tr>\n",
       "      <th>2</th>\n",
       "      <td>Birth Control_\"I used to take another oral con...</td>\n",
       "      <td>Neutral</td>\n",
       "    </tr>\n",
       "    <tr>\n",
       "      <th>3</th>\n",
       "      <td>Birth Control_\"This is my first time using any...</td>\n",
       "      <td>Positive</td>\n",
       "    </tr>\n",
       "    <tr>\n",
       "      <th>4</th>\n",
       "      <td>Opiate Dependence_\"Suboxone has completely tur...</td>\n",
       "      <td>Positive</td>\n",
       "    </tr>\n",
       "    <tr>\n",
       "      <th>...</th>\n",
       "      <td>...</td>\n",
       "      <td>...</td>\n",
       "    </tr>\n",
       "    <tr>\n",
       "      <th>161292</th>\n",
       "      <td>Alcohol Dependence_\"I wrote my first report in...</td>\n",
       "      <td>Positive</td>\n",
       "    </tr>\n",
       "    <tr>\n",
       "      <th>161293</th>\n",
       "      <td>Nausea/Vomiting_\"I was given this in IV before...</td>\n",
       "      <td>Negative</td>\n",
       "    </tr>\n",
       "    <tr>\n",
       "      <th>161294</th>\n",
       "      <td>Rheumatoid Arthritis_\"Limited improvement afte...</td>\n",
       "      <td>Negative</td>\n",
       "    </tr>\n",
       "    <tr>\n",
       "      <th>161295</th>\n",
       "      <td>Underactive Thyroid_\"I&amp;#039;ve been on thyroid...</td>\n",
       "      <td>Positive</td>\n",
       "    </tr>\n",
       "    <tr>\n",
       "      <th>161296</th>\n",
       "      <td>Constipation, Chronic_\"I&amp;#039;ve had chronic c...</td>\n",
       "      <td>Positive</td>\n",
       "    </tr>\n",
       "  </tbody>\n",
       "</table>\n",
       "<p>161297 rows × 2 columns</p>\n",
       "</div>"
      ],
      "text/plain": [
       "                                                   report Sentiment\n",
       "0       Left Ventricular Dysfunction_\"It has no side e...  Positive\n",
       "1       ADHD_\"My son is halfway through his fourth wee...  Positive\n",
       "2       Birth Control_\"I used to take another oral con...   Neutral\n",
       "3       Birth Control_\"This is my first time using any...  Positive\n",
       "4       Opiate Dependence_\"Suboxone has completely tur...  Positive\n",
       "...                                                   ...       ...\n",
       "161292  Alcohol Dependence_\"I wrote my first report in...  Positive\n",
       "161293  Nausea/Vomiting_\"I was given this in IV before...  Negative\n",
       "161294  Rheumatoid Arthritis_\"Limited improvement afte...  Negative\n",
       "161295  Underactive Thyroid_\"I&#039;ve been on thyroid...  Positive\n",
       "161296  Constipation, Chronic_\"I&#039;ve had chronic c...  Positive\n",
       "\n",
       "[161297 rows x 2 columns]"
      ]
     },
     "execution_count": 23,
     "metadata": {},
     "output_type": "execute_result"
    }
   ],
   "source": [
    "# Dropping the columns that are not required for the neural network.\n",
    "Prediction_Train_data.drop(['rating','condition','review'],axis=1)\n"
   ]
  },
  {
   "cell_type": "code",
   "execution_count": 24,
   "metadata": {},
   "outputs": [
    {
     "data": {
      "text/html": [
       "<div>\n",
       "<style scoped>\n",
       "    .dataframe tbody tr th:only-of-type {\n",
       "        vertical-align: middle;\n",
       "    }\n",
       "\n",
       "    .dataframe tbody tr th {\n",
       "        vertical-align: top;\n",
       "    }\n",
       "\n",
       "    .dataframe thead th {\n",
       "        text-align: right;\n",
       "    }\n",
       "</style>\n",
       "<table border=\"1\" class=\"dataframe\">\n",
       "  <thead>\n",
       "    <tr style=\"text-align: right;\">\n",
       "      <th></th>\n",
       "      <th>report</th>\n",
       "      <th>Sentiment</th>\n",
       "    </tr>\n",
       "  </thead>\n",
       "  <tbody>\n",
       "    <tr>\n",
       "      <th>0</th>\n",
       "      <td>Depression_\"I&amp;#039;ve tried a few antidepressa...</td>\n",
       "      <td>Positive</td>\n",
       "    </tr>\n",
       "    <tr>\n",
       "      <th>1</th>\n",
       "      <td>Crohn's Disease, Maintenance_\"My son has Crohn...</td>\n",
       "      <td>Positive</td>\n",
       "    </tr>\n",
       "    <tr>\n",
       "      <th>2</th>\n",
       "      <td>Urinary Tract Infection_\"Quick reduction of sy...</td>\n",
       "      <td>Positive</td>\n",
       "    </tr>\n",
       "    <tr>\n",
       "      <th>3</th>\n",
       "      <td>Weight Loss_\"Contrave combines drugs that were...</td>\n",
       "      <td>Positive</td>\n",
       "    </tr>\n",
       "    <tr>\n",
       "      <th>4</th>\n",
       "      <td>Birth Control_\"I have been on this birth contr...</td>\n",
       "      <td>Positive</td>\n",
       "    </tr>\n",
       "    <tr>\n",
       "      <th>...</th>\n",
       "      <td>...</td>\n",
       "      <td>...</td>\n",
       "    </tr>\n",
       "    <tr>\n",
       "      <th>53761</th>\n",
       "      <td>Breast Cancer, Prevention_\"I have taken Tamoxi...</td>\n",
       "      <td>Positive</td>\n",
       "    </tr>\n",
       "    <tr>\n",
       "      <th>53762</th>\n",
       "      <td>Anxiety_\"I&amp;#039;ve been taking Lexapro (escita...</td>\n",
       "      <td>Positive</td>\n",
       "    </tr>\n",
       "    <tr>\n",
       "      <th>53763</th>\n",
       "      <td>Birth Control_\"I&amp;#039;m married, 34 years old ...</td>\n",
       "      <td>Positive</td>\n",
       "    </tr>\n",
       "    <tr>\n",
       "      <th>53764</th>\n",
       "      <td>Pain_\"I was prescribed Nucynta for severe neck...</td>\n",
       "      <td>Negative</td>\n",
       "    </tr>\n",
       "    <tr>\n",
       "      <th>53765</th>\n",
       "      <td>Sciatica_\"It works!!!\"</td>\n",
       "      <td>Positive</td>\n",
       "    </tr>\n",
       "  </tbody>\n",
       "</table>\n",
       "<p>53766 rows × 2 columns</p>\n",
       "</div>"
      ],
      "text/plain": [
       "                                                  report Sentiment\n",
       "0      Depression_\"I&#039;ve tried a few antidepressa...  Positive\n",
       "1      Crohn's Disease, Maintenance_\"My son has Crohn...  Positive\n",
       "2      Urinary Tract Infection_\"Quick reduction of sy...  Positive\n",
       "3      Weight Loss_\"Contrave combines drugs that were...  Positive\n",
       "4      Birth Control_\"I have been on this birth contr...  Positive\n",
       "...                                                  ...       ...\n",
       "53761  Breast Cancer, Prevention_\"I have taken Tamoxi...  Positive\n",
       "53762  Anxiety_\"I&#039;ve been taking Lexapro (escita...  Positive\n",
       "53763  Birth Control_\"I&#039;m married, 34 years old ...  Positive\n",
       "53764  Pain_\"I was prescribed Nucynta for severe neck...  Negative\n",
       "53765                             Sciatica_\"It works!!!\"  Positive\n",
       "\n",
       "[53766 rows x 2 columns]"
      ]
     },
     "execution_count": 24,
     "metadata": {},
     "output_type": "execute_result"
    }
   ],
   "source": [
    "Prediction_Test_data.drop(['rating','condition','review'],axis=1)"
   ]
  },
  {
   "cell_type": "markdown",
   "metadata": {
    "id": "iV2gUF8Lhl2Q"
   },
   "source": [
    "# **per-processing Data(Text data cleaning)**"
   ]
  },
  {
   "cell_type": "code",
   "execution_count": 25,
   "metadata": {
    "executionInfo": {
     "elapsed": 17,
     "status": "ok",
     "timestamp": 1681981210055,
     "user": {
      "displayName": "Sena ALHADHRAMI",
      "userId": "15424902837319805851"
     },
     "user_tz": -120
    },
    "id": "mxbtLXYJhsBo"
   },
   "outputs": [],
   "source": [
    "def clean_text (text):\n",
    "    # Remove Pre and Post Spaces\n",
    "    text = str(text).strip()\n",
    "    \n",
    "    # Lower case the entire text\n",
    "    text = str(text).lower()\n",
    "\n",
    "    # Substitute New Line Characters with spaces \n",
    "    text = re.sub(r\"\\n\", r\" \", text)\n",
    "        \n",
    "    # Tokenize the sentence\n",
    "    word_tokens = word_tokenize(text)\n",
    "    \n",
    "    # Remove the punctuation and  special characters from each individual word\n",
    "    cleaned_text = []\n",
    "    for word in word_tokens:\n",
    "        cleaned_text.append(\"\".join([char for char in word if char.isalnum()]))\n",
    "    \n",
    "    # Specify the stop words list\n",
    "    stop_words = stopwords.words('english')\n",
    "    \n",
    "    # Remove the stopwords and words containing less then 2 characters\n",
    "    text_tokens = [word for word in cleaned_text if (len(word) > 2) and (word not in stop_words)]\n",
    "    \n",
    "    #Lemmatize each word in the word list\n",
    "    text = lemmatize (text_tokens)\n",
    "    \n",
    "    return text"
   ]
  },
  {
   "cell_type": "code",
   "execution_count": 26,
   "metadata": {
    "executionInfo": {
     "elapsed": 16,
     "status": "ok",
     "timestamp": 1681981210055,
     "user": {
      "displayName": "Sena ALHADHRAMI",
      "userId": "15424902837319805851"
     },
     "user_tz": -120
    },
    "id": "i66YZ-iyiT6s"
   },
   "outputs": [],
   "source": [
    "def get_wordnet_pos (tag):\n",
    "    if tag.startswith('J'):\n",
    "        return wordnet.ADJ\n",
    "    elif tag.startswith('V'):\n",
    "        return wordnet.VERB\n",
    "    elif tag.startswith('N'):\n",
    "        return wordnet.NOUN\n",
    "    elif tag.startswith('R'):\n",
    "        return wordnet.ADV\n",
    "    else:\n",
    "        return wordnet.NOUN\n"
   ]
  },
  {
   "cell_type": "code",
   "execution_count": 27,
   "metadata": {
    "executionInfo": {
     "elapsed": 17,
     "status": "ok",
     "timestamp": 1681981210056,
     "user": {
      "displayName": "Sena ALHADHRAMI",
      "userId": "15424902837319805851"
     },
     "user_tz": -120
    },
    "id": "cwIvYdzEnZnQ"
   },
   "outputs": [],
   "source": [
    "def lemmatize (word_list):\n",
    "    wl = WordNetLemmatizer()\n",
    "    word_pos_tags = pos_tag(word_list)\n",
    "    lemmatized_list = []\n",
    "    for tag in word_pos_tags:\n",
    "        lemmatize_word = wl.lemmatize(tag[0],get_wordnet_pos(tag[1]))\n",
    "        lemmatized_list.append(lemmatize_word)\n",
    "    return \" \".join(lemmatized_list)\n"
   ]
  },
  {
   "cell_type": "code",
   "execution_count": 28,
   "metadata": {},
   "outputs": [],
   "source": [
    "Prediction_Train_data['report'] = Prediction_Train_data['report'].map(lambda x: clean_text(x))\n"
   ]
  },
  {
   "cell_type": "code",
   "execution_count": 29,
   "metadata": {},
   "outputs": [],
   "source": [
    "Prediction_Test_data['report'] = Prediction_Test_data['report'].map(lambda x: clean_text(x))"
   ]
  },
  {
   "cell_type": "code",
   "execution_count": 30,
   "metadata": {},
   "outputs": [],
   "source": [
    "Sentiment_train = Prediction_Train_data['Sentiment']\n",
    "Report_train = Prediction_Train_data['report']\n",
    "Sentiment_test = Prediction_Test_data['Sentiment']\n",
    "Report_test = Prediction_Test_data['report']"
   ]
  },
  {
   "cell_type": "code",
   "execution_count": 31,
   "metadata": {},
   "outputs": [
    {
     "data": {
      "text/plain": [
       "0         Positive\n",
       "1         Positive\n",
       "2          Neutral\n",
       "3         Positive\n",
       "4         Positive\n",
       "            ...   \n",
       "161292    Positive\n",
       "161293    Negative\n",
       "161294    Negative\n",
       "161295    Positive\n",
       "161296    Positive\n",
       "Name: Sentiment, Length: 161297, dtype: object"
      ]
     },
     "execution_count": 31,
     "metadata": {},
     "output_type": "execute_result"
    }
   ],
   "source": [
    "Sentiment_train"
   ]
  },
  {
   "cell_type": "code",
   "execution_count": 32,
   "metadata": {},
   "outputs": [
    {
     "data": {
      "text/plain": [
       "0         leave ventricular dysfunction side effect take...\n",
       "1         adhd son halfway fourth week intuniv become co...\n",
       "2         birth control use take another oral contracept...\n",
       "3         birth control first time use form birth contro...\n",
       "4         opiate dependence suboxone completely turn lif...\n",
       "                                ...                        \n",
       "161292    alcohol dependence write first report midoctob...\n",
       "161293    nauseavomiting give surgey immediately become ...\n",
       "161294    rheumatoid arthritis limit improvement month d...\n",
       "161295    underactive thyroid 039 thyroid medication yea...\n",
       "161296    constipation chronic 039 chronic constipation ...\n",
       "Name: report, Length: 161297, dtype: object"
      ]
     },
     "execution_count": 32,
     "metadata": {},
     "output_type": "execute_result"
    }
   ],
   "source": [
    "Report_train\n"
   ]
  },
  {
   "cell_type": "code",
   "execution_count": 33,
   "metadata": {},
   "outputs": [
    {
     "name": "stdout",
     "output_type": "stream",
     "text": [
      "Sentiment_Train shape after one-hot encoding :  (161297, 3)    Sentiment_Test shape after one-hot encoding :  (53766, 3) \n",
      "\n"
     ]
    }
   ],
   "source": [
    "from numpy import array\n",
    "# One-Hot Encoding of Sentiment_Train\n",
    "Sentiment_train = array(Sentiment_train)\n",
    "# integer encode\n",
    "label_encoder = LabelEncoder()\n",
    "Sentiment_train_integer_encoded = label_encoder.fit_transform(Sentiment_train)\n",
    "# binary encode\n",
    "onehot_encoder = OneHotEncoder(sparse=False)\n",
    "Sentiment_train_integer_encoded = Sentiment_train_integer_encoded.reshape(len(Sentiment_train_integer_encoded), 1)\n",
    "Sentiment_train_onehot_encoded = onehot_encoder.fit_transform(Sentiment_train_integer_encoded)\n",
    "# One-Hot Encoding of Sentiment_Test\n",
    "Sentiment_test = array(Sentiment_test)\n",
    "# integer encode\n",
    "label_encoder = LabelEncoder()\n",
    "Sentiment_test_integer_encoded = label_encoder.fit_transform(Sentiment_test)\n",
    "# binary encode\n",
    "onehot_encoder = OneHotEncoder(sparse=False)\n",
    "Sentiment_test_integer_encoded = Sentiment_test_integer_encoded.reshape(len(Sentiment_test_integer_encoded), 1)\n",
    "Sentiment_test_onehot_encoded = onehot_encoder.fit_transform(Sentiment_test_integer_encoded)\n",
    "print(\"Sentiment_Train shape after one-hot encoding : \",Sentiment_train_onehot_encoded.shape,\"  \"\n",
    "     ,\"Sentiment_Test shape after one-hot encoding : \",Sentiment_test_onehot_encoded.shape,\"\\n\")"
   ]
  },
  {
   "cell_type": "code",
   "execution_count": 34,
   "metadata": {},
   "outputs": [
    {
     "name": "stdout",
     "output_type": "stream",
     "text": [
      "Report_Train shape after padding :  (161297, 100)    Report_Test shape after padding:  (53766, 100)\n"
     ]
    }
   ],
   "source": [
    "# Tokenize and Create Sequence For Train set\n",
    "tokenizer = Tokenizer(num_words = 10000)\n",
    "tokenizer.fit_on_texts(Report_train)\n",
    "Report_train_sequences = tokenizer.texts_to_sequences(Report_train)\n",
    "Report_train_padded = pad_sequences(Report_train_sequences, maxlen=100, padding='post', truncating='post')             # maxlen is the size of words in a review here it is 100\n",
    "# Tokenize and Create Sequence For Test set\n",
    "Report_test_sequences = tokenizer.texts_to_sequences(Report_test)\n",
    "Report_test_padded = pad_sequences(Report_test_sequences, maxlen=100, padding='post', truncating='post')\n",
    "print(\"Report_Train shape after padding : \",Report_train_padded.shape,\"  \",\"Report_Test shape after padding: \",Report_test_padded.shape)\n",
    "Sentiment_labels = ['Negative', 'Neutral', 'Positive']              #  0:Negative   1: Neutral  2:Positive"
   ]
  },
  {
   "cell_type": "code",
   "execution_count": 35,
   "metadata": {},
   "outputs": [
    {
     "data": {
      "text/plain": [
       "array([[  41,    1,  326, ...,    0,    0,    0],\n",
       "       [1125,  413,  752, ...,    0,    0,    0],\n",
       "       [ 506,  531,   80, ...,    0,    0,    0],\n",
       "       ...,\n",
       "       [  17,   13,    1, ...,    0,    0,    0],\n",
       "       [   9,   84, 1634, ...,    0,    0,    0],\n",
       "       [1691,    7,    0, ...,    0,    0,    0]])"
      ]
     },
     "execution_count": 35,
     "metadata": {},
     "output_type": "execute_result"
    }
   ],
   "source": [
    "Report_test_padded"
   ]
  },
  {
   "cell_type": "code",
   "execution_count": 36,
   "metadata": {},
   "outputs": [
    {
     "data": {
      "text/plain": [
       "{1: '039',\n",
       " 2: 'take',\n",
       " 3: 'day',\n",
       " 4: 'get',\n",
       " 5: 'month',\n",
       " 6: 'year',\n",
       " 7: 'work',\n",
       " 8: 'week',\n",
       " 9: 'pain',\n",
       " 10: 'start',\n",
       " 11: 'effect',\n",
       " 12: 'side',\n",
       " 13: 'control',\n",
       " 14: 'time',\n",
       " 15: 'go',\n",
       " 16: 'feel',\n",
       " 17: 'birth',\n",
       " 18: 'first',\n",
       " 19: 'like',\n",
       " 20: 'pill',\n",
       " 21: 'period',\n",
       " 22: 'use',\n",
       " 23: 'bad',\n",
       " 24: 'make',\n",
       " 25: 'help',\n",
       " 26: 'well',\n",
       " 27: 'would',\n",
       " 28: 'anxiety',\n",
       " 29: 'back',\n",
       " 30: 'try',\n",
       " 31: 'medication',\n",
       " 32: 'one',\n",
       " 33: 'doctor',\n",
       " 34: 'weight',\n",
       " 35: 'also',\n",
       " 36: 'good',\n",
       " 37: 'give',\n",
       " 38: 'medicine',\n",
       " 39: 'since',\n",
       " 40: 'life',\n",
       " 41: 'depression',\n",
       " 42: 'still',\n",
       " 43: 'stop',\n",
       " 44: 'really',\n",
       " 45: 'much',\n",
       " 46: 'experience',\n",
       " 47: 'sleep',\n",
       " 48: 'acne',\n",
       " 49: 'never',\n",
       " 50: 'hour',\n",
       " 51: 'two',\n",
       " 52: 'quot',\n",
       " 53: 'say',\n",
       " 54: 'last',\n",
       " 55: 'felt',\n",
       " 56: 'think',\n",
       " 57: 'night',\n",
       " 58: 'even',\n",
       " 59: 'every',\n",
       " 60: 'gain',\n",
       " 61: 'great',\n",
       " 62: 'drug',\n",
       " 63: 'thing',\n",
       " 64: 'cramp',\n",
       " 65: 'ago',\n",
       " 66: 'lose',\n",
       " 67: 'dose',\n",
       " 68: 'little',\n",
       " 69: 'come',\n",
       " 70: 'put',\n",
       " 71: 'find',\n",
       " 72: 'know',\n",
       " 73: 'problem',\n",
       " 74: 'almost',\n",
       " 75: 'could',\n",
       " 76: 'headache',\n",
       " 77: 'change',\n",
       " 78: 'severe',\n",
       " 79: 'want',\n",
       " 80: 'infection',\n",
       " 81: 'lot',\n",
       " 82: 'recommend',\n",
       " 83: 'mood',\n",
       " 84: 'prescribe',\n",
       " 85: 'see',\n",
       " 86: 'need',\n",
       " 87: 'skin',\n",
       " 88: 'eat',\n",
       " 89: 'long',\n",
       " 90: 'amp',\n",
       " 91: 'bleed',\n",
       " 92: 'far',\n",
       " 93: 'ever',\n",
       " 94: 'nothing',\n",
       " 95: 'away',\n",
       " 96: 'symptom',\n",
       " 97: 'nausea',\n",
       " 98: 'cause',\n",
       " 99: 'migraine',\n",
       " 100: 'sex',\n",
       " 101: 'tell',\n",
       " 102: 'blood',\n",
       " 103: 'high',\n",
       " 104: 'normal',\n",
       " 105: 'seem',\n",
       " 106: 'love',\n",
       " 107: 'without',\n",
       " 108: 'old',\n",
       " 109: 'keep',\n",
       " 110: 'morning',\n",
       " 111: 'disorde',\n",
       " 112: 'body',\n",
       " 113: 'however',\n",
       " 114: 'notice',\n",
       " 115: 'loss',\n",
       " 116: 'within',\n",
       " 117: 'always',\n",
       " 118: 'horrible',\n",
       " 119: 'many',\n",
       " 120: 'med',\n",
       " 121: 'next',\n",
       " 122: 'switch',\n",
       " 123: 'clear',\n",
       " 124: 'spot',\n",
       " 125: 'around',\n",
       " 126: 'pound',\n",
       " 127: 'low',\n",
       " 128: 'due',\n",
       " 129: 'right',\n",
       " 130: 'able',\n",
       " 131: 'stomach',\n",
       " 132: 'finally',\n",
       " 133: 'begin',\n",
       " 134: 'suffer',\n",
       " 135: 'increase',\n",
       " 136: 'three',\n",
       " 137: 'happy',\n",
       " 138: 'second',\n",
       " 139: 'best',\n",
       " 140: 'later',\n",
       " 141: 'issue',\n",
       " 142: 'different',\n",
       " 143: 'sure',\n",
       " 144: 'way',\n",
       " 145: 'panic',\n",
       " 146: 'though',\n",
       " 147: 'people',\n",
       " 148: 'daily',\n",
       " 149: 'insomnia',\n",
       " 150: 'anything',\n",
       " 151: 'attack',\n",
       " 152: 'swing',\n",
       " 153: 'drive',\n",
       " 154: 'less',\n",
       " 155: 'light',\n",
       " 156: 'become',\n",
       " 157: 'completely',\n",
       " 158: 'another',\n",
       " 159: 'review',\n",
       " 160: 'something',\n",
       " 161: 'couple',\n",
       " 162: 'read',\n",
       " 163: 'face',\n",
       " 164: 'pressure',\n",
       " 165: 'result',\n",
       " 166: 'wake',\n",
       " 167: 'dry',\n",
       " 168: 'everything',\n",
       " 169: 'shot',\n",
       " 170: 'end',\n",
       " 171: 'half',\n",
       " 172: 'minute',\n",
       " 173: 'new',\n",
       " 174: 'worth',\n",
       " 175: 'bipolar',\n",
       " 176: 'may',\n",
       " 177: 'relief',\n",
       " 178: 'terrible',\n",
       " 179: 'heavy',\n",
       " 180: 'look',\n",
       " 181: 'decide',\n",
       " 182: 'hope',\n",
       " 183: 'stay',\n",
       " 184: 'pretty',\n",
       " 185: 'painful',\n",
       " 186: 'extremely',\n",
       " 187: 'appetite',\n",
       " 188: 'bit',\n",
       " 189: 'past',\n",
       " 190: 'effective',\n",
       " 191: 'break',\n",
       " 192: 'actually',\n",
       " 193: 'today',\n",
       " 194: 'definitely',\n",
       " 195: 'pregnant',\n",
       " 196: 'leave',\n",
       " 197: 'water',\n",
       " 198: 'chronic',\n",
       " 199: 'drink',\n",
       " 200: 'bed',\n",
       " 201: 'feeling',\n",
       " 202: 'constipation',\n",
       " 203: 'continue',\n",
       " 204: 'treatment',\n",
       " 205: 'hard',\n",
       " 206: 'twice',\n",
       " 207: 'sometimes',\n",
       " 208: 'thought',\n",
       " 209: 'several',\n",
       " 210: 'type',\n",
       " 211: 'stress',\n",
       " 212: 'product',\n",
       " 213: 'full',\n",
       " 214: 'major',\n",
       " 215: 'diagnose',\n",
       " 216: 'muscle',\n",
       " 217: 'everyone',\n",
       " 218: 'anyone',\n",
       " 219: 'fine',\n",
       " 220: 'enough',\n",
       " 221: 'insurance',\n",
       " 222: 'mouth',\n",
       " 223: 'smoke',\n",
       " 224: 'big',\n",
       " 225: 'do',\n",
       " 226: 'dosage',\n",
       " 227: 'bowel',\n",
       " 228: 'sick',\n",
       " 229: 'point',\n",
       " 230: 'food',\n",
       " 231: 'adhd',\n",
       " 232: 'energy',\n",
       " 233: 'burn',\n",
       " 234: 'happen',\n",
       " 235: 'level',\n",
       " 236: 'taste',\n",
       " 237: 'small',\n",
       " 238: 'patch',\n",
       " 239: 'already',\n",
       " 240: 'wait',\n",
       " 241: 'breast',\n",
       " 242: 'least',\n",
       " 243: 'cough',\n",
       " 244: 'heart',\n",
       " 245: 'negative',\n",
       " 246: 'hurt',\n",
       " 247: 'else',\n",
       " 248: 'difference',\n",
       " 249: 'cry',\n",
       " 250: 'mild',\n",
       " 251: 'head',\n",
       " 252: 'insertion',\n",
       " 253: 'injection',\n",
       " 254: 'disorder',\n",
       " 255: 'diarrhea',\n",
       " 256: 'overall',\n",
       " 257: 'plan',\n",
       " 258: 'deal',\n",
       " 259: 'yeast',\n",
       " 260: 'maybe',\n",
       " 261: 'longer',\n",
       " 262: 'hair',\n",
       " 263: 'free',\n",
       " 264: 'remove',\n",
       " 265: 'cold',\n",
       " 266: 'recently',\n",
       " 267: 'soon',\n",
       " 268: 'worry',\n",
       " 269: 'exercise',\n",
       " 270: 'absolutely',\n",
       " 271: 'eye',\n",
       " 272: 'awful',\n",
       " 273: 'extreme',\n",
       " 274: 'usually',\n",
       " 275: 'anymore',\n",
       " 276: 'call',\n",
       " 277: 'insert',\n",
       " 278: 'affect',\n",
       " 279: 'reason',\n",
       " 280: 'fall',\n",
       " 281: 'quit',\n",
       " 282: 'bleeding',\n",
       " 283: 'test',\n",
       " 284: 'syndrome',\n",
       " 285: 'easy',\n",
       " 286: 'walk',\n",
       " 287: 'per',\n",
       " 288: 'immediately',\n",
       " 289: 'etc',\n",
       " 290: 'whole',\n",
       " 291: 'sweat',\n",
       " 292: 'others',\n",
       " 293: 'ask',\n",
       " 294: 'miracle',\n",
       " 295: 'pregnancy',\n",
       " 296: 'surgery',\n",
       " 297: 'pack',\n",
       " 298: 'tire',\n",
       " 299: 'wonder',\n",
       " 300: 'sore',\n",
       " 301: 'yet',\n",
       " 302: 'diet',\n",
       " 303: 'constant',\n",
       " 304: 'although',\n",
       " 305: 'job',\n",
       " 306: 'short',\n",
       " 307: 'remember',\n",
       " 308: 'crazy',\n",
       " 309: 'hand',\n",
       " 310: 'person',\n",
       " 311: 'itch',\n",
       " 312: 'believe',\n",
       " 313: 'along',\n",
       " 314: 'fatigue',\n",
       " 315: 'lbs',\n",
       " 316: 'mirena',\n",
       " 317: 'let',\n",
       " 318: 'live',\n",
       " 319: 'nauseous',\n",
       " 320: '100',\n",
       " 321: 'positive',\n",
       " 322: 'part',\n",
       " 323: 'withdrawal',\n",
       " 324: 'everyday',\n",
       " 325: 'obesity',\n",
       " 326: 'tried',\n",
       " 327: 'prescription',\n",
       " 328: 'vomit',\n",
       " 329: 'lexapro',\n",
       " 330: 'zoloft',\n",
       " 331: 'tablet',\n",
       " 332: 'slight',\n",
       " 333: 'hop',\n",
       " 334: 'wish',\n",
       " 335: 'reduce',\n",
       " 336: 'cycle',\n",
       " 337: 'regular',\n",
       " 338: 'follow',\n",
       " 339: 'asleep',\n",
       " 340: 'scar',\n",
       " 341: 'improve',\n",
       " 342: 'highly',\n",
       " 343: 'diabetes',\n",
       " 344: 'nexplanon',\n",
       " 345: 'emergency',\n",
       " 346: 'run',\n",
       " 347: 'arm',\n",
       " 348: 'stuff',\n",
       " 349: 'talk',\n",
       " 350: 'four',\n",
       " 351: 'decrease',\n",
       " 352: 'amaze',\n",
       " 353: 'cream',\n",
       " 354: 'constantly',\n",
       " 355: 'prescribed',\n",
       " 356: 'child',\n",
       " 357: 'move',\n",
       " 358: 'add',\n",
       " 359: 'doc',\n",
       " 360: 'mind',\n",
       " 361: 'drop',\n",
       " 362: 'vaginal',\n",
       " 363: 'turn',\n",
       " 364: 'home',\n",
       " 365: 'hot',\n",
       " 366: 'develop',\n",
       " 367: 'leg',\n",
       " 368: '10mg',\n",
       " 369: 'school',\n",
       " 370: 'pay',\n",
       " 371: 'probably',\n",
       " 372: 'either',\n",
       " 373: 'place',\n",
       " 374: 'reaction',\n",
       " 375: 'quite',\n",
       " 376: 'foot',\n",
       " 377: 'thank',\n",
       " 378: 'early',\n",
       " 379: 'suggest',\n",
       " 380: 'cover',\n",
       " 381: 'wear',\n",
       " 382: 'tired',\n",
       " 383: 'depress',\n",
       " 384: 'generic',\n",
       " 385: 'arthritis',\n",
       " 386: 'dizziness',\n",
       " 387: 'rsquo',\n",
       " 388: 'bloat',\n",
       " 389: 'fast',\n",
       " 390: 'save',\n",
       " 391: 'improvement',\n",
       " 392: 'please',\n",
       " 393: 'hospital',\n",
       " 394: 'chest',\n",
       " 395: 'dizzy',\n",
       " 396: 'antibiotic',\n",
       " 397: 'implant',\n",
       " 398: 'care',\n",
       " 399: 'husband',\n",
       " 400: 'function',\n",
       " 401: 'emotional',\n",
       " 402: 'iud',\n",
       " 403: 'allergic',\n",
       " 404: 'calm',\n",
       " 405: 'literally',\n",
       " 406: 'plus',\n",
       " 407: 'might',\n",
       " 408: 'quickly',\n",
       " 409: 'huge',\n",
       " 410: 'hormone',\n",
       " 411: 'healthy',\n",
       " 412: 'antidepressant',\n",
       " 413: 'disease',\n",
       " 414: 'swell',\n",
       " 415: 'ache',\n",
       " 416: 'super',\n",
       " 417: 'treat',\n",
       " 418: 'third',\n",
       " 419: 'except',\n",
       " 420: 'xanax',\n",
       " 421: 'age',\n",
       " 422: 'contraception',\n",
       " 423: 'post',\n",
       " 424: 'amount',\n",
       " 425: 'sugar',\n",
       " 426: 'anxious',\n",
       " 427: 'realize',\n",
       " 428: 'family',\n",
       " 429: 'irritable',\n",
       " 430: 'dream',\n",
       " 431: 'cost',\n",
       " 432: 'knee',\n",
       " 433: 'finish',\n",
       " 434: 'stick',\n",
       " 435: 'miss',\n",
       " 436: 'rest',\n",
       " 437: 'cymbalta',\n",
       " 438: 'yes',\n",
       " 439: 'kind',\n",
       " 440: 'glad',\n",
       " 441: 'trouble',\n",
       " 442: 'implanon',\n",
       " 443: 'entire',\n",
       " 444: 'lb',\n",
       " 445: 'weigh',\n",
       " 446: 'brain',\n",
       " 447: 'abnormal',\n",
       " 448: '20mg',\n",
       " 449: 'wonderful',\n",
       " 450: 'moody',\n",
       " 451: 'cut',\n",
       " 452: 'noticed',\n",
       " 453: 'kid',\n",
       " 454: 'luck',\n",
       " 455: 'focus',\n",
       " 456: 'strong',\n",
       " 457: 'boyfriend',\n",
       " 458: 'form',\n",
       " 459: 'especially',\n",
       " 460: 'baby',\n",
       " 461: 'currently',\n",
       " 462: 'depressed',\n",
       " 463: 'expensive',\n",
       " 464: 'neck',\n",
       " 465: 'return',\n",
       " 466: 'gotten',\n",
       " 467: 'son',\n",
       " 468: 'seizure',\n",
       " 469: 'struggle',\n",
       " 470: 'course',\n",
       " 471: 'prior',\n",
       " 472: 'joint',\n",
       " 473: 'woman',\n",
       " 474: '2nd',\n",
       " 475: 'prozac',\n",
       " 476: 'honestly',\n",
       " 477: 'instead',\n",
       " 478: 'totally',\n",
       " 479: 'friend',\n",
       " 480: 'late',\n",
       " 481: 'fact',\n",
       " 482: 'often',\n",
       " 483: 'red',\n",
       " 484: 'condition',\n",
       " 485: 'spasm',\n",
       " 486: 'barely',\n",
       " 487: 'active',\n",
       " 488: 'straight',\n",
       " 489: 'uterine',\n",
       " 490: 'hungry',\n",
       " 491: 'brand',\n",
       " 492: 'suppose',\n",
       " 493: 'nearly',\n",
       " 494: '3rd',\n",
       " 495: 'area',\n",
       " 496: 'depressive',\n",
       " 497: 'size',\n",
       " 498: 'guess',\n",
       " 499: 'consider',\n",
       " 500: 'expect',\n",
       " 501: 'effexor',\n",
       " 502: 'six',\n",
       " 503: 'include',\n",
       " 504: 'real',\n",
       " 505: 'opiate',\n",
       " 506: 'urinary',\n",
       " 507: 'bathroom',\n",
       " 508: 'experienced',\n",
       " 509: 'helpful',\n",
       " 510: 'rather',\n",
       " 511: 'someone',\n",
       " 512: 'comment',\n",
       " 513: 'depo',\n",
       " 514: 'wellbutrin',\n",
       " 515: '2015',\n",
       " 516: 'must',\n",
       " 517: '50mg',\n",
       " 518: 'prevention',\n",
       " 519: '1st',\n",
       " 520: 'weird',\n",
       " 521: 'yesterday',\n",
       " 522: 'case',\n",
       " 523: 'sit',\n",
       " 524: 'legs',\n",
       " 525: 'slowly',\n",
       " 526: 'hopefully',\n",
       " 527: 'flash',\n",
       " 528: 'saw',\n",
       " 529: 'hate',\n",
       " 530: 'apply',\n",
       " 531: 'tract',\n",
       " 532: 'bacterial',\n",
       " 533: 'intense',\n",
       " 534: 'self',\n",
       " 535: 'throw',\n",
       " 536: 'mean',\n",
       " 537: 'psoriasis',\n",
       " 538: 'god',\n",
       " 539: 'pimple',\n",
       " 540: 'normally',\n",
       " 541: 'check',\n",
       " 542: 'craving',\n",
       " 543: 'buy',\n",
       " 544: 'sleepy',\n",
       " 545: 'alcohol',\n",
       " 546: 'paxil',\n",
       " 547: 'unfortunately',\n",
       " 548: 'term',\n",
       " 549: 'multiple',\n",
       " 550: 'rid',\n",
       " 551: 'five',\n",
       " 552: 'amazing',\n",
       " 553: 'social',\n",
       " 554: 'forget',\n",
       " 555: 'subside',\n",
       " 556: 'breakout',\n",
       " 557: 'skyla',\n",
       " 558: 'preparation',\n",
       " 559: 'procedure',\n",
       " 560: 'minor',\n",
       " 561: 'none',\n",
       " 562: 'health',\n",
       " 563: 'rash',\n",
       " 564: 'asthma',\n",
       " 565: 'possible',\n",
       " 566: 'nerve',\n",
       " 567: 'kick',\n",
       " 568: 'total',\n",
       " 569: 'allergy',\n",
       " 570: 'relieve',\n",
       " 571: 'write',\n",
       " 572: 'slightly',\n",
       " 573: 'min',\n",
       " 574: 'nose',\n",
       " 575: 'eventually',\n",
       " 576: 'throat',\n",
       " 577: 'pass',\n",
       " 578: 'upset',\n",
       " 579: 'serious',\n",
       " 580: 'nervous',\n",
       " 581: 'celexa',\n",
       " 582: '5mg',\n",
       " 583: 'worse',\n",
       " 584: 'option',\n",
       " 585: 'prevent',\n",
       " 586: 'uncomfortable',\n",
       " 587: 'awake',\n",
       " 588: 'fibromyalgia',\n",
       " 589: 'system',\n",
       " 590: 'dos',\n",
       " 591: 'complete',\n",
       " 592: 'cessation',\n",
       " 593: 'nightmare',\n",
       " 594: 'hit',\n",
       " 595: 'close',\n",
       " 596: 'meal',\n",
       " 597: 'suicidal',\n",
       " 598: 'okay',\n",
       " 599: 'yaz',\n",
       " 600: 'mention',\n",
       " 601: 'sinus',\n",
       " 602: 'yr',\n",
       " 603: 'slow',\n",
       " 604: 'difficult',\n",
       " 605: '100mg',\n",
       " 606: 'research',\n",
       " 607: 'lower',\n",
       " 608: 'ibromyalgia',\n",
       " 609: 'sensitive',\n",
       " 610: 'bottle',\n",
       " 611: 'single',\n",
       " 612: 'dermatologist',\n",
       " 613: 'irregular',\n",
       " 614: 'bladder',\n",
       " 615: 'episode',\n",
       " 616: 'zero',\n",
       " 617: 'show',\n",
       " 618: 'benefit',\n",
       " 619: 'truly',\n",
       " 620: 'die',\n",
       " 621: 'allow',\n",
       " 622: 'occasional',\n",
       " 623: 'rate',\n",
       " 624: 'easily',\n",
       " 625: 'minimal',\n",
       " 626: 'chantix',\n",
       " 627: 'breathe',\n",
       " 628: 'seroquel',\n",
       " 629: 'patient',\n",
       " 630: 'usual',\n",
       " 631: 'vision',\n",
       " 632: 'handle',\n",
       " 633: 'unbearable',\n",
       " 634: 'male',\n",
       " 635: 'thyroid',\n",
       " 636: 'combination',\n",
       " 637: 'daughter',\n",
       " 638: 'osteoarthritis',\n",
       " 639: '2016',\n",
       " 640: 'state',\n",
       " 641: 'throughout',\n",
       " 642: 'thanks',\n",
       " 643: 'wrong',\n",
       " 644: 'nuvaring',\n",
       " 645: 'loestrin',\n",
       " 646: 'cure',\n",
       " 647: 'libido',\n",
       " 648: 'compare',\n",
       " 649: 'dysfunction',\n",
       " 650: 'generalize',\n",
       " 651: 'stand',\n",
       " 652: 'restless',\n",
       " 653: 'enjoy',\n",
       " 654: 'cancer',\n",
       " 655: 'clean',\n",
       " 656: 'hell',\n",
       " 657: 'adjust',\n",
       " 658: 'perfect',\n",
       " 659: 'mostly',\n",
       " 660: 'large',\n",
       " 661: 'lack',\n",
       " 662: 'movement',\n",
       " 663: 'unable',\n",
       " 664: 'ambien',\n",
       " 665: 'bone',\n",
       " 666: 'cyst',\n",
       " 667: '25mg',\n",
       " 668: 'miserable',\n",
       " 669: 'dependence',\n",
       " 670: 'story',\n",
       " 671: 'list',\n",
       " 672: 'adderall',\n",
       " 673: 'discomfort',\n",
       " 674: 'female',\n",
       " 675: 'complaint',\n",
       " 676: 'avoid',\n",
       " 677: 'worst',\n",
       " 678: 'condom',\n",
       " 679: 'user',\n",
       " 680: 'contrave',\n",
       " 681: 'angry',\n",
       " 682: 'pharmacy',\n",
       " 683: 'breakthrough',\n",
       " 684: 'awesome',\n",
       " 685: 'klonopin',\n",
       " 686: 'mine',\n",
       " 687: 'breath',\n",
       " 688: 'lyrica',\n",
       " 689: 'house',\n",
       " 690: 'itchy',\n",
       " 691: 'bring',\n",
       " 692: 'manage',\n",
       " 693: 'matter',\n",
       " 694: 'afraid',\n",
       " 695: 'figure',\n",
       " 696: 'send',\n",
       " 697: 'cystic',\n",
       " 698: 'process',\n",
       " 699: 'anyway',\n",
       " 700: 'ready',\n",
       " 701: 'pristiq',\n",
       " 702: 'receive',\n",
       " 703: 'disappear',\n",
       " 704: 'sexual',\n",
       " 705: 'sad',\n",
       " 706: 'memory',\n",
       " 707: 'march',\n",
       " 708: 'ring',\n",
       " 709: 'shoulder',\n",
       " 710: 'ear',\n",
       " 711: 'fear',\n",
       " 712: 'rheumatoid',\n",
       " 713: 'appointment',\n",
       " 714: 'cholesterol',\n",
       " 715: 'top',\n",
       " 716: 'kill',\n",
       " 717: 'sample',\n",
       " 718: 'grow',\n",
       " 719: 'inside',\n",
       " 720: 'therapy',\n",
       " 721: 'suboxone',\n",
       " 722: 'initially',\n",
       " 723: 'flu',\n",
       " 724: 'number',\n",
       " 725: 'moderate',\n",
       " 726: 'price',\n",
       " 727: 'middle',\n",
       " 728: 'ten',\n",
       " 729: 'hardly',\n",
       " 730: 'shake',\n",
       " 731: 'discharge',\n",
       " 732: 'prep',\n",
       " 733: 'method',\n",
       " 734: 'quick',\n",
       " 735: 'nasal',\n",
       " 736: 'idea',\n",
       " 737: 'lay',\n",
       " 738: 'annoy',\n",
       " 739: 'choice',\n",
       " 740: 'june',\n",
       " 741: 'money',\n",
       " 742: 'uti',\n",
       " 743: 'july',\n",
       " 744: 'erectile',\n",
       " 745: 'ibuprofen',\n",
       " 746: 'lip',\n",
       " 747: 'hear',\n",
       " 748: 'name',\n",
       " 749: 'race',\n",
       " 750: 'fever',\n",
       " 751: 'basically',\n",
       " 752: 'maintenance',\n",
       " 753: 'flare',\n",
       " 754: 'extra',\n",
       " 755: 'menstrual',\n",
       " 756: 'psychiatrist',\n",
       " 757: 'bedtime',\n",
       " 758: 'discontinue',\n",
       " 759: 'hold',\n",
       " 760: 'nice',\n",
       " 761: 'update',\n",
       " 762: 'exactly',\n",
       " 763: 'kidney',\n",
       " 764: 'mental',\n",
       " 765: 'deep',\n",
       " 766: 'mess',\n",
       " 767: 'quality',\n",
       " 768: 'concern',\n",
       " 769: 'noticeable',\n",
       " 770: 'emotion',\n",
       " 771: '40mg',\n",
       " 772: 'wife',\n",
       " 773: 'gel',\n",
       " 774: 'physical',\n",
       " 775: 'open',\n",
       " 776: 'abdominal',\n",
       " 777: 'general',\n",
       " 778: 'otherwise',\n",
       " 779: 'accutane',\n",
       " 780: 'tingle',\n",
       " 781: 'tramadol',\n",
       " 782: 'hormonal',\n",
       " 783: 'abilify',\n",
       " 784: 'loose',\n",
       " 785: '30mg',\n",
       " 786: 'vyvanse',\n",
       " 787: 'regulate',\n",
       " 788: 'previously',\n",
       " 789: 'significant',\n",
       " 790: 'college',\n",
       " 791: 'watch',\n",
       " 792: 'wash',\n",
       " 793: 'sprintec',\n",
       " 794: 'lamictal',\n",
       " 795: 'smell',\n",
       " 796: 'endometriosis',\n",
       " 797: 'flow',\n",
       " 798: 'chance',\n",
       " 799: 'relationship',\n",
       " 800: 'frequent',\n",
       " 801: 'success',\n",
       " 802: 'congestion',\n",
       " 803: 'visit',\n",
       " 804: 'nurse',\n",
       " 805: 'room',\n",
       " 806: 'finger',\n",
       " 807: 'non',\n",
       " 808: 'freak',\n",
       " 809: 'situation',\n",
       " 810: 'young',\n",
       " 811: 'tomorrow',\n",
       " 812: 'august',\n",
       " 813: 'ortho',\n",
       " 814: 'january',\n",
       " 815: 'bronchitis',\n",
       " 816: 'drowsy',\n",
       " 817: 'unprotected',\n",
       " 818: '2014',\n",
       " 819: '4th',\n",
       " 820: 'april',\n",
       " 821: 'understand',\n",
       " 822: 'site',\n",
       " 823: 'tolerance',\n",
       " 824: 'chill',\n",
       " 825: 'cup',\n",
       " 826: 'numb',\n",
       " 827: 'upper',\n",
       " 828: 'careful',\n",
       " 829: 'suck',\n",
       " 830: 'reading',\n",
       " 831: 'fail',\n",
       " 832: 'saver',\n",
       " 833: 'company',\n",
       " 834: 'sensation',\n",
       " 835: 'colonoscopy',\n",
       " 836: 'mom',\n",
       " 837: 'warn',\n",
       " 838: 'initial',\n",
       " 839: 'share',\n",
       " 840: 'near',\n",
       " 841: 'relax',\n",
       " 842: 'seriously',\n",
       " 843: 'heal',\n",
       " 844: 'bother',\n",
       " 845: 'greatly',\n",
       " 846: 'rhinitis',\n",
       " 847: 'clot',\n",
       " 848: 'lead',\n",
       " 849: 'damage',\n",
       " 850: 'scary',\n",
       " 851: 'market',\n",
       " 852: 'gas',\n",
       " 853: 'acid',\n",
       " 854: 'together',\n",
       " 855: 'wean',\n",
       " 856: 'con',\n",
       " 857: 'chin',\n",
       " 858: 'obsessive',\n",
       " 859: 'significantly',\n",
       " 860: 'habit',\n",
       " 861: 'stone',\n",
       " 862: 'somewhat',\n",
       " 863: 'alone',\n",
       " 864: 'risk',\n",
       " 865: '150',\n",
       " 866: 'hr',\n",
       " 867: 'tolerate',\n",
       " 868: 'belviq',\n",
       " 869: 'ease',\n",
       " 870: 'desire',\n",
       " 871: 'gerd',\n",
       " 872: 'gabapentin',\n",
       " 873: 'occasionally',\n",
       " 874: 'hive',\n",
       " 875: 'besides',\n",
       " 876: 'hip',\n",
       " 877: 'release',\n",
       " 878: 'speak',\n",
       " 879: 'taking',\n",
       " 880: 'bump',\n",
       " 881: 'weak',\n",
       " 882: 'whatsoever',\n",
       " 883: 'erection',\n",
       " 884: 'ate',\n",
       " 885: 'stool',\n",
       " 886: 'previous',\n",
       " 887: 'decision',\n",
       " 888: 'ssri',\n",
       " 889: 'sinusitis',\n",
       " 890: 'liver',\n",
       " 891: 'used',\n",
       " 892: 'epiduo',\n",
       " 893: 'difficulty',\n",
       " 894: 'similar',\n",
       " 895: 'drowsiness',\n",
       " 896: 'fell',\n",
       " 897: 'counter',\n",
       " 898: 'crave',\n",
       " 899: 'hat',\n",
       " 900: 'span',\n",
       " 901: '200',\n",
       " 902: 'tiredness',\n",
       " 903: 'disc',\n",
       " 904: 'advice',\n",
       " 905: 'downside',\n",
       " 906: 'fight',\n",
       " 907: 'october',\n",
       " 908: 'spend',\n",
       " 909: 'excellent',\n",
       " 910: 'learn',\n",
       " 911: 'agree',\n",
       " 912: 'order',\n",
       " 913: '150mg',\n",
       " 914: 'mother',\n",
       " 915: 'ocd',\n",
       " 916: 'schedule',\n",
       " 917: 'topamax',\n",
       " 918: 'touch',\n",
       " 919: 'world',\n",
       " 920: 'force',\n",
       " 921: 'wow',\n",
       " 922: 'pad',\n",
       " 923: 'round',\n",
       " 924: 'nauseavomiting',\n",
       " 925: 'thankful',\n",
       " 926: 'differently',\n",
       " 927: 'slept',\n",
       " 928: 'accident',\n",
       " 929: 'ativan',\n",
       " 930: 'december',\n",
       " 931: 'pull',\n",
       " 932: 'medical',\n",
       " 933: 'phentermine',\n",
       " 934: 'addict',\n",
       " 935: 'office',\n",
       " 936: 'set',\n",
       " 937: 'knock',\n",
       " 938: 'afternoon',\n",
       " 939: 'oral',\n",
       " 940: 'strange',\n",
       " 941: 'car',\n",
       " 942: 'despite',\n",
       " 943: 'empty',\n",
       " 944: 'zombie',\n",
       " 945: 'afterwards',\n",
       " 946: 'urge',\n",
       " 947: 'methadone',\n",
       " 948: 'ton',\n",
       " 949: 'advise',\n",
       " 950: 'lung',\n",
       " 951: 'dark',\n",
       " 952: 'sign',\n",
       " 953: 'fix',\n",
       " 954: 'vivid',\n",
       " 955: 'forward',\n",
       " 956: 'acute',\n",
       " 957: 'lady',\n",
       " 958: 'count',\n",
       " 959: 'random',\n",
       " 960: 'sort',\n",
       " 961: 'anger',\n",
       " 962: 'available',\n",
       " 963: 'white',\n",
       " 964: 'concentrate',\n",
       " 965: 'till',\n",
       " 966: 'complain',\n",
       " 967: 'sickness',\n",
       " 968: 'liquid',\n",
       " 969: 'drank',\n",
       " 970: 'note',\n",
       " 971: 'girl',\n",
       " 972: 'moment',\n",
       " 973: 'unless',\n",
       " 974: 'beat',\n",
       " 975: 'worsen',\n",
       " 976: 'push',\n",
       " 977: 'cheek',\n",
       " 978: 'redness',\n",
       " 979: 'immediate',\n",
       " 980: 'drinking',\n",
       " 981: 'occur',\n",
       " 982: 'rarely',\n",
       " 983: 'toilet',\n",
       " 984: 'mark',\n",
       " 985: 'important',\n",
       " 986: 'react',\n",
       " 987: 'reach',\n",
       " 988: 'nasty',\n",
       " 989: 'balance',\n",
       " 990: 'ill',\n",
       " 991: 'severely',\n",
       " 992: 'double',\n",
       " 993: 'yrs',\n",
       " 994: 'remain',\n",
       " 995: 'fit',\n",
       " 996: 'effectiveness',\n",
       " 997: 'metformin',\n",
       " 998: 'stable',\n",
       " 999: 'rosacea',\n",
       " 1000: 'heard',\n",
       " ...}"
      ]
     },
     "execution_count": 36,
     "metadata": {},
     "output_type": "execute_result"
    }
   ],
   "source": [
    "tokenizer.index_word"
   ]
  },
  {
   "cell_type": "code",
   "execution_count": 37,
   "metadata": {},
   "outputs": [],
   "source": [
    "import os\n",
    "\n",
    "home = 'C:\\\\Users\\\\Sena\\\\Desktop\\\\final_Sentiment_Analysis\\\\'\n",
    "glove_embedding_filepath = os.path.join(home, \"glove.6B.300d.txt\")\n"
   ]
  },
  {
   "cell_type": "code",
   "execution_count": 38,
   "metadata": {},
   "outputs": [
    {
     "data": {
      "text/plain": [
       "'C:\\\\Users\\\\Sena\\\\Desktop\\\\final_Sentiment_Analysis\\\\glove.6B.300d.txt'"
      ]
     },
     "execution_count": 38,
     "metadata": {},
     "output_type": "execute_result"
    }
   ],
   "source": [
    "glove_embedding_filepath "
   ]
  },
  {
   "cell_type": "code",
   "execution_count": 39,
   "metadata": {},
   "outputs": [],
   "source": [
    "def create_embedding_matrix (filepath, word_index, embedding_dim):\n",
    "    vocab_size = len(word_index) + 1\n",
    "    embedding_matrix = np.zeros((vocab_size, embedding_dim))\n",
    "    \n",
    "    with open(filepath, encoding='utf-8') as file:\n",
    "        for line in file:\n",
    "            word, *vector = line.split()\n",
    "            if word in word_index:\n",
    "                idx = word_index[word]\n",
    "                embedding_matrix[idx] = np.array(vector, dtype=np.float32)[:embedding_dim]\n",
    "    \n",
    "    return embedding_matrix"
   ]
  },
  {
   "cell_type": "code",
   "execution_count": 40,
   "metadata": {},
   "outputs": [],
   "source": [
    "embedding_dim = 100\n",
    "embedding_matrix = create_embedding_matrix(glove_embedding_filepath, tokenizer.word_index, embedding_dim)\n"
   ]
  },
  {
   "cell_type": "code",
   "execution_count": 41,
   "metadata": {},
   "outputs": [
    {
     "data": {
      "text/plain": [
       "60563"
      ]
     },
     "execution_count": 41,
     "metadata": {},
     "output_type": "execute_result"
    }
   ],
   "source": [
    "len(embedding_matrix)"
   ]
  },
  {
   "cell_type": "code",
   "execution_count": 42,
   "metadata": {},
   "outputs": [
    {
     "data": {
      "text/plain": [
       "(60563, 100)"
      ]
     },
     "execution_count": 42,
     "metadata": {},
     "output_type": "execute_result"
    }
   ],
   "source": [
    "embedding_matrix.shape"
   ]
  },
  {
   "cell_type": "code",
   "execution_count": 43,
   "metadata": {},
   "outputs": [],
   "source": [
    "import os\n",
    "from tensorflow.keras.callbacks import EarlyStopping, ModelCheckpoint\n",
    "checkpoint_filepath = os.getcwd()\n",
    "model_checkpoint_callback = ModelCheckpoint(filepath=checkpoint_filepath, save_weights_only=False, monitor='val_loss', mode='min', save_best_only=True)\n",
    "callbacks = [EarlyStopping(patience=2), model_checkpoint_callback]"
   ]
  },
  {
   "cell_type": "markdown",
   "metadata": {},
   "source": [
    "# Training LSTM"
   ]
  },
  {
   "cell_type": "code",
   "execution_count": 110,
   "metadata": {
    "scrolled": true
   },
   "outputs": [
    {
     "name": "stdout",
     "output_type": "stream",
     "text": [
      "Model: \"sequential_6\"\n",
      "_________________________________________________________________\n",
      " Layer (type)                Output Shape              Param #   \n",
      "=================================================================\n",
      " embedding_3 (Embedding)     (None, 100, 100)          6056300   \n",
      "                                                                 \n",
      " spatial_dropout1d_1 (Spatia  (None, 100, 100)         0         \n",
      " lDropout1D)                                                     \n",
      "                                                                 \n",
      " bidirectional_1 (Bidirectio  (None, 200)              160800    \n",
      " nal)                                                            \n",
      "                                                                 \n",
      " dense_7 (Dense)             (None, 1024)              205824    \n",
      "                                                                 \n",
      " dropout_2 (Dropout)         (None, 1024)              0         \n",
      "                                                                 \n",
      " dense_8 (Dense)             (None, 1024)              1049600   \n",
      "                                                                 \n",
      " dropout_3 (Dropout)         (None, 1024)              0         \n",
      "                                                                 \n",
      " dense_9 (Dense)             (None, 3)                 3075      \n",
      "                                                                 \n",
      " activation_1 (Activation)   (None, 3)                 0         \n",
      "                                                                 \n",
      "=================================================================\n",
      "Total params: 7,475,599\n",
      "Trainable params: 7,475,599\n",
      "Non-trainable params: 0\n",
      "_________________________________________________________________\n",
      "None\n"
     ]
    }
   ],
   "source": [
    "from keras.layers.core import Dense, Activation, Dropout\n",
    "from keras.layers import GlobalMaxPooling1D, Conv1D, MaxPooling1D, Flatten, Bidirectional, SpatialDropout1D\n",
    "from keras.layers import Embedding, Conv1D, LSTM, Dense, Dropout\n",
    "vocab_size = len(tokenizer.index_word) + 1\n",
    "sequence_len=100\n",
    "num_epochs = 5\n",
    "batch_size = 128\n",
    "LSTM_model_em = Sequential()\n",
    "LSTM_model_em.add(layers.Embedding(input_dim=vocab_size, output_dim=100, input_length=sequence_len, weights = [embedding_matrix], trainable = True))\n",
    "LSTM_model_em.add(SpatialDropout1D(0.3))\n",
    "LSTM_model_em.add(Bidirectional(LSTM(100, dropout=0.3, recurrent_dropout=0.3)))\n",
    "LSTM_model_em.add(Dense(1024, activation=\"relu\"))\n",
    "LSTM_model_em.add(Dropout(0.8))\n",
    "LSTM_model_em.add(Dense(1024, activation=\"relu\"))\n",
    "LSTM_model_em.add(Dropout(0.8))\n",
    "LSTM_model_em.add(Dense(3))\n",
    "LSTM_model_em.add(Activation(\"softmax\"))\n",
    "LSTM_model_em.compile(loss=\"categorical_crossentropy\", optimizer=\"adam\", metrics=[\"accuracy\"])\n",
    "print(LSTM_model_em.summary())"
   ]
  },
  {
   "cell_type": "code",
   "execution_count": 111,
   "metadata": {
    "scrolled": true
   },
   "outputs": [
    {
     "name": "stdout",
     "output_type": "stream",
     "text": [
      "Epoch 1/5\n",
      "946/946 [==============================] - 3532s 4s/step - loss: 0.8204 - accuracy: 0.6655 - val_loss: 0.6833 - val_accuracy: 0.7245\n",
      "Epoch 2/5\n",
      "946/946 [==============================] - 3739s 4s/step - loss: 0.7007 - accuracy: 0.7230 - val_loss: 0.6651 - val_accuracy: 0.7340\n",
      "Epoch 3/5\n",
      "946/946 [==============================] - 3838s 4s/step - loss: 0.6591 - accuracy: 0.7391 - val_loss: 0.6259 - val_accuracy: 0.7458\n",
      "Epoch 4/5\n",
      "946/946 [==============================] - 3582s 4s/step - loss: 0.6293 - accuracy: 0.7482 - val_loss: 0.6064 - val_accuracy: 0.7531\n",
      "Epoch 5/5\n",
      "946/946 [==============================] - 3471s 4s/step - loss: 0.6085 - accuracy: 0.7562 - val_loss: 0.6083 - val_accuracy: 0.7567\n"
     ]
    }
   ],
   "source": [
    "\n",
    "\n",
    "history_LSTM_em = LSTM_model_em.fit(Report_train_padded ,Sentiment_train_onehot_encoded, epochs=5,validation_split=0.25, batch_size = batch_size, callbacks=callbacks)\n"
   ]
  },
  {
   "cell_type": "markdown",
   "metadata": {},
   "source": [
    "# evaluation on test data"
   ]
  },
  {
   "cell_type": "code",
   "execution_count": 82,
   "metadata": {
    "scrolled": true
   },
   "outputs": [
    {
     "name": "stdout",
     "output_type": "stream",
     "text": [
      "1681/1681 [==============================] - 525s 312ms/step - loss: 0.6063 - accuracy: 0.7518\n",
      "\n",
      " Evaluated model accuracy on test data : 0.7517762184143066\n",
      "\n",
      " stop time: Sat Apr 29 07:16:41 2023 \n",
      "\n",
      "1681/1681 [==============================] - 526s 312ms/step\n"
     ]
    }
   ],
   "source": [
    "import time\n",
    "import itertools\n",
    "import warnings\n",
    "from sklearn.metrics import confusion_matrix\n",
    "# Model Evaluation on Test data\n",
    "test_loss,test_acc = LSTM_model_em.evaluate(Report_test_padded, Sentiment_test_onehot_encoded)\n",
    "print(\"\\n Evaluated model accuracy on test data :\",test_acc)\n",
    "seconds= time.time()\n",
    "time_stop = time.ctime(seconds)\n",
    "print(\"\\n\",\"stop time:\", time_stop,\"\\n\")\n",
    "# Predict the values from the Test dataset\n",
    "Sentiment_pred = LSTM_model_em.predict(Report_test_padded)\n",
    "# Convert predictions classes to one hot vectors\n",
    "Sentiment_pred_classes = np.argmax(Sentiment_pred,axis = 1)\n",
    "# computing the confusion matrix\n"
   ]
  },
  {
   "cell_type": "code",
   "execution_count": 83,
   "metadata": {},
   "outputs": [
    {
     "data": {
      "text/plain": [
       "<function sklearn.metrics._classification.confusion_matrix(y_true, y_pred, *, labels=None, sample_weight=None, normalize=None)>"
      ]
     },
     "execution_count": 83,
     "metadata": {},
     "output_type": "execute_result"
    }
   ],
   "source": [
    "confusion_mtx = confusion_matrix(Sentiment_test_integer_encoded, Sentiment_pred_classes)\n",
    "confusion_matrix\n"
   ]
  },
  {
   "cell_type": "markdown",
   "metadata": {},
   "source": [
    "# Results"
   ]
  },
  {
   "cell_type": "code",
   "execution_count": 84,
   "metadata": {},
   "outputs": [
    {
     "name": "stdout",
     "output_type": "stream",
     "text": [
      "              precision    recall  f1-score   support\n",
      "\n",
      "    Negative       0.64      0.81      0.71     13497\n",
      "     Neutral       0.42      0.03      0.05      7920\n",
      "    Positive       0.81      0.91      0.85     32349\n",
      "\n",
      "    accuracy                           0.75     53766\n",
      "   macro avg       0.62      0.58      0.54     53766\n",
      "weighted avg       0.71      0.75      0.70     53766\n",
      "\n",
      "Accuracy: 0.751776\n",
      "Cohen_score: 0.516761\n"
     ]
    }
   ],
   "source": [
    "#Printing Classification Report for Sentiment\n",
    "from sklearn.metrics import cohen_kappa_score\n",
    "from sklearn.metrics import accuracy_score\n",
    "from sklearn.metrics import classification_report\n",
    "print(classification_report(Sentiment_test_integer_encoded, Sentiment_pred_classes, target_names = Sentiment_labels))\n",
    "accuracy = accuracy_score(Sentiment_test_integer_encoded, Sentiment_pred_classes)\n",
    "print('Accuracy: %f' % accuracy)\n",
    "cohen_score = cohen_kappa_score(Sentiment_test_integer_encoded, Sentiment_pred_classes)\n",
    "print('Cohen_score: %f' % cohen_score)"
   ]
  },
  {
   "cell_type": "markdown",
   "metadata": {},
   "source": [
    "#  Training and validation curves"
   ]
  },
  {
   "cell_type": "code",
   "execution_count": 86,
   "metadata": {},
   "outputs": [
    {
     "data": {
      "image/png": "[encoded data removed]",
      "text/plain": [
       "<Figure size 432x288 with 2 Axes>"
      ]
     },
     "metadata": {
      "needs_background": "light"
     },
     "output_type": "display_data"
    }
   ],
   "source": [
    "\n",
    "# Plot the loss and accuracy curves for training and validation\n",
    "fig, ax = plt.subplots(2,1)\n",
    "ax[0].plot(history_LSTM_em.history['loss'], color='b', label=\"Training loss\")\n",
    "ax[0].plot(history_LSTM_em.history['val_loss'], color='r', label=\"validation loss\",axes =ax[0])\n",
    "legend = ax[0].legend(loc='best', shadow=True)\n",
    "ax[1].plot(history_LSTM_em.history['accuracy'], color='b', label=\"Training accuracy\")\n",
    "ax[1].plot(history_LSTM_em.history['val_accuracy'], color='r',label=\"Validation accuracy\")\n",
    "legend = ax[1].legend(loc='best', shadow=True)\n",
    "plt.show()"
   ]
  },
  {
   "cell_type": "markdown",
   "metadata": {},
   "source": [
    "# Plotting the confusion matrix"
   ]
  },
  {
   "cell_type": "code",
   "execution_count": 87,
   "metadata": {},
   "outputs": [
    {
     "data": {
      "image/png": "[encoded data removed]",
      "text/plain": [
       "<Figure size 432x288 with 2 Axes>"
      ]
     },
     "metadata": {
      "needs_background": "light"
     },
     "output_type": "display_data"
    }
   ],
   "source": [
    "# Defining function for plotting confusion matrix\n",
    "def plot_confusion_matrix(cm, classes,\n",
    "                          normalize=False,\n",
    "                          title='Confusion matrix',\n",
    "                          cmap=plt.cm.Blues):\n",
    "    '''\n",
    "    This function prints and plots the confusion matrix.\n",
    "    Normalization can be applied by setting `normalize=True`.\n",
    "    '''\n",
    "    plt.imshow(cm, interpolation='nearest', cmap=cmap)\n",
    "    plt.title(title)\n",
    "    plt.colorbar()\n",
    "    tick_marks = np.arange(len(classes))\n",
    "    plt.xticks(tick_marks, classes, rotation=45)\n",
    "    plt.yticks(tick_marks, classes)\n",
    "    if normalize:\n",
    "        cm = cm.astype('float') / cm.sum(axis=1)[:, np.newaxis]\n",
    "    thresh = cm.max() / 2.\n",
    "    for i, j in itertools.product(range(cm.shape[0]), range(cm.shape[1])):\n",
    "        plt.text(j, i, cm[i, j],\n",
    "                 horizontalalignment=\"center\",\n",
    "                 color=\"white\" if cm[i, j] > thresh else \"black\")\n",
    "    plt.tight_layout()\n",
    "    plt.ylabel('True label')\n",
    "    plt.xlabel('Predicted label')\n",
    "    plt.show()\n",
    "# plot the confusion matrix\n",
    "plot_confusion_matrix(confusion_mtx, classes = range(3))"
   ]
  },
  {
   "cell_type": "code",
   "execution_count": null,
   "metadata": {},
   "outputs": [],
   "source": [
    "LSTM_model_em.save('my_lstm_em.h5')"
   ]
  },
  {
   "cell_type": "code",
   "execution_count": null,
   "metadata": {},
   "outputs": [],
   "source": []
  },
  {
   "cell_type": "markdown",
   "metadata": {
    "executionInfo": {
     "elapsed": 10,
     "status": "ok",
     "timestamp": 1681988892381,
     "user": {
      "displayName": "Sena ALHADHRAMI",
      "userId": "15424902837319805851"
     },
     "user_tz": -120
    },
    "id": "wob-PDeV3hnJ"
   },
   "source": [
    "# CNN-LSTM"
   ]
  },
  {
   "cell_type": "code",
   "execution_count": 48,
   "metadata": {
    "scrolled": true
   },
   "outputs": [
    {
     "name": "stdout",
     "output_type": "stream",
     "text": [
      "Model: \"sequential_3\"\n",
      "_________________________________________________________________\n",
      " Layer (type)                Output Shape              Param #   \n",
      "=================================================================\n",
      " embedding_1 (Embedding)     (None, 100, 100)          6056300   \n",
      "                                                                 \n",
      " conv1d_1 (Conv1D)           (None, 96, 64)            32064     \n",
      "                                                                 \n",
      " max_pooling1d_1 (MaxPooling  (None, 24, 64)           0         \n",
      " 1D)                                                             \n",
      "                                                                 \n",
      " lstm (LSTM)                 (None, 64)                33024     \n",
      "                                                                 \n",
      " dense (Dense)               (None, 3)                 195       \n",
      "                                                                 \n",
      "=================================================================\n",
      "Total params: 6,121,583\n",
      "Trainable params: 65,283\n",
      "Non-trainable params: 6,056,300\n",
      "_________________________________________________________________\n",
      "None\n"
     ]
    }
   ],
   "source": [
    "# Build the CNN-LSTM model\n",
    "vocab_size = len(tokenizer.index_word) + 1\n",
    "sequence_len=100\n",
    "modelCNN_LSTM = Sequential()\n",
    "modelCNN_LSTM.add(layers.Embedding(input_dim=vocab_size, output_dim=100, input_length=sequence_len, weights = [embedding_matrix], trainable = False)) \n",
    "modelCNN_LSTM.add(Conv1D(64, 5, activation='relu'))\n",
    "modelCNN_LSTM.add(MaxPooling1D(pool_size=4))\n",
    "modelCNN_LSTM.add(LSTM(64))\n",
    "modelCNN_LSTM.add(Dense(len(label_encoder.classes_), activation='softmax'))\n",
    "# Compile the model\n",
    "modelCNN_LSTM.compile(loss=\"categorical_crossentropy\", optimizer=\"adam\", metrics=[\"accuracy\"])\n",
    "print(modelCNN_LSTM.summary())\n",
    "# Train the model"
   ]
  },
  {
   "cell_type": "code",
   "execution_count": 51,
   "metadata": {
    "scrolled": true
   },
   "outputs": [
    {
     "name": "stdout",
     "output_type": "stream",
     "text": [
      "Epoch 1/15\n",
      "946/946 [==============================] - 83s 88ms/step - loss: 0.4981 - accuracy: 0.8047 - val_loss: 0.6581 - val_accuracy: 0.7454\n",
      "Epoch 2/15\n",
      "946/946 [==============================] - 74s 79ms/step - loss: 0.4813 - accuracy: 0.8119 - val_loss: 0.6578 - val_accuracy: 0.7529\n",
      "Epoch 3/15\n",
      "946/946 [==============================] - 81s 86ms/step - loss: 0.4665 - accuracy: 0.8191 - val_loss: 0.6673 - val_accuracy: 0.7553\n",
      "Epoch 4/15\n",
      "946/946 [==============================] - 71s 75ms/step - loss: 0.4549 - accuracy: 0.8242 - val_loss: 0.7474 - val_accuracy: 0.7069\n",
      "Epoch 5/15\n",
      "946/946 [==============================] - 72s 76ms/step - loss: 0.4385 - accuracy: 0.8323 - val_loss: 0.6878 - val_accuracy: 0.7438\n",
      "Epoch 6/15\n",
      "946/946 [==============================] - 74s 79ms/step - loss: 0.4261 - accuracy: 0.8377 - val_loss: 0.6765 - val_accuracy: 0.7475\n",
      "Epoch 7/15\n",
      "946/946 [==============================] - 79s 83ms/step - loss: 0.4122 - accuracy: 0.8454 - val_loss: 0.6677 - val_accuracy: 0.7558\n",
      "Epoch 8/15\n",
      "946/946 [==============================] - 80s 84ms/step - loss: 0.4029 - accuracy: 0.8485 - val_loss: 0.6613 - val_accuracy: 0.7596\n",
      "Epoch 9/15\n",
      "946/946 [==============================] - 85s 90ms/step - loss: 0.3911 - accuracy: 0.8540 - val_loss: 0.7069 - val_accuracy: 0.7403\n",
      "Epoch 10/15\n",
      "946/946 [==============================] - 84s 89ms/step - loss: 0.3775 - accuracy: 0.8598 - val_loss: 0.7049 - val_accuracy: 0.7454\n",
      "Epoch 11/15\n",
      "946/946 [==============================] - 88s 93ms/step - loss: 0.3698 - accuracy: 0.8642 - val_loss: 0.7291 - val_accuracy: 0.7338\n",
      "Epoch 12/15\n",
      "946/946 [==============================] - 88s 93ms/step - loss: 0.3572 - accuracy: 0.8703 - val_loss: 0.7134 - val_accuracy: 0.7683\n",
      "Epoch 13/15\n",
      "946/946 [==============================] - 82s 86ms/step - loss: 0.3437 - accuracy: 0.8759 - val_loss: 0.7188 - val_accuracy: 0.7658\n",
      "Epoch 14/15\n",
      "946/946 [==============================] - 77s 82ms/step - loss: 0.3350 - accuracy: 0.8798 - val_loss: 0.6938 - val_accuracy: 0.7604\n",
      "Epoch 15/15\n",
      "946/946 [==============================] - 72s 77ms/step - loss: 0.3226 - accuracy: 0.8850 - val_loss: 0.7026 - val_accuracy: 0.7677\n"
     ]
    }
   ],
   "source": [
    "historyCNN_LSTM  = modelCNN_LSTM.fit(Report_train_padded ,Sentiment_train_onehot_encoded, epochs=15,validation_split=0.25, batch_size = 128)\n"
   ]
  },
  {
   "cell_type": "markdown",
   "metadata": {},
   "source": [
    "# evaluation on test data"
   ]
  },
  {
   "cell_type": "code",
   "execution_count": 52,
   "metadata": {},
   "outputs": [
    {
     "name": "stdout",
     "output_type": "stream",
     "text": [
      "1681/1681 [==============================] - 27s 16ms/step - loss: 0.7165 - accuracy: 0.7643\n",
      "\n",
      " Evaluated model accuracy on test data : 0.7643306255340576\n",
      "\n",
      " stop time: Thu May  4 15:02:32 2023 \n",
      "\n",
      "1681/1681 [==============================] - 27s 15ms/step\n"
     ]
    }
   ],
   "source": [
    "import time\n",
    "import itertools\n",
    "import warnings\n",
    "from sklearn.metrics import confusion_matrix\n",
    "# Model Evaluation on Test data\n",
    "test_loss,test_acc = modelCNN_LSTM.evaluate(Report_test_padded, Sentiment_test_onehot_encoded)\n",
    "print(\"\\n Evaluated model accuracy on test data :\",test_acc)\n",
    "seconds= time.time()\n",
    "time_stop = time.ctime(seconds)\n",
    "print(\"\\n\",\"stop time:\", time_stop,\"\\n\")\n",
    "# Predict the values from the Test dataset\n",
    "Sentiment_pred = modelCNN_LSTM.predict(Report_test_padded)\n",
    "# Convert predictions classes to one hot vectors\n",
    "Sentiment_pred_classes = np.argmax(Sentiment_pred,axis = 1)\n",
    "# computing the confusion matrix"
   ]
  },
  {
   "cell_type": "code",
   "execution_count": 53,
   "metadata": {},
   "outputs": [
    {
     "data": {
      "text/plain": [
       "<function sklearn.metrics._classification.confusion_matrix(y_true, y_pred, *, labels=None, sample_weight=None, normalize=None)>"
      ]
     },
     "execution_count": 53,
     "metadata": {},
     "output_type": "execute_result"
    }
   ],
   "source": [
    "confusion_mtx = confusion_matrix(Sentiment_test_integer_encoded, Sentiment_pred_classes)\n",
    "confusion_matrix\n"
   ]
  },
  {
   "cell_type": "markdown",
   "metadata": {},
   "source": [
    "# Results"
   ]
  },
  {
   "cell_type": "code",
   "execution_count": 54,
   "metadata": {},
   "outputs": [
    {
     "name": "stdout",
     "output_type": "stream",
     "text": [
      "              precision    recall  f1-score   support\n",
      "\n",
      "    Negative       0.73      0.71      0.72     13497\n",
      "     Neutral       0.46      0.35      0.40      7920\n",
      "    Positive       0.83      0.89      0.86     32349\n",
      "\n",
      "    accuracy                           0.76     53766\n",
      "   macro avg       0.67      0.65      0.66     53766\n",
      "weighted avg       0.75      0.76      0.76     53766\n",
      "\n",
      "Accuracy: 0.764331\n",
      "Cohen_score: 0.558691\n"
     ]
    }
   ],
   "source": [
    "#Printing Classification Report for Sentiment\n",
    "from sklearn.metrics import cohen_kappa_score\n",
    "from sklearn.metrics import accuracy_score\n",
    "from sklearn.metrics import classification_report\n",
    "print(classification_report(Sentiment_test_integer_encoded, Sentiment_pred_classes, target_names = Sentiment_labels))\n",
    "accuracy = accuracy_score(Sentiment_test_integer_encoded, Sentiment_pred_classes)\n",
    "print('Accuracy: %f' % accuracy)\n",
    "cohen_score = cohen_kappa_score(Sentiment_test_integer_encoded, Sentiment_pred_classes)\n",
    "print('Cohen_score: %f' % cohen_score)"
   ]
  },
  {
   "cell_type": "markdown",
   "metadata": {},
   "source": [
    "# Training and validation curves"
   ]
  },
  {
   "cell_type": "code",
   "execution_count": 55,
   "metadata": {},
   "outputs": [
    {
     "data": {
      "image/png": "[encoded data removed]",
      "text/plain": [
       "<Figure size 432x288 with 2 Axes>"
      ]
     },
     "metadata": {
      "needs_background": "light"
     },
     "output_type": "display_data"
    }
   ],
   "source": [
    "# Plot the loss and accuracy curves for training and validation\n",
    "fig, ax = plt.subplots(2,1)\n",
    "ax[0].plot(historyCNN_LSTM.history['loss'], color='b', label=\"Training loss\")\n",
    "ax[0].plot(historyCNN_LSTM.history['val_loss'], color='r', label=\"validation loss\",axes =ax[0])\n",
    "legend = ax[0].legend(loc='best', shadow=True)\n",
    "ax[1].plot(historyCNN_LSTM.history['accuracy'], color='b', label=\"Training accuracy\")\n",
    "ax[1].plot(historyCNN_LSTM.history['val_accuracy'], color='r',label=\"Validation accuracy\")\n",
    "legend = ax[1].legend(loc='best', shadow=True)\n",
    "plt.show()"
   ]
  },
  {
   "cell_type": "markdown",
   "metadata": {},
   "source": [
    "# Plotting the confusion matrix"
   ]
  },
  {
   "cell_type": "code",
   "execution_count": 56,
   "metadata": {},
   "outputs": [
    {
     "data": {
      "image/png": "[encoded data removed]",
      "text/plain": [
       "<Figure size 432x288 with 2 Axes>"
      ]
     },
     "metadata": {
      "needs_background": "light"
     },
     "output_type": "display_data"
    }
   ],
   "source": [
    "# Defining function for plotting confusion matrix\n",
    "def plot_confusion_matrix(cm, classes,\n",
    "                          normalize=False,\n",
    "                          title='Confusion matrix',\n",
    "                          cmap=plt.cm.Blues):\n",
    "    '''\n",
    "    This function prints and plots the confusion matrix.\n",
    "    Normalization can be applied by setting `normalize=True`.\n",
    "    '''\n",
    "    plt.imshow(cm, interpolation='nearest', cmap=cmap)\n",
    "    plt.title(title)\n",
    "    plt.colorbar()\n",
    "    tick_marks = np.arange(len(classes))\n",
    "    plt.xticks(tick_marks, classes, rotation=45)\n",
    "    plt.yticks(tick_marks, classes)\n",
    "    if normalize:\n",
    "        cm = cm.astype('float') / cm.sum(axis=1)[:, np.newaxis]\n",
    "    thresh = cm.max() / 2.\n",
    "    for i, j in itertools.product(range(cm.shape[0]), range(cm.shape[1])):\n",
    "        plt.text(j, i, cm[i, j],\n",
    "                 horizontalalignment=\"center\",\n",
    "                 color=\"white\" if cm[i, j] > thresh else \"black\")\n",
    "    plt.tight_layout()\n",
    "    plt.ylabel('True label')\n",
    "    plt.xlabel('Predicted label')\n",
    "    plt.show()\n",
    "# plot the confusion matrix\n",
    "plot_confusion_matrix(confusion_mtx, classes = range(3))"
   ]
  },
  {
   "cell_type": "code",
   "execution_count": null,
   "metadata": {},
   "outputs": [],
   "source": [
    "modelCNN_LSTM .save('my_LSTM_CNN_em.h5')"
   ]
  }
 ],
 "metadata": {
  "colab": {
   "authorship_tag": "ABX9TyNiCmLIAEIoOo2UjIvQZExv",
   "provenance": []
  },
  "kernelspec": {
   "display_name": "Python 3 (ipykernel)",
   "language": "python",
   "name": "python3"
  },
  "language_info": {
   "codemirror_mode": {
    "name": "ipython",
    "version": 3
   },
   "file_extension": ".py",
   "mimetype": "text/x-python",
   "name": "python",
   "nbconvert_exporter": "python",
   "pygments_lexer": "ipython3",
   "version": "3.9.12"
  }
 },
 "nbformat": 4,
 "nbformat_minor": 1
}
