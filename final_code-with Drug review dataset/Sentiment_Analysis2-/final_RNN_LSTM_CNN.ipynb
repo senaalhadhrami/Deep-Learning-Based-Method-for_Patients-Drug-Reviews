{
 "cells": [
  {
   "cell_type": "markdown",
   "id": "737e99e8",
   "metadata": {},
   "source": [
    "# Project Description"
   ]
  },
  {
   "cell_type": "markdown",
   "id": "61ce15a1",
   "metadata": {},
   "source": [
    "This file contains the implementation of the Bi-LSTM and Bi-LSTM-CNN models for sentiment analysis on the drugsComTraindataset. The main process in this file involves pre-processing the data, training the models, testing the models on the the same dataset, evaluating the model performance on the test data, generating training and validation curves, and plotting the confusion matrix.\n",
    "\n"
   ]
  },
  {
   "cell_type": "code",
   "execution_count": 1,
   "id": "2095ada5",
   "metadata": {},
   "outputs": [],
   "source": [
    "import os\n",
    "import re\n",
    "import nltk\n",
    "import pandas as pd\n",
    "import numpy as np\n",
    "import seaborn as sns\n",
    "import matplotlib.pyplot as plt\n",
    "from nltk.tokenize import word_tokenize\n",
    "from nltk import pos_tag\n",
    "from nltk.corpus import stopwords, wordnet\n",
    "from nltk.stem import WordNetLemmatizer\n",
    "from sklearn.datasets import fetch_20newsgroups\n",
    "#from tensorflow.keras import layers\n",
    "from keras import layers\n",
    "from sklearn.model_selection import train_test_split\n",
    "#from tensorflow.keras.models import Sequential\n",
    "from keras.models import Sequential\n",
    "#from tensorflow.keras.preprocessing.text import Tokenizer\n",
    "from keras.preprocessing.text import Tokenizer\n",
    "from tensorflow.keras.preprocessing.sequence import pad_sequences\n",
    "#from keras.preprocessing.sequence import pad_sequences\n",
    "import tensorflow as tf\n",
    "from keras.layers.core import Dense, Activation, Dropout\n",
    "#from keras.layers.normalization import BatchNormalization\n",
    "from keras.utils import np_utils\n",
    "from keras.layers import GlobalMaxPooling1D, Conv1D, MaxPooling1D, Flatten, Bidirectional, SpatialDropout1D"
   ]
  },
  {
   "cell_type": "code",
   "execution_count": 2,
   "id": "b8c59e25",
   "metadata": {
    "scrolled": false
   },
   "outputs": [
    {
     "name": "stderr",
     "output_type": "stream",
     "text": [
      "[nltk_data] Downloading package punkt to\n",
      "[nltk_data]     C:\\Users\\Sena\\AppData\\Roaming\\nltk_data...\n",
      "[nltk_data]   Package punkt is already up-to-date!\n",
      "[nltk_data] Downloading package averaged_perceptron_tagger to\n",
      "[nltk_data]     C:\\Users\\Sena\\AppData\\Roaming\\nltk_data...\n",
      "[nltk_data]   Package averaged_perceptron_tagger is already up-to-\n",
      "[nltk_data]       date!\n",
      "[nltk_data] Downloading package wordnet to\n",
      "[nltk_data]     C:\\Users\\Sena\\AppData\\Roaming\\nltk_data...\n",
      "[nltk_data]   Package wordnet is already up-to-date!\n",
      "[nltk_data] Downloading package stopwords to\n",
      "[nltk_data]     C:\\Users\\Sena\\AppData\\Roaming\\nltk_data...\n",
      "[nltk_data]   Package stopwords is already up-to-date!\n",
      "[nltk_data] Downloading package omw-1.4 to\n",
      "[nltk_data]     C:\\Users\\Sena\\AppData\\Roaming\\nltk_data...\n",
      "[nltk_data]   Package omw-1.4 is already up-to-date!\n"
     ]
    },
    {
     "data": {
      "text/plain": [
       "True"
      ]
     },
     "execution_count": 2,
     "metadata": {},
     "output_type": "execute_result"
    }
   ],
   "source": [
    "nltk.download(\"punkt\")\n",
    "nltk.download(\"averaged_perceptron_tagger\")\n",
    "nltk.download(\"wordnet\")\n",
    "nltk.download(\"stopwords\")\n",
    "nltk.download('omw-1.4')"
   ]
  },
  {
   "cell_type": "code",
   "execution_count": 3,
   "id": "423fa0d5",
   "metadata": {},
   "outputs": [],
   "source": [
    "df = pd.read_csv('drugsComTrain_raw.csv')"
   ]
  },
  {
   "cell_type": "code",
   "execution_count": 4,
   "id": "c2ca6205",
   "metadata": {},
   "outputs": [
    {
     "data": {
      "text/plain": [
       "(161297, 7)"
      ]
     },
     "execution_count": 4,
     "metadata": {},
     "output_type": "execute_result"
    }
   ],
   "source": [
    "df.shape"
   ]
  },
  {
   "cell_type": "code",
   "execution_count": 5,
   "id": "dfeff44c",
   "metadata": {
    "scrolled": false
   },
   "outputs": [
    {
     "data": {
      "text/html": [
       "<div>\n",
       "<style scoped>\n",
       "    .dataframe tbody tr th:only-of-type {\n",
       "        vertical-align: middle;\n",
       "    }\n",
       "\n",
       "    .dataframe tbody tr th {\n",
       "        vertical-align: top;\n",
       "    }\n",
       "\n",
       "    .dataframe thead th {\n",
       "        text-align: right;\n",
       "    }\n",
       "</style>\n",
       "<table border=\"1\" class=\"dataframe\">\n",
       "  <thead>\n",
       "    <tr style=\"text-align: right;\">\n",
       "      <th></th>\n",
       "      <th>uniqueID</th>\n",
       "      <th>drugName</th>\n",
       "      <th>condition</th>\n",
       "      <th>review</th>\n",
       "      <th>rating</th>\n",
       "      <th>date</th>\n",
       "      <th>usefulCount</th>\n",
       "    </tr>\n",
       "  </thead>\n",
       "  <tbody>\n",
       "    <tr>\n",
       "      <th>0</th>\n",
       "      <td>206461</td>\n",
       "      <td>Valsartan</td>\n",
       "      <td>Left Ventricular Dysfunction</td>\n",
       "      <td>\"It has no side effect, I take it in combinati...</td>\n",
       "      <td>9</td>\n",
       "      <td>20-May-12</td>\n",
       "      <td>27</td>\n",
       "    </tr>\n",
       "    <tr>\n",
       "      <th>1</th>\n",
       "      <td>95260</td>\n",
       "      <td>Guanfacine</td>\n",
       "      <td>ADHD</td>\n",
       "      <td>\"My son is halfway through his fourth week of ...</td>\n",
       "      <td>8</td>\n",
       "      <td>27-Apr-10</td>\n",
       "      <td>192</td>\n",
       "    </tr>\n",
       "    <tr>\n",
       "      <th>2</th>\n",
       "      <td>92703</td>\n",
       "      <td>Lybrel</td>\n",
       "      <td>Birth Control</td>\n",
       "      <td>\"I used to take another oral contraceptive, wh...</td>\n",
       "      <td>5</td>\n",
       "      <td>14-Dec-09</td>\n",
       "      <td>17</td>\n",
       "    </tr>\n",
       "    <tr>\n",
       "      <th>3</th>\n",
       "      <td>138000</td>\n",
       "      <td>Ortho Evra</td>\n",
       "      <td>Birth Control</td>\n",
       "      <td>\"This is my first time using any form of birth...</td>\n",
       "      <td>8</td>\n",
       "      <td>3-Nov-15</td>\n",
       "      <td>10</td>\n",
       "    </tr>\n",
       "    <tr>\n",
       "      <th>4</th>\n",
       "      <td>35696</td>\n",
       "      <td>Buprenorphine / naloxone</td>\n",
       "      <td>Opiate Dependence</td>\n",
       "      <td>\"Suboxone has completely turned my life around...</td>\n",
       "      <td>9</td>\n",
       "      <td>27-Nov-16</td>\n",
       "      <td>37</td>\n",
       "    </tr>\n",
       "  </tbody>\n",
       "</table>\n",
       "</div>"
      ],
      "text/plain": [
       "   uniqueID                  drugName                     condition  \\\n",
       "0    206461                 Valsartan  Left Ventricular Dysfunction   \n",
       "1     95260                Guanfacine                          ADHD   \n",
       "2     92703                    Lybrel                 Birth Control   \n",
       "3    138000                Ortho Evra                 Birth Control   \n",
       "4     35696  Buprenorphine / naloxone             Opiate Dependence   \n",
       "\n",
       "                                              review  rating       date  \\\n",
       "0  \"It has no side effect, I take it in combinati...       9  20-May-12   \n",
       "1  \"My son is halfway through his fourth week of ...       8  27-Apr-10   \n",
       "2  \"I used to take another oral contraceptive, wh...       5  14-Dec-09   \n",
       "3  \"This is my first time using any form of birth...       8   3-Nov-15   \n",
       "4  \"Suboxone has completely turned my life around...       9  27-Nov-16   \n",
       "\n",
       "   usefulCount  \n",
       "0           27  \n",
       "1          192  \n",
       "2           17  \n",
       "3           10  \n",
       "4           37  "
      ]
     },
     "execution_count": 5,
     "metadata": {},
     "output_type": "execute_result"
    }
   ],
   "source": [
    "df.head()"
   ]
  },
  {
   "cell_type": "code",
   "execution_count": 6,
   "id": "61929569",
   "metadata": {
    "scrolled": false
   },
   "outputs": [],
   "source": [
    "report=['condition','review']"
   ]
  },
  {
   "cell_type": "code",
   "execution_count": 7,
   "id": "08fceb9f",
   "metadata": {
    "scrolled": true
   },
   "outputs": [
    {
     "data": {
      "text/html": [
       "<div>\n",
       "<style scoped>\n",
       "    .dataframe tbody tr th:only-of-type {\n",
       "        vertical-align: middle;\n",
       "    }\n",
       "\n",
       "    .dataframe tbody tr th {\n",
       "        vertical-align: top;\n",
       "    }\n",
       "\n",
       "    .dataframe thead th {\n",
       "        text-align: right;\n",
       "    }\n",
       "</style>\n",
       "<table border=\"1\" class=\"dataframe\">\n",
       "  <thead>\n",
       "    <tr style=\"text-align: right;\">\n",
       "      <th></th>\n",
       "      <th>uniqueID</th>\n",
       "      <th>drugName</th>\n",
       "      <th>condition</th>\n",
       "      <th>review</th>\n",
       "      <th>rating</th>\n",
       "      <th>date</th>\n",
       "      <th>usefulCount</th>\n",
       "      <th>report</th>\n",
       "    </tr>\n",
       "  </thead>\n",
       "  <tbody>\n",
       "    <tr>\n",
       "      <th>0</th>\n",
       "      <td>206461</td>\n",
       "      <td>Valsartan</td>\n",
       "      <td>Left Ventricular Dysfunction</td>\n",
       "      <td>\"It has no side effect, I take it in combinati...</td>\n",
       "      <td>9</td>\n",
       "      <td>20-May-12</td>\n",
       "      <td>27</td>\n",
       "      <td>Left Ventricular Dysfunction_\"It has no side e...</td>\n",
       "    </tr>\n",
       "    <tr>\n",
       "      <th>1</th>\n",
       "      <td>95260</td>\n",
       "      <td>Guanfacine</td>\n",
       "      <td>ADHD</td>\n",
       "      <td>\"My son is halfway through his fourth week of ...</td>\n",
       "      <td>8</td>\n",
       "      <td>27-Apr-10</td>\n",
       "      <td>192</td>\n",
       "      <td>ADHD_\"My son is halfway through his fourth wee...</td>\n",
       "    </tr>\n",
       "    <tr>\n",
       "      <th>2</th>\n",
       "      <td>92703</td>\n",
       "      <td>Lybrel</td>\n",
       "      <td>Birth Control</td>\n",
       "      <td>\"I used to take another oral contraceptive, wh...</td>\n",
       "      <td>5</td>\n",
       "      <td>14-Dec-09</td>\n",
       "      <td>17</td>\n",
       "      <td>Birth Control_\"I used to take another oral con...</td>\n",
       "    </tr>\n",
       "    <tr>\n",
       "      <th>3</th>\n",
       "      <td>138000</td>\n",
       "      <td>Ortho Evra</td>\n",
       "      <td>Birth Control</td>\n",
       "      <td>\"This is my first time using any form of birth...</td>\n",
       "      <td>8</td>\n",
       "      <td>3-Nov-15</td>\n",
       "      <td>10</td>\n",
       "      <td>Birth Control_\"This is my first time using any...</td>\n",
       "    </tr>\n",
       "    <tr>\n",
       "      <th>4</th>\n",
       "      <td>35696</td>\n",
       "      <td>Buprenorphine / naloxone</td>\n",
       "      <td>Opiate Dependence</td>\n",
       "      <td>\"Suboxone has completely turned my life around...</td>\n",
       "      <td>9</td>\n",
       "      <td>27-Nov-16</td>\n",
       "      <td>37</td>\n",
       "      <td>Opiate Dependence_\"Suboxone has completely tur...</td>\n",
       "    </tr>\n",
       "    <tr>\n",
       "      <th>...</th>\n",
       "      <td>...</td>\n",
       "      <td>...</td>\n",
       "      <td>...</td>\n",
       "      <td>...</td>\n",
       "      <td>...</td>\n",
       "      <td>...</td>\n",
       "      <td>...</td>\n",
       "      <td>...</td>\n",
       "    </tr>\n",
       "    <tr>\n",
       "      <th>161292</th>\n",
       "      <td>191035</td>\n",
       "      <td>Campral</td>\n",
       "      <td>Alcohol Dependence</td>\n",
       "      <td>\"I wrote my first report in Mid-October of 201...</td>\n",
       "      <td>10</td>\n",
       "      <td>31-May-15</td>\n",
       "      <td>125</td>\n",
       "      <td>Alcohol Dependence_\"I wrote my first report in...</td>\n",
       "    </tr>\n",
       "    <tr>\n",
       "      <th>161293</th>\n",
       "      <td>127085</td>\n",
       "      <td>Metoclopramide</td>\n",
       "      <td>Nausea/Vomiting</td>\n",
       "      <td>\"I was given this in IV before surgey. I immed...</td>\n",
       "      <td>1</td>\n",
       "      <td>1-Nov-11</td>\n",
       "      <td>34</td>\n",
       "      <td>Nausea/Vomiting_\"I was given this in IV before...</td>\n",
       "    </tr>\n",
       "    <tr>\n",
       "      <th>161294</th>\n",
       "      <td>187382</td>\n",
       "      <td>Orencia</td>\n",
       "      <td>Rheumatoid Arthritis</td>\n",
       "      <td>\"Limited improvement after 4 months, developed...</td>\n",
       "      <td>2</td>\n",
       "      <td>15-Mar-14</td>\n",
       "      <td>35</td>\n",
       "      <td>Rheumatoid Arthritis_\"Limited improvement afte...</td>\n",
       "    </tr>\n",
       "    <tr>\n",
       "      <th>161295</th>\n",
       "      <td>47128</td>\n",
       "      <td>Thyroid desiccated</td>\n",
       "      <td>Underactive Thyroid</td>\n",
       "      <td>\"I&amp;#039;ve been on thyroid medication 49 years...</td>\n",
       "      <td>10</td>\n",
       "      <td>19-Sep-15</td>\n",
       "      <td>79</td>\n",
       "      <td>Underactive Thyroid_\"I&amp;#039;ve been on thyroid...</td>\n",
       "    </tr>\n",
       "    <tr>\n",
       "      <th>161296</th>\n",
       "      <td>215220</td>\n",
       "      <td>Lubiprostone</td>\n",
       "      <td>Constipation, Chronic</td>\n",
       "      <td>\"I&amp;#039;ve had chronic constipation all my adu...</td>\n",
       "      <td>9</td>\n",
       "      <td>13-Dec-14</td>\n",
       "      <td>116</td>\n",
       "      <td>Constipation, Chronic_\"I&amp;#039;ve had chronic c...</td>\n",
       "    </tr>\n",
       "  </tbody>\n",
       "</table>\n",
       "<p>161297 rows × 8 columns</p>\n",
       "</div>"
      ],
      "text/plain": [
       "        uniqueID                  drugName                     condition  \\\n",
       "0         206461                 Valsartan  Left Ventricular Dysfunction   \n",
       "1          95260                Guanfacine                          ADHD   \n",
       "2          92703                    Lybrel                 Birth Control   \n",
       "3         138000                Ortho Evra                 Birth Control   \n",
       "4          35696  Buprenorphine / naloxone             Opiate Dependence   \n",
       "...          ...                       ...                           ...   \n",
       "161292    191035                   Campral            Alcohol Dependence   \n",
       "161293    127085            Metoclopramide               Nausea/Vomiting   \n",
       "161294    187382                   Orencia          Rheumatoid Arthritis   \n",
       "161295     47128        Thyroid desiccated           Underactive Thyroid   \n",
       "161296    215220              Lubiprostone         Constipation, Chronic   \n",
       "\n",
       "                                                   review  rating       date  \\\n",
       "0       \"It has no side effect, I take it in combinati...       9  20-May-12   \n",
       "1       \"My son is halfway through his fourth week of ...       8  27-Apr-10   \n",
       "2       \"I used to take another oral contraceptive, wh...       5  14-Dec-09   \n",
       "3       \"This is my first time using any form of birth...       8   3-Nov-15   \n",
       "4       \"Suboxone has completely turned my life around...       9  27-Nov-16   \n",
       "...                                                   ...     ...        ...   \n",
       "161292  \"I wrote my first report in Mid-October of 201...      10  31-May-15   \n",
       "161293  \"I was given this in IV before surgey. I immed...       1   1-Nov-11   \n",
       "161294  \"Limited improvement after 4 months, developed...       2  15-Mar-14   \n",
       "161295  \"I&#039;ve been on thyroid medication 49 years...      10  19-Sep-15   \n",
       "161296  \"I&#039;ve had chronic constipation all my adu...       9  13-Dec-14   \n",
       "\n",
       "        usefulCount                                             report  \n",
       "0                27  Left Ventricular Dysfunction_\"It has no side e...  \n",
       "1               192  ADHD_\"My son is halfway through his fourth wee...  \n",
       "2                17  Birth Control_\"I used to take another oral con...  \n",
       "3                10  Birth Control_\"This is my first time using any...  \n",
       "4                37  Opiate Dependence_\"Suboxone has completely tur...  \n",
       "...             ...                                                ...  \n",
       "161292          125  Alcohol Dependence_\"I wrote my first report in...  \n",
       "161293           34  Nausea/Vomiting_\"I was given this in IV before...  \n",
       "161294           35  Rheumatoid Arthritis_\"Limited improvement afte...  \n",
       "161295           79  Underactive Thyroid_\"I&#039;ve been on thyroid...  \n",
       "161296          116  Constipation, Chronic_\"I&#039;ve had chronic c...  \n",
       "\n",
       "[161297 rows x 8 columns]"
      ]
     },
     "execution_count": 7,
     "metadata": {},
     "output_type": "execute_result"
    }
   ],
   "source": [
    "\n",
    "df['report'] =df[report].apply(lambda row: '_'.join(row.values.astype(str)), axis=1)\n",
    "df"
   ]
  },
  {
   "cell_type": "code",
   "execution_count": 8,
   "id": "807cd05d",
   "metadata": {},
   "outputs": [
    {
     "data": {
      "text/html": [
       "<div>\n",
       "<style scoped>\n",
       "    .dataframe tbody tr th:only-of-type {\n",
       "        vertical-align: middle;\n",
       "    }\n",
       "\n",
       "    .dataframe tbody tr th {\n",
       "        vertical-align: top;\n",
       "    }\n",
       "\n",
       "    .dataframe thead th {\n",
       "        text-align: right;\n",
       "    }\n",
       "</style>\n",
       "<table border=\"1\" class=\"dataframe\">\n",
       "  <thead>\n",
       "    <tr style=\"text-align: right;\">\n",
       "      <th></th>\n",
       "      <th>rating</th>\n",
       "      <th>report</th>\n",
       "    </tr>\n",
       "  </thead>\n",
       "  <tbody>\n",
       "    <tr>\n",
       "      <th>0</th>\n",
       "      <td>9</td>\n",
       "      <td>Left Ventricular Dysfunction_\"It has no side e...</td>\n",
       "    </tr>\n",
       "    <tr>\n",
       "      <th>1</th>\n",
       "      <td>8</td>\n",
       "      <td>ADHD_\"My son is halfway through his fourth wee...</td>\n",
       "    </tr>\n",
       "    <tr>\n",
       "      <th>2</th>\n",
       "      <td>5</td>\n",
       "      <td>Birth Control_\"I used to take another oral con...</td>\n",
       "    </tr>\n",
       "    <tr>\n",
       "      <th>3</th>\n",
       "      <td>8</td>\n",
       "      <td>Birth Control_\"This is my first time using any...</td>\n",
       "    </tr>\n",
       "    <tr>\n",
       "      <th>4</th>\n",
       "      <td>9</td>\n",
       "      <td>Opiate Dependence_\"Suboxone has completely tur...</td>\n",
       "    </tr>\n",
       "    <tr>\n",
       "      <th>5</th>\n",
       "      <td>2</td>\n",
       "      <td>Benign Prostatic Hyperplasia_\"2nd day on 5mg s...</td>\n",
       "    </tr>\n",
       "    <tr>\n",
       "      <th>6</th>\n",
       "      <td>1</td>\n",
       "      <td>Emergency Contraception_\"He pulled out, but he...</td>\n",
       "    </tr>\n",
       "    <tr>\n",
       "      <th>7</th>\n",
       "      <td>10</td>\n",
       "      <td>Bipolar Disorde_\"Abilify changed my life. Ther...</td>\n",
       "    </tr>\n",
       "    <tr>\n",
       "      <th>8</th>\n",
       "      <td>1</td>\n",
       "      <td>Epilepsy_\" I Ve had  nothing but problems with...</td>\n",
       "    </tr>\n",
       "    <tr>\n",
       "      <th>9</th>\n",
       "      <td>8</td>\n",
       "      <td>Birth Control_\"I had been on the pill for many...</td>\n",
       "    </tr>\n",
       "  </tbody>\n",
       "</table>\n",
       "</div>"
      ],
      "text/plain": [
       "   rating                                             report\n",
       "0       9  Left Ventricular Dysfunction_\"It has no side e...\n",
       "1       8  ADHD_\"My son is halfway through his fourth wee...\n",
       "2       5  Birth Control_\"I used to take another oral con...\n",
       "3       8  Birth Control_\"This is my first time using any...\n",
       "4       9  Opiate Dependence_\"Suboxone has completely tur...\n",
       "5       2  Benign Prostatic Hyperplasia_\"2nd day on 5mg s...\n",
       "6       1  Emergency Contraception_\"He pulled out, but he...\n",
       "7      10  Bipolar Disorde_\"Abilify changed my life. Ther...\n",
       "8       1  Epilepsy_\" I Ve had  nothing but problems with...\n",
       "9       8  Birth Control_\"I had been on the pill for many..."
      ]
     },
     "execution_count": 8,
     "metadata": {},
     "output_type": "execute_result"
    }
   ],
   "source": [
    "\n",
    "df_train = df.drop(['uniqueID','drugName','date','usefulCount','condition','review'],axis=1)\n",
    "df_train .head(10)"
   ]
  },
  {
   "cell_type": "code",
   "execution_count": 9,
   "id": "1b532eb1",
   "metadata": {},
   "outputs": [],
   "source": [
    "def clean_text (text):\n",
    "    # Remove Pre and Post Spaces\n",
    "    text = str(text).strip()\n",
    "    \n",
    "    # Lower case the entire text\n",
    "    text = str(text).lower()\n",
    "\n",
    "    # Substitute New Line Characters with spaces \n",
    "    text = re.sub(r\"\\n\", r\" \", text)\n",
    "        \n",
    "    # Tokenize the sentence\n",
    "    word_tokens = word_tokenize(text)\n",
    "    \n",
    "    # Remove the punctuation and  special characters from each individual word\n",
    "    cleaned_text = []\n",
    "    for word in word_tokens:\n",
    "        cleaned_text.append(\"\".join([char for char in word if char.isalnum()]))\n",
    "    \n",
    "    # Specify the stop words list\n",
    "    stop_words = stopwords.words('english')\n",
    "    \n",
    "    # Remove the stopwords and words containing less then 2 characters\n",
    "    text_tokens = [word for word in cleaned_text if (len(word) > 2) and (word not in stop_words)]\n",
    "    \n",
    "    #Lemmatize each word in the word list\n",
    "    text = lemmatize (text_tokens)\n",
    "    \n",
    "    return text"
   ]
  },
  {
   "cell_type": "code",
   "execution_count": 10,
   "id": "8ab10593",
   "metadata": {},
   "outputs": [],
   "source": [
    "def get_wordnet_pos (tag):\n",
    "    if tag.startswith('J'):\n",
    "        return wordnet.ADJ\n",
    "    elif tag.startswith('V'):\n",
    "        return wordnet.VERB\n",
    "    elif tag.startswith('N'):\n",
    "        return wordnet.NOUN\n",
    "    elif tag.startswith('R'):\n",
    "        return wordnet.ADV\n",
    "    else:\n",
    "        return wordnet.NOUN\n"
   ]
  },
  {
   "cell_type": "code",
   "execution_count": 11,
   "id": "8af7e024",
   "metadata": {},
   "outputs": [],
   "source": [
    "def lemmatize (word_list):\n",
    "    wl = WordNetLemmatizer()\n",
    "    word_pos_tags = pos_tag(word_list)\n",
    "    lemmatized_list = []\n",
    "    for tag in word_pos_tags:\n",
    "        lemmatize_word = wl.lemmatize(tag[0],get_wordnet_pos(tag[1]))\n",
    "        lemmatized_list.append(lemmatize_word)\n",
    "    return \" \".join(lemmatized_list)"
   ]
  },
  {
   "cell_type": "code",
   "execution_count": 12,
   "id": "cb06b140",
   "metadata": {},
   "outputs": [],
   "source": [
    "df_train['report'] = df_train['report'].apply(lambda x: clean_text(x))"
   ]
  },
  {
   "cell_type": "code",
   "execution_count": 13,
   "id": "20e81cc9",
   "metadata": {
    "scrolled": false
   },
   "outputs": [
    {
     "data": {
      "text/plain": [
       "0          9\n",
       "1          8\n",
       "2          5\n",
       "3          8\n",
       "4          9\n",
       "          ..\n",
       "161292    10\n",
       "161293     1\n",
       "161294     2\n",
       "161295    10\n",
       "161296     9\n",
       "Name: rating, Length: 161297, dtype: int64"
      ]
     },
     "execution_count": 13,
     "metadata": {},
     "output_type": "execute_result"
    }
   ],
   "source": [
    "df_train['rating']"
   ]
  },
  {
   "cell_type": "code",
   "execution_count": 14,
   "id": "5bba0d25",
   "metadata": {},
   "outputs": [],
   "source": [
    "def map_rating_to_class(rating):\n",
    "    if rating >= 7:\n",
    "        return 'positive'\n",
    "    elif rating <= 4:\n",
    "        return 'negative'\n",
    "    else:\n",
    "        return 'neutral'\n",
    "\n",
    "# Apply the function to create a new column 'rating_class' in the DataFrame\n",
    "# Apply the function to create a new column 'class' in the DataFrame using .loc[row_indexer, col_indexer]\n",
    "df_train.loc[:, 'rating'] = df_train['rating'].apply(map_rating_to_class)\n",
    "\n",
    "#print(df.head(10))"
   ]
  },
  {
   "cell_type": "code",
   "execution_count": 15,
   "id": "d1688502",
   "metadata": {
    "scrolled": false
   },
   "outputs": [
    {
     "data": {
      "text/plain": [
       "0         positive\n",
       "1         positive\n",
       "2          neutral\n",
       "3         positive\n",
       "4         positive\n",
       "            ...   \n",
       "161292    positive\n",
       "161293    negative\n",
       "161294    negative\n",
       "161295    positive\n",
       "161296    positive\n",
       "Name: rating, Length: 161297, dtype: object"
      ]
     },
     "execution_count": 15,
     "metadata": {},
     "output_type": "execute_result"
    }
   ],
   "source": [
    "\n",
    "df_train['rating'] "
   ]
  },
  {
   "cell_type": "code",
   "execution_count": null,
   "id": "c30660d6",
   "metadata": {},
   "outputs": [],
   "source": []
  },
  {
   "cell_type": "code",
   "execution_count": 16,
   "id": "5adbc092",
   "metadata": {},
   "outputs": [],
   "source": [
    "Sentiment_train = df_train['rating']\n",
    "Report_train = df_train['report']"
   ]
  },
  {
   "cell_type": "code",
   "execution_count": 17,
   "id": "5ae24d2e",
   "metadata": {},
   "outputs": [],
   "source": [
    "X_train, X_test, y_train, y_test = train_test_split(Report_train, Sentiment_train, test_size=0.25)\n",
    "#print(\"Training Data Input Shape: \", X_train.shape)\n",
    "#print(\"Training Data Output Shape: \", y_train.shape)\n",
    "#print(\"Testing Data Input Shape: \", X_test.shape)\n",
    "#print(\"Testing Data Output Shape: \", y_test.shape)\n",
    "#print(\"Training Data Input Shape: \", X_train)\n",
    "#print(\"Training Data Output Shape: \", y_train)\n",
    "#print(\"Testing Data Input Shape: \", X_test)\n",
    "#print(\"Testing Data Output Shape: \", y_test)"
   ]
  },
  {
   "cell_type": "code",
   "execution_count": 18,
   "id": "0b43240d",
   "metadata": {},
   "outputs": [
    {
     "name": "stdout",
     "output_type": "stream",
     "text": [
      "Sentiment_Train shape after one-hot encoding :  (161297, 3)    Sentiment_Test shape after one-hot encoding :  (40325, 3) \n",
      "\n"
     ]
    }
   ],
   "source": [
    "from numpy import array\n",
    "from sklearn.preprocessing import LabelEncoder, OneHotEncoder\n",
    "# One-Hot Encoding of Sentiment_Train\n",
    "Sentiment_train = array(Sentiment_train)\n",
    "# integer encode\n",
    "label_encoder = LabelEncoder()\n",
    "Sentiment_train_integer_encoded = label_encoder.fit_transform(Sentiment_train)\n",
    "# binary encode\n",
    "onehot_encoder = OneHotEncoder(sparse=False)\n",
    "Sentiment_train_integer_encoded = Sentiment_train_integer_encoded.reshape(len(Sentiment_train_integer_encoded), 1)\n",
    "Sentiment_train_onehot_encoded = onehot_encoder.fit_transform(Sentiment_train_integer_encoded)\n",
    "# One-Hot Encoding of Sentiment_Test\n",
    "Sentiment_test = array( y_test)\n",
    "# integer encode\n",
    "label_encoder = LabelEncoder()\n",
    "Sentiment_test_integer_encoded = label_encoder.fit_transform(y_test)\n",
    "# binary encode\n",
    "onehot_encoder = OneHotEncoder(sparse=False)\n",
    "Sentiment_test_integer_encoded = Sentiment_test_integer_encoded.reshape(len(Sentiment_test_integer_encoded), 1)\n",
    "Sentiment_test_onehot_encoded = onehot_encoder.fit_transform(Sentiment_test_integer_encoded)\n",
    "print(\"Sentiment_Train shape after one-hot encoding : \",Sentiment_train_onehot_encoded.shape,\"  \"\n",
    "     ,\"Sentiment_Test shape after one-hot encoding : \",Sentiment_test_onehot_encoded.shape,\"\\n\")"
   ]
  },
  {
   "cell_type": "code",
   "execution_count": 19,
   "id": "243d0171",
   "metadata": {},
   "outputs": [
    {
     "name": "stdout",
     "output_type": "stream",
     "text": [
      "Report_Train shape after padding :  (161297, 100)    Report_Test shape after padding:  (40325, 100)\n"
     ]
    }
   ],
   "source": [
    "# Tokenize and Create Sequence For Train set\n",
    "tokenizer = Tokenizer(num_words = 10000)\n",
    "tokenizer.fit_on_texts(Report_train)\n",
    "Report_train_sequences = tokenizer.texts_to_sequences(Report_train)\n",
    "Report_train_padded = pad_sequences(Report_train_sequences, maxlen=100, padding='post', truncating='post')             # maxlen is the size of words in a review here it is 100\n",
    "# Tokenize and Create Sequence For Test set\n",
    "Report_test_sequences = tokenizer.texts_to_sequences(X_test)\n",
    "Report_test_padded = pad_sequences(Report_test_sequences, maxlen=100, padding='post', truncating='post')\n",
    "print(\"Report_Train shape after padding : \",Report_train_padded.shape,\"  \",\"Report_Test shape after padding: \",Report_test_padded.shape)\n",
    "Sentiment_labels = ['Negative', 'Neutral', 'Positive']    "
   ]
  },
  {
   "cell_type": "code",
   "execution_count": 20,
   "id": "957a2715",
   "metadata": {},
   "outputs": [
    {
     "data": {
      "text/plain": [
       "60563"
      ]
     },
     "execution_count": 20,
     "metadata": {},
     "output_type": "execute_result"
    }
   ],
   "source": [
    "vocab_size = len(tokenizer.index_word) + 1\n",
    "vocab_size "
   ]
  },
  {
   "cell_type": "code",
   "execution_count": 51,
   "id": "83563cc1",
   "metadata": {},
   "outputs": [],
   "source": [
    "import os\n",
    "from tensorflow.keras.callbacks import EarlyStopping, ModelCheckpoint\n",
    "checkpoint_filepath = os.getcwd()\n",
    "model_checkpoint_callback = ModelCheckpoint(filepath=checkpoint_filepath, save_weights_only=False, monitor='val_loss', mode='min', save_best_only=True)\n",
    "callbacks = [EarlyStopping(patience=2), model_checkpoint_callback]"
   ]
  },
  {
   "cell_type": "markdown",
   "id": "c4b3305c",
   "metadata": {},
   "source": [
    "# Bi-LSTM"
   ]
  },
  {
   "cell_type": "code",
   "execution_count": 23,
   "id": "d15730c6",
   "metadata": {},
   "outputs": [
    {
     "name": "stdout",
     "output_type": "stream",
     "text": [
      "Model: \"sequential_2\"\n",
      "_________________________________________________________________\n",
      " Layer (type)                Output Shape              Param #   \n",
      "=================================================================\n",
      " embedding_1 (Embedding)     (None, 100, 100)          6056300   \n",
      "                                                                 \n",
      " spatial_dropout1d (SpatialD  (None, 100, 100)         0         \n",
      " ropout1D)                                                       \n",
      "                                                                 \n",
      " bidirectional (Bidirectiona  (None, 200)              160800    \n",
      " l)                                                              \n",
      "                                                                 \n",
      " dense (Dense)               (None, 1024)              205824    \n",
      "                                                                 \n",
      " dropout (Dropout)           (None, 1024)              0         \n",
      "                                                                 \n",
      " dense_1 (Dense)             (None, 1024)              1049600   \n",
      "                                                                 \n",
      " dropout_1 (Dropout)         (None, 1024)              0         \n",
      "                                                                 \n",
      " dense_2 (Dense)             (None, 3)                 3075      \n",
      "                                                                 \n",
      " activation (Activation)     (None, 3)                 0         \n",
      "                                                                 \n",
      "=================================================================\n",
      "Total params: 7,475,599\n",
      "Trainable params: 7,475,599\n",
      "Non-trainable params: 0\n",
      "_________________________________________________________________\n",
      "None\n"
     ]
    }
   ],
   "source": [
    "from keras.layers.core import Dense, Activation, Dropout\n",
    "from keras.layers import GlobalMaxPooling1D, Conv1D, MaxPooling1D, Flatten, Bidirectional, SpatialDropout1D\n",
    "from keras.layers import Embedding, Conv1D, LSTM, Dense, Dropout\n",
    "LSTM_model = Sequential()\n",
    "sequence_len=100\n",
    "LSTM_model.add(layers.Embedding(input_dim=vocab_size, output_dim=100, input_length=sequence_len))\n",
    "LSTM_model.add(SpatialDropout1D(0.3))\n",
    "LSTM_model.add(Bidirectional(LSTM(100, dropout=0.3, recurrent_dropout=0.3)))\n",
    "LSTM_model.add(Dense(1024, activation=\"relu\"))\n",
    "LSTM_model.add(Dropout(0.8))\n",
    "LSTM_model.add(Dense(1024, activation=\"relu\"))\n",
    "LSTM_model.add(Dropout(0.8))\n",
    "LSTM_model.add(Dense(3))\n",
    "LSTM_model.add(Activation(\"softmax\"))\n",
    "LSTM_model.compile(loss=\"categorical_crossentropy\", optimizer=\"adam\", metrics=[\"accuracy\"])\n",
    "print(LSTM_model.summary())"
   ]
  },
  {
   "cell_type": "code",
   "execution_count": 62,
   "id": "10b85eed",
   "metadata": {},
   "outputs": [
    {
     "name": "stdout",
     "output_type": "stream",
     "text": [
      "Epoch 1/5\n",
      "2521/2521 [==============================] - 2983s 1s/step - loss: 0.6438 - accuracy: 0.7574 - val_loss: 0.5188 - val_accuracy: 0.8044\n",
      "Epoch 2/5\n",
      "2521/2521 [==============================] - 3218s 1s/step - loss: 0.5586 - accuracy: 0.7927 - val_loss: 0.4822 - val_accuracy: 0.8219\n",
      "Epoch 3/5\n",
      "2521/2521 [==============================] - 3253s 1s/step - loss: 0.5226 - accuracy: 0.8052 - val_loss: 0.4575 - val_accuracy: 0.8247\n",
      "Epoch 4/5\n",
      "2521/2521 [==============================] - 3444s 1s/step - loss: 0.4975 - accuracy: 0.8134 - val_loss: 0.4230 - val_accuracy: 0.8385\n",
      "Epoch 5/5\n",
      "2521/2521 [==============================] - 4457s 2s/step - loss: 0.4760 - accuracy: 0.8211 - val_loss: 0.3938 - val_accuracy: 0.8476\n"
     ]
    }
   ],
   "source": [
    "history_LSTM = LSTM_model.fit(Report_train_padded,Sentiment_train_onehot_encoded, epochs=5, batch_size=64, validation_data=(Report_test_padded, Sentiment_test_onehot_encoded))\n",
    "\n"
   ]
  },
  {
   "cell_type": "code",
   "execution_count": 84,
   "id": "3afc3c57",
   "metadata": {},
   "outputs": [
    {
     "name": "stdout",
     "output_type": "stream",
     "text": [
      "1261/1261 [==============================] - 59s 47ms/step - loss: 0.3938 - accuracy: 0.8476\n",
      "\n",
      " Evaluated model accuracy on test data : 0.8475635647773743\n",
      "\n",
      " stop time: Wed May  3 23:55:31 2023 \n",
      "\n",
      "1261/1261 [==============================] - 59s 47ms/step\n"
     ]
    }
   ],
   "source": [
    "import time\n",
    "import itertools\n",
    "import warnings\n",
    "from sklearn.metrics import confusion_matrix\n",
    "# Model Evaluation on Test data\n",
    "test_loss,test_acc = LSTM_model.evaluate(Report_test_padded, Sentiment_test_onehot_encoded)\n",
    "print(\"\\n Evaluated model accuracy on test data :\",test_acc)\n",
    "seconds= time.time()\n",
    "time_stop = time.ctime(seconds)\n",
    "print(\"\\n\",\"stop time:\", time_stop,\"\\n\")\n",
    "# Predict the values from the Test dataset\n",
    "Sentiment_pred = LSTM_model.predict(Report_test_padded)\n",
    "# Convert predictions classes to one hot vectors\n",
    "Sentiment_pred_classes = np.argmax(Sentiment_pred,axis = 1)\n",
    "# computing the confusion matrix"
   ]
  },
  {
   "cell_type": "code",
   "execution_count": 85,
   "id": "85c1e09b",
   "metadata": {},
   "outputs": [
    {
     "data": {
      "text/plain": [
       "<function sklearn.metrics._classification.confusion_matrix(y_true, y_pred, *, labels=None, sample_weight=None, normalize=None)>"
      ]
     },
     "execution_count": 85,
     "metadata": {},
     "output_type": "execute_result"
    }
   ],
   "source": [
    "confusion_mtx = confusion_matrix(Sentiment_test_integer_encoded, Sentiment_pred_classes)\n",
    "confusion_matrix"
   ]
  },
  {
   "cell_type": "code",
   "execution_count": 86,
   "id": "8b3770ac",
   "metadata": {},
   "outputs": [
    {
     "name": "stdout",
     "output_type": "stream",
     "text": [
      "              precision    recall  f1-score   support\n",
      "\n",
      "    Negative       0.78      0.84      0.81     10055\n",
      "     Neutral       0.00      0.00      0.00      3543\n",
      "    Positive       0.87      0.96      0.92     26727\n",
      "\n",
      "    accuracy                           0.85     40325\n",
      "   macro avg       0.55      0.60      0.57     40325\n",
      "weighted avg       0.77      0.85      0.81     40325\n",
      "\n",
      "Accuracy: 0.847564\n",
      "Cohen_score: 0.660347\n"
     ]
    },
    {
     "name": "stderr",
     "output_type": "stream",
     "text": [
      "C:\\Users\\Sena\\anaconda3\\lib\\site-packages\\sklearn\\metrics\\_classification.py:1318: UndefinedMetricWarning: Precision and F-score are ill-defined and being set to 0.0 in labels with no predicted samples. Use `zero_division` parameter to control this behavior.\n",
      "  _warn_prf(average, modifier, msg_start, len(result))\n",
      "C:\\Users\\Sena\\anaconda3\\lib\\site-packages\\sklearn\\metrics\\_classification.py:1318: UndefinedMetricWarning: Precision and F-score are ill-defined and being set to 0.0 in labels with no predicted samples. Use `zero_division` parameter to control this behavior.\n",
      "  _warn_prf(average, modifier, msg_start, len(result))\n",
      "C:\\Users\\Sena\\anaconda3\\lib\\site-packages\\sklearn\\metrics\\_classification.py:1318: UndefinedMetricWarning: Precision and F-score are ill-defined and being set to 0.0 in labels with no predicted samples. Use `zero_division` parameter to control this behavior.\n",
      "  _warn_prf(average, modifier, msg_start, len(result))\n"
     ]
    }
   ],
   "source": [
    "#Printing Classification Report for Sentiment\n",
    "from sklearn.metrics import cohen_kappa_score\n",
    "from sklearn.metrics import accuracy_score\n",
    "from sklearn.metrics import classification_report\n",
    "print(classification_report(Sentiment_test_integer_encoded, Sentiment_pred_classes, target_names = Sentiment_labels))\n",
    "accuracy = accuracy_score(Sentiment_test_integer_encoded, Sentiment_pred_classes)\n",
    "print('Accuracy: %f' % accuracy)\n",
    "cohen_score = cohen_kappa_score(Sentiment_test_integer_encoded, Sentiment_pred_classes)\n",
    "print('Cohen_score: %f' % cohen_score)"
   ]
  },
  {
   "cell_type": "code",
   "execution_count": 65,
   "id": "f67850a8",
   "metadata": {},
   "outputs": [
    {
     "data": {
      "image/png": "[encoded data removed]",
      "text/plain": [
       "<Figure size 432x288 with 2 Axes>"
      ]
     },
     "metadata": {
      "needs_background": "light"
     },
     "output_type": "display_data"
    }
   ],
   "source": [
    "\n",
    "# Plot the loss and accuracy curves for training and validation\n",
    "fig, ax = plt.subplots(2,1)\n",
    "ax[0].plot(history_LSTM .history['loss'], color='b', label=\"Training loss\")\n",
    "ax[0].plot(history_LSTM .history['val_loss'], color='r', label=\"validation loss\",axes =ax[0])\n",
    "legend = ax[0].legend(loc='best', shadow=True)\n",
    "ax[1].plot(history_LSTM .history['accuracy'], color='b', label=\"Training accuracy\")\n",
    "ax[1].plot(history_LSTM .history['val_accuracy'], color='r',label=\"Validation accuracy\")\n",
    "legend = ax[1].legend(loc='best', shadow=True)\n",
    "plt.show()"
   ]
  },
  {
   "cell_type": "code",
   "execution_count": 66,
   "id": "ce7ffb99",
   "metadata": {},
   "outputs": [
    {
     "data": {
      "image/png": "[encoded data removed]",
      "text/plain": [
       "<Figure size 432x288 with 2 Axes>"
      ]
     },
     "metadata": {
      "needs_background": "light"
     },
     "output_type": "display_data"
    }
   ],
   "source": [
    "# Defining function for plotting confusion matrix\n",
    "def plot_confusion_matrix(cm, classes,\n",
    "                          normalize=False,\n",
    "                          title='Confusion matrix',\n",
    "                          cmap=plt.cm.Blues):\n",
    "    '''\n",
    "    This function prints and plots the confusion matrix.\n",
    "    Normalization can be applied by setting `normalize=True`.\n",
    "    '''\n",
    "    plt.imshow(cm, interpolation='nearest', cmap=cmap)\n",
    "    plt.title(title)\n",
    "    plt.colorbar()\n",
    "    tick_marks = np.arange(len(classes))\n",
    "    plt.xticks(tick_marks, classes, rotation=45)\n",
    "    plt.yticks(tick_marks, classes)\n",
    "    if normalize:\n",
    "        cm = cm.astype('float') / cm.sum(axis=1)[:, np.newaxis]\n",
    "    thresh = cm.max() / 2.\n",
    "    for i, j in itertools.product(range(cm.shape[0]), range(cm.shape[1])):\n",
    "        plt.text(j, i, cm[i, j],\n",
    "                 horizontalalignment=\"center\",\n",
    "                 color=\"white\" if cm[i, j] > thresh else \"black\")\n",
    "    plt.tight_layout()\n",
    "    plt.ylabel('True label')\n",
    "    plt.xlabel('Predicted label')\n",
    "    plt.show()\n",
    "# plot the confusion matrix\n",
    "plot_confusion_matrix(confusion_mtx, classes = range(3))"
   ]
  },
  {
   "cell_type": "markdown",
   "id": "1b7c8f32",
   "metadata": {},
   "source": [
    "# Bi-LSTM_CNN"
   ]
  },
  {
   "cell_type": "code",
   "execution_count": 32,
   "id": "7703f618",
   "metadata": {},
   "outputs": [
    {
     "name": "stdout",
     "output_type": "stream",
     "text": [
      "Model: \"sequential_5\"\n",
      "_________________________________________________________________\n",
      " Layer (type)                Output Shape              Param #   \n",
      "=================================================================\n",
      " embedding_4 (Embedding)     (None, 100, 100)          6056300   \n",
      "                                                                 \n",
      " conv1d_3 (Conv1D)           (None, 96, 64)            32064     \n",
      "                                                                 \n",
      " max_pooling1d_3 (MaxPooling  (None, 24, 64)           0         \n",
      " 1D)                                                             \n",
      "                                                                 \n",
      " bidirectional_1 (Bidirectio  (None, 128)              66048     \n",
      " nal)                                                            \n",
      "                                                                 \n",
      " dense_4 (Dense)             (None, 3)                 387       \n",
      "                                                                 \n",
      "=================================================================\n",
      "Total params: 6,154,799\n",
      "Trainable params: 6,154,799\n",
      "Non-trainable params: 0\n",
      "_________________________________________________________________\n",
      "None\n"
     ]
    }
   ],
   "source": [
    "# Build the CNN-LSTM model\n",
    "sequence_len=100\n",
    "modelCNN_LSTM = Sequential()\n",
    "modelCNN_LSTM.add(layers.Embedding(input_dim=vocab_size, output_dim=100, input_length=sequence_len ))\n",
    "modelCNN_LSTM.add(Conv1D(64, 5, activation='relu'))\n",
    "modelCNN_LSTM.add(MaxPooling1D(pool_size=4))\n",
    "modelCNN_LSTM.add(Bidirectional(LSTM(64, dropout=0.1, recurrent_dropout=0.3)))\n",
    "modelCNN_LSTM.add(Dense(len(label_encoder.classes_), activation='softmax'))\n",
    "# Compile the model\n",
    "modelCNN_LSTM.compile(loss=\"categorical_crossentropy\", optimizer=\"adam\", metrics=[\"accuracy\"])\n",
    "print(modelCNN_LSTM.summary())\n",
    "# Train the model"
   ]
  },
  {
   "cell_type": "code",
   "execution_count": 33,
   "id": "2876eec3",
   "metadata": {},
   "outputs": [
    {
     "name": "stdout",
     "output_type": "stream",
     "text": [
      "Epoch 1/5\n",
      "1261/1261 [==============================] - 283s 215ms/step - loss: 0.5896 - accuracy: 0.7728 - val_loss: 0.4636 - val_accuracy: 0.8269\n",
      "Epoch 2/5\n",
      "1261/1261 [==============================] - 271s 215ms/step - loss: 0.4529 - accuracy: 0.8282 - val_loss: 0.3331 - val_accuracy: 0.8755\n",
      "Epoch 3/5\n",
      "1261/1261 [==============================] - 264s 210ms/step - loss: 0.3349 - accuracy: 0.8749 - val_loss: 0.2246 - val_accuracy: 0.9309\n",
      "Epoch 4/5\n",
      "1261/1261 [==============================] - 266s 211ms/step - loss: 0.2267 - accuracy: 0.9184 - val_loss: 0.1283 - val_accuracy: 0.9605\n",
      "Epoch 5/5\n",
      "1261/1261 [==============================] - 197s 156ms/step - loss: 0.1487 - accuracy: 0.9480 - val_loss: 0.0698 - val_accuracy: 0.9798\n"
     ]
    }
   ],
   "source": [
    "history_LSTM_CNN= modelCNN_LSTM.fit(Report_train_padded,Sentiment_train_onehot_encoded, epochs=5, batch_size=128, validation_data=(Report_test_padded, Sentiment_test_onehot_encoded))\n",
    "\n"
   ]
  },
  {
   "cell_type": "code",
   "execution_count": 34,
   "id": "f32a984e",
   "metadata": {},
   "outputs": [
    {
     "name": "stdout",
     "output_type": "stream",
     "text": [
      "1261/1261 [==============================] - 13s 10ms/step - loss: 0.0698 - accuracy: 0.9798\n",
      "\n",
      " Evaluated model accuracy on test data : 0.9798139929771423\n",
      "\n",
      " stop time: Tue May  9 11:34:26 2023 \n",
      "\n",
      "1261/1261 [==============================] - 13s 10ms/step\n"
     ]
    }
   ],
   "source": [
    "import time\n",
    "import itertools\n",
    "import warnings\n",
    "from sklearn.metrics import confusion_matrix\n",
    "# Model Evaluation on Test data\n",
    "test_loss,test_acc =modelCNN_LSTM.evaluate(Report_test_padded, Sentiment_test_onehot_encoded)\n",
    "print(\"\\n Evaluated model accuracy on test data :\",test_acc)\n",
    "seconds= time.time()\n",
    "time_stop = time.ctime(seconds)\n",
    "print(\"\\n\",\"stop time:\", time_stop,\"\\n\")\n",
    "# Predict the values from the Test dataset\n",
    "Sentiment_pred = modelCNN_LSTM.predict(Report_test_padded)\n",
    "# Convert predictions classes to one hot vectors\n",
    "Sentiment_pred_classes = np.argmax(Sentiment_pred,axis = 1)\n",
    "# computing the confusion matrix"
   ]
  },
  {
   "cell_type": "code",
   "execution_count": 35,
   "id": "b0aeed12",
   "metadata": {},
   "outputs": [
    {
     "data": {
      "text/plain": [
       "<function sklearn.metrics._classification.confusion_matrix(y_true, y_pred, *, labels=None, sample_weight=None, normalize=None)>"
      ]
     },
     "execution_count": 35,
     "metadata": {},
     "output_type": "execute_result"
    }
   ],
   "source": [
    "confusion_mtx = confusion_matrix(Sentiment_test_integer_encoded, Sentiment_pred_classes)\n",
    "confusion_matrix"
   ]
  },
  {
   "cell_type": "code",
   "execution_count": 36,
   "id": "aa6c91cc",
   "metadata": {},
   "outputs": [
    {
     "name": "stdout",
     "output_type": "stream",
     "text": [
      "              precision    recall  f1-score   support\n",
      "\n",
      "    Negative       0.98      0.97      0.97     10068\n",
      "     Neutral       0.92      0.90      0.91      3562\n",
      "    Positive       0.99      0.99      0.99     26695\n",
      "\n",
      "    accuracy                           0.98     40325\n",
      "   macro avg       0.96      0.96      0.96     40325\n",
      "weighted avg       0.98      0.98      0.98     40325\n",
      "\n",
      "Accuracy: 0.979814\n",
      "Cohen_score: 0.958807\n"
     ]
    }
   ],
   "source": [
    "#Printing Classification Report for Sentiment\n",
    "from sklearn.metrics import cohen_kappa_score\n",
    "from sklearn.metrics import accuracy_score\n",
    "from sklearn.metrics import classification_report\n",
    "print(classification_report(Sentiment_test_integer_encoded, Sentiment_pred_classes, target_names = Sentiment_labels))\n",
    "accuracy = accuracy_score(Sentiment_test_integer_encoded, Sentiment_pred_classes)\n",
    "print('Accuracy: %f' % accuracy)\n",
    "cohen_score = cohen_kappa_score(Sentiment_test_integer_encoded, Sentiment_pred_classes)\n",
    "print('Cohen_score: %f' % cohen_score)"
   ]
  },
  {
   "cell_type": "code",
   "execution_count": 37,
   "id": "d5b993de",
   "metadata": {},
   "outputs": [
    {
     "data": {
      "image/png": "[encoded data removed]",
      "text/plain": [
       "<Figure size 432x288 with 2 Axes>"
      ]
     },
     "metadata": {
      "needs_background": "light"
     },
     "output_type": "display_data"
    }
   ],
   "source": [
    "\n",
    "# Plot the loss and accuracy curves for training and validation\n",
    "fig, ax = plt.subplots(2,1)\n",
    "ax[0].plot(history_LSTM_CNN .history['loss'], color='b', label=\"Training loss\")\n",
    "ax[0].plot(history_LSTM_CNN .history['val_loss'], color='r', label=\"validation loss\",axes =ax[0])\n",
    "legend = ax[0].legend(loc='best', shadow=True)\n",
    "ax[1].plot(history_LSTM_CNN.history['accuracy'], color='b', label=\"Training accuracy\")\n",
    "ax[1].plot(history_LSTM_CNN.history['val_accuracy'], color='r',label=\"Validation accuracy\")\n",
    "legend = ax[1].legend(loc='best', shadow=True)\n",
    "plt.show()"
   ]
  },
  {
   "cell_type": "code",
   "execution_count": 38,
   "id": "8a61fc97",
   "metadata": {},
   "outputs": [
    {
     "data": {
      "image/png": "[encoded data removed]",
      "text/plain": [
       "<Figure size 432x288 with 2 Axes>"
      ]
     },
     "metadata": {
      "needs_background": "light"
     },
     "output_type": "display_data"
    }
   ],
   "source": [
    "# Defining function for plotting confusion matrix\n",
    "def plot_confusion_matrix(cm, classes,\n",
    "                          normalize=False,\n",
    "                          title='Confusion matrix',\n",
    "                          cmap=plt.cm.Blues):\n",
    "    '''\n",
    "    This function prints and plots the confusion matrix.\n",
    "    Normalization can be applied by setting `normalize=True`.\n",
    "    '''\n",
    "    plt.imshow(cm, interpolation='nearest', cmap=cmap)\n",
    "    plt.title(title)\n",
    "    plt.colorbar()\n",
    "    tick_marks = np.arange(len(classes))\n",
    "    plt.xticks(tick_marks, classes, rotation=45)\n",
    "    plt.yticks(tick_marks, classes)\n",
    "    if normalize:\n",
    "        cm = cm.astype('float') / cm.sum(axis=1)[:, np.newaxis]\n",
    "    thresh = cm.max() / 2.\n",
    "    for i, j in itertools.product(range(cm.shape[0]), range(cm.shape[1])):\n",
    "        plt.text(j, i, cm[i, j],\n",
    "                 horizontalalignment=\"center\",\n",
    "                 color=\"white\" if cm[i, j] > thresh else \"black\")\n",
    "    plt.tight_layout()\n",
    "    plt.ylabel('True label')\n",
    "    plt.xlabel('Predicted label')\n",
    "    plt.show()\n",
    "# plot the confusion matrix\n",
    "plot_confusion_matrix(confusion_mtx, classes = range(3))"
   ]
  },
  {
   "cell_type": "code",
   "execution_count": null,
   "id": "1911752c",
   "metadata": {},
   "outputs": [],
   "source": []
  },
  {
   "cell_type": "code",
   "execution_count": null,
   "id": "b0106c8f",
   "metadata": {},
   "outputs": [],
   "source": []
  },
  {
   "cell_type": "code",
   "execution_count": null,
   "id": "5de99347",
   "metadata": {},
   "outputs": [],
   "source": []
  },
  {
   "cell_type": "code",
   "execution_count": null,
   "id": "411c492f",
   "metadata": {},
   "outputs": [],
   "source": []
  }
 ],
 "metadata": {
  "kernelspec": {
   "display_name": "Python 3 (ipykernel)",
   "language": "python",
   "name": "python3"
  },
  "language_info": {
   "codemirror_mode": {
    "name": "ipython",
    "version": 3
   },
   "file_extension": ".py",
   "mimetype": "text/x-python",
   "name": "python",
   "nbconvert_exporter": "python",
   "pygments_lexer": "ipython3",
   "version": "3.9.12"
  }
 },
 "nbformat": 4,
 "nbformat_minor": 5
}
