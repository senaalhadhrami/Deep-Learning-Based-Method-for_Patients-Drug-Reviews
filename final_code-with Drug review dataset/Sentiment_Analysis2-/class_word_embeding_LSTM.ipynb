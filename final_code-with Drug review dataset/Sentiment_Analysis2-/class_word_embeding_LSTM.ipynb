{
 "cells": [
  {
   "cell_type": "markdown",
   "metadata": {
    "colab": {
     "base_uri": "https://localhost:8080/"
    },
    "executionInfo": {
     "elapsed": 27,
     "status": "ok",
     "timestamp": 1681981198195,
     "user": {
      "displayName": "Sena ALHADHRAMI",
      "userId": "15424902837319805851"
     },
     "user_tz": -120
    },
    "id": "05-QFm04aZrj",
    "outputId": "ea7b2390-7fd2-4987-f0a4-6e2c36313503"
   },
   "source": [
    "# Project Description :\n"
   ]
  },
  {
   "cell_type": "markdown",
   "metadata": {},
   "source": [
    "\n",
    "This file contains the implementation of the LSTM and LSTM-CNN models for sentiment analysis on the drugsCom dataset. The main process in this file involves pre-processing the data, training the models, testing the models on the drugsComTest_raw.csv dataset, evaluating the model performance on the test data, generating training and validation curves, and plotting the confusion matrix.\n",
    "\n",
    "The pre-processing step involves cleaning the raw data by removing any irrelevant information and transforming the text data into a numerical format that can be used for training the models.\n",
    "\n",
    "The LSTM and LSTM-CNN models are then trained on the pre-processed data. The trained models are used to make predictions on the drugsComTest_raw.csv dataset, and the evaluation metrics such as accuracy, precision, recall, and F1 score are calculated to determine the performance of the models.\n",
    "\n",
    "The training and validation curves are generated to visualize the performance of the models during the training process. Finally, the confusion matrix is plotted to visualize the classification results and identify any misclassifications made by the models."
   ]
  },
  {
   "cell_type": "code",
   "execution_count": 1,
   "metadata": {
    "executionInfo": {
     "elapsed": 7847,
     "status": "ok",
     "timestamp": 1681981206029,
     "user": {
      "displayName": "Sena ALHADHRAMI",
      "userId": "15424902837319805851"
     },
     "user_tz": -120
    },
    "id": "nYNoc9jLajBa"
   },
   "outputs": [],
   "source": [
    "import os\n",
    "import re\n",
    "import nltk\n",
    "import pandas as pd\n",
    "import numpy as np\n",
    "import seaborn as sns\n",
    "import matplotlib.pyplot as plt\n",
    "from nltk.tokenize import word_tokenize\n",
    "from nltk import pos_tag\n",
    "from nltk.corpus import stopwords, wordnet\n",
    "from nltk.stem import WordNetLemmatizer\n",
    "from keras import layers\n",
    "from sklearn.model_selection import train_test_split\n",
    "#from tensorflow.keras.models import Sequential\n",
    "from keras.models import Sequential\n",
    "#from tensorflow.keras.preprocessing.text import Tokenizer\n",
    "from keras.preprocessing.text import Tokenizer\n",
    "from tensorflow.keras.preprocessing.sequence import pad_sequences\n",
    "#from keras.preprocessing.sequence import pad_sequences\n",
    "import tensorflow as tf\n",
    "from keras.layers.core import Dense, Activation, Dropout\n",
    "#from keras.layers.normalization import BatchNormalization\n",
    "from keras.utils import np_utils\n",
    "from keras.layers import GlobalMaxPooling1D, Conv1D, MaxPooling1D, Flatten, Bidirectional, SpatialDropout1D\n",
    "from keras.layers import Dense, Flatten, LSTM, Conv1D, MaxPooling1D, Dropout, Activation\n",
    "\n",
    "from keras.callbacks import EarlyStopping\n",
    "from keras.optimizers import Adam\n",
    "from keras import regularizers\n",
    "from keras import backend as K\n",
    "from keras.models import load_model\n",
    "from keras.models import model_from_json\n",
    "from keras.utils import to_categorical\n",
    "from keras.utils import plot_model\n",
    "from keras.models import Model\n",
    "from sklearn.preprocessing import LabelEncoder\n",
    "from sklearn.preprocessing import OneHotEncoder\n"
   ]
  },
  {
   "cell_type": "code",
   "execution_count": 2,
   "metadata": {
    "colab": {
     "base_uri": "https://localhost:8080/"
    },
    "executionInfo": {
     "elapsed": 17,
     "status": "ok",
     "timestamp": 1681981206030,
     "user": {
      "displayName": "Sena ALHADHRAMI",
      "userId": "15424902837319805851"
     },
     "user_tz": -120
    },
    "id": "-bKu5IL1bjWI",
    "outputId": "77c70955-4794-4ab7-c8d7-8bec760d353e"
   },
   "outputs": [
    {
     "name": "stderr",
     "output_type": "stream",
     "text": [
      "[nltk_data] Downloading package punkt to\n",
      "[nltk_data]     C:\\Users\\Sena\\AppData\\Roaming\\nltk_data...\n",
      "[nltk_data]   Package punkt is already up-to-date!\n",
      "[nltk_data] Downloading package averaged_perceptron_tagger to\n",
      "[nltk_data]     C:\\Users\\Sena\\AppData\\Roaming\\nltk_data...\n",
      "[nltk_data]   Package averaged_perceptron_tagger is already up-to-\n",
      "[nltk_data]       date!\n",
      "[nltk_data] Downloading package wordnet to\n",
      "[nltk_data]     C:\\Users\\Sena\\AppData\\Roaming\\nltk_data...\n",
      "[nltk_data]   Package wordnet is already up-to-date!\n",
      "[nltk_data] Downloading package stopwords to\n",
      "[nltk_data]     C:\\Users\\Sena\\AppData\\Roaming\\nltk_data...\n",
      "[nltk_data]   Package stopwords is already up-to-date!\n",
      "[nltk_data] Downloading package omw-1.4 to\n",
      "[nltk_data]     C:\\Users\\Sena\\AppData\\Roaming\\nltk_data...\n",
      "[nltk_data]   Package omw-1.4 is already up-to-date!\n"
     ]
    },
    {
     "data": {
      "text/plain": [
       "True"
      ]
     },
     "execution_count": 2,
     "metadata": {},
     "output_type": "execute_result"
    }
   ],
   "source": [
    "nltk.download(\"punkt\")\n",
    "nltk.download(\"averaged_perceptron_tagger\")\n",
    "nltk.download(\"wordnet\")\n",
    "nltk.download(\"stopwords\")\n",
    "nltk.download('omw-1.4')"
   ]
  },
  {
   "cell_type": "markdown",
   "metadata": {},
   "source": [
    "# Loading dataset"
   ]
  },
  {
   "cell_type": "code",
   "execution_count": 3,
   "metadata": {
    "executionInfo": {
     "elapsed": 2690,
     "status": "ok",
     "timestamp": 1681981208714,
     "user": {
      "displayName": "Sena ALHADHRAMI",
      "userId": "15424902837319805851"
     },
     "user_tz": -120
    },
    "id": "TcUtLyH9eI1a"
   },
   "outputs": [],
   "source": [
    "#df = pd.read_csv(\"/content/drive/My Drive/Sentiment_Analysis/drugsComTrain_raw.csv\")\n",
    "df = pd.read_csv('drugsComTrain_raw.csv')\n",
    "Test_dataset=pd.read_csv('drugsComTest_raw.csv')"
   ]
  },
  {
   "cell_type": "code",
   "execution_count": 4,
   "metadata": {
    "colab": {
     "base_uri": "https://localhost:8080/"
    },
    "executionInfo": {
     "elapsed": 21,
     "status": "ok",
     "timestamp": 1681981208716,
     "user": {
      "displayName": "Sena ALHADHRAMI",
      "userId": "15424902837319805851"
     },
     "user_tz": -120
    },
    "id": "V2ePTbQBbtwv",
    "outputId": "81fc4cf0-be40-48ef-9cb3-b13a95913f9e",
    "scrolled": true
   },
   "outputs": [
    {
     "name": "stdout",
     "output_type": "stream",
     "text": [
      "<class 'pandas.core.frame.DataFrame'>\n",
      "RangeIndex: 161297 entries, 0 to 161296\n",
      "Data columns (total 7 columns):\n",
      " #   Column       Non-Null Count   Dtype \n",
      "---  ------       --------------   ----- \n",
      " 0   uniqueID     161297 non-null  int64 \n",
      " 1   drugName     161297 non-null  object\n",
      " 2   condition    160398 non-null  object\n",
      " 3   review       161297 non-null  object\n",
      " 4   rating       161297 non-null  int64 \n",
      " 5   date         161297 non-null  object\n",
      " 6   usefulCount  161297 non-null  int64 \n",
      "dtypes: int64(3), object(4)\n",
      "memory usage: 8.6+ MB\n",
      "None\n"
     ]
    }
   ],
   "source": [
    "\n",
    "print(df.info()) "
   ]
  },
  {
   "cell_type": "code",
   "execution_count": 5,
   "metadata": {
    "colab": {
     "base_uri": "https://localhost:8080/",
     "height": 206
    },
    "executionInfo": {
     "elapsed": 18,
     "status": "ok",
     "timestamp": 1681981208717,
     "user": {
      "displayName": "Sena ALHADHRAMI",
      "userId": "15424902837319805851"
     },
     "user_tz": -120
    },
    "id": "T0WuCA0PgkC7",
    "outputId": "4b97f15e-c778-41a0-adb8-993e96a5c1b0",
    "scrolled": true
   },
   "outputs": [
    {
     "data": {
      "text/html": [
       "<div>\n",
       "<style scoped>\n",
       "    .dataframe tbody tr th:only-of-type {\n",
       "        vertical-align: middle;\n",
       "    }\n",
       "\n",
       "    .dataframe tbody tr th {\n",
       "        vertical-align: top;\n",
       "    }\n",
       "\n",
       "    .dataframe thead th {\n",
       "        text-align: right;\n",
       "    }\n",
       "</style>\n",
       "<table border=\"1\" class=\"dataframe\">\n",
       "  <thead>\n",
       "    <tr style=\"text-align: right;\">\n",
       "      <th></th>\n",
       "      <th>uniqueID</th>\n",
       "      <th>drugName</th>\n",
       "      <th>condition</th>\n",
       "      <th>review</th>\n",
       "      <th>rating</th>\n",
       "      <th>date</th>\n",
       "      <th>usefulCount</th>\n",
       "    </tr>\n",
       "  </thead>\n",
       "  <tbody>\n",
       "    <tr>\n",
       "      <th>0</th>\n",
       "      <td>206461</td>\n",
       "      <td>Valsartan</td>\n",
       "      <td>Left Ventricular Dysfunction</td>\n",
       "      <td>\"It has no side effect, I take it in combinati...</td>\n",
       "      <td>9</td>\n",
       "      <td>20-May-12</td>\n",
       "      <td>27</td>\n",
       "    </tr>\n",
       "    <tr>\n",
       "      <th>1</th>\n",
       "      <td>95260</td>\n",
       "      <td>Guanfacine</td>\n",
       "      <td>ADHD</td>\n",
       "      <td>\"My son is halfway through his fourth week of ...</td>\n",
       "      <td>8</td>\n",
       "      <td>27-Apr-10</td>\n",
       "      <td>192</td>\n",
       "    </tr>\n",
       "    <tr>\n",
       "      <th>2</th>\n",
       "      <td>92703</td>\n",
       "      <td>Lybrel</td>\n",
       "      <td>Birth Control</td>\n",
       "      <td>\"I used to take another oral contraceptive, wh...</td>\n",
       "      <td>5</td>\n",
       "      <td>14-Dec-09</td>\n",
       "      <td>17</td>\n",
       "    </tr>\n",
       "    <tr>\n",
       "      <th>3</th>\n",
       "      <td>138000</td>\n",
       "      <td>Ortho Evra</td>\n",
       "      <td>Birth Control</td>\n",
       "      <td>\"This is my first time using any form of birth...</td>\n",
       "      <td>8</td>\n",
       "      <td>3-Nov-15</td>\n",
       "      <td>10</td>\n",
       "    </tr>\n",
       "    <tr>\n",
       "      <th>4</th>\n",
       "      <td>35696</td>\n",
       "      <td>Buprenorphine / naloxone</td>\n",
       "      <td>Opiate Dependence</td>\n",
       "      <td>\"Suboxone has completely turned my life around...</td>\n",
       "      <td>9</td>\n",
       "      <td>27-Nov-16</td>\n",
       "      <td>37</td>\n",
       "    </tr>\n",
       "  </tbody>\n",
       "</table>\n",
       "</div>"
      ],
      "text/plain": [
       "   uniqueID                  drugName                     condition  \\\n",
       "0    206461                 Valsartan  Left Ventricular Dysfunction   \n",
       "1     95260                Guanfacine                          ADHD   \n",
       "2     92703                    Lybrel                 Birth Control   \n",
       "3    138000                Ortho Evra                 Birth Control   \n",
       "4     35696  Buprenorphine / naloxone             Opiate Dependence   \n",
       "\n",
       "                                              review  rating       date  \\\n",
       "0  \"It has no side effect, I take it in combinati...       9  20-May-12   \n",
       "1  \"My son is halfway through his fourth week of ...       8  27-Apr-10   \n",
       "2  \"I used to take another oral contraceptive, wh...       5  14-Dec-09   \n",
       "3  \"This is my first time using any form of birth...       8   3-Nov-15   \n",
       "4  \"Suboxone has completely turned my life around...       9  27-Nov-16   \n",
       "\n",
       "   usefulCount  \n",
       "0           27  \n",
       "1          192  \n",
       "2           17  \n",
       "3           10  \n",
       "4           37  "
      ]
     },
     "execution_count": 5,
     "metadata": {},
     "output_type": "execute_result"
    }
   ],
   "source": [
    "df.head()"
   ]
  },
  {
   "cell_type": "code",
   "execution_count": 6,
   "metadata": {
    "scrolled": true
   },
   "outputs": [
    {
     "data": {
      "text/html": [
       "<div>\n",
       "<style scoped>\n",
       "    .dataframe tbody tr th:only-of-type {\n",
       "        vertical-align: middle;\n",
       "    }\n",
       "\n",
       "    .dataframe tbody tr th {\n",
       "        vertical-align: top;\n",
       "    }\n",
       "\n",
       "    .dataframe thead th {\n",
       "        text-align: right;\n",
       "    }\n",
       "</style>\n",
       "<table border=\"1\" class=\"dataframe\">\n",
       "  <thead>\n",
       "    <tr style=\"text-align: right;\">\n",
       "      <th></th>\n",
       "      <th>uniqueID</th>\n",
       "      <th>drugName</th>\n",
       "      <th>condition</th>\n",
       "      <th>review</th>\n",
       "      <th>rating</th>\n",
       "      <th>date</th>\n",
       "      <th>usefulCount</th>\n",
       "    </tr>\n",
       "  </thead>\n",
       "  <tbody>\n",
       "    <tr>\n",
       "      <th>0</th>\n",
       "      <td>163740</td>\n",
       "      <td>Mirtazapine</td>\n",
       "      <td>Depression</td>\n",
       "      <td>\"I&amp;#039;ve tried a few antidepressants over th...</td>\n",
       "      <td>10</td>\n",
       "      <td>28-Feb-12</td>\n",
       "      <td>22</td>\n",
       "    </tr>\n",
       "    <tr>\n",
       "      <th>1</th>\n",
       "      <td>206473</td>\n",
       "      <td>Mesalamine</td>\n",
       "      <td>Crohn's Disease, Maintenance</td>\n",
       "      <td>\"My son has Crohn&amp;#039;s disease and has done ...</td>\n",
       "      <td>8</td>\n",
       "      <td>17-May-09</td>\n",
       "      <td>17</td>\n",
       "    </tr>\n",
       "    <tr>\n",
       "      <th>2</th>\n",
       "      <td>159672</td>\n",
       "      <td>Bactrim</td>\n",
       "      <td>Urinary Tract Infection</td>\n",
       "      <td>\"Quick reduction of symptoms\"</td>\n",
       "      <td>9</td>\n",
       "      <td>29-Sep-17</td>\n",
       "      <td>3</td>\n",
       "    </tr>\n",
       "    <tr>\n",
       "      <th>3</th>\n",
       "      <td>39293</td>\n",
       "      <td>Contrave</td>\n",
       "      <td>Weight Loss</td>\n",
       "      <td>\"Contrave combines drugs that were used for al...</td>\n",
       "      <td>9</td>\n",
       "      <td>5-Mar-17</td>\n",
       "      <td>35</td>\n",
       "    </tr>\n",
       "    <tr>\n",
       "      <th>4</th>\n",
       "      <td>97768</td>\n",
       "      <td>Cyclafem 1 / 35</td>\n",
       "      <td>Birth Control</td>\n",
       "      <td>\"I have been on this birth control for one cyc...</td>\n",
       "      <td>9</td>\n",
       "      <td>22-Oct-15</td>\n",
       "      <td>4</td>\n",
       "    </tr>\n",
       "  </tbody>\n",
       "</table>\n",
       "</div>"
      ],
      "text/plain": [
       "   uniqueID         drugName                     condition  \\\n",
       "0    163740      Mirtazapine                    Depression   \n",
       "1    206473       Mesalamine  Crohn's Disease, Maintenance   \n",
       "2    159672          Bactrim       Urinary Tract Infection   \n",
       "3     39293         Contrave                   Weight Loss   \n",
       "4     97768  Cyclafem 1 / 35                 Birth Control   \n",
       "\n",
       "                                              review  rating       date  \\\n",
       "0  \"I&#039;ve tried a few antidepressants over th...      10  28-Feb-12   \n",
       "1  \"My son has Crohn&#039;s disease and has done ...       8  17-May-09   \n",
       "2                      \"Quick reduction of symptoms\"       9  29-Sep-17   \n",
       "3  \"Contrave combines drugs that were used for al...       9   5-Mar-17   \n",
       "4  \"I have been on this birth control for one cyc...       9  22-Oct-15   \n",
       "\n",
       "   usefulCount  \n",
       "0           22  \n",
       "1           17  \n",
       "2            3  \n",
       "3           35  \n",
       "4            4  "
      ]
     },
     "execution_count": 6,
     "metadata": {},
     "output_type": "execute_result"
    }
   ],
   "source": [
    "Test_dataset.head()"
   ]
  },
  {
   "cell_type": "code",
   "execution_count": 7,
   "metadata": {},
   "outputs": [
    {
     "data": {
      "text/plain": [
       "(161297, 7)"
      ]
     },
     "execution_count": 7,
     "metadata": {},
     "output_type": "execute_result"
    }
   ],
   "source": [
    "df.shape"
   ]
  },
  {
   "cell_type": "code",
   "execution_count": 8,
   "metadata": {},
   "outputs": [
    {
     "data": {
      "text/plain": [
       "(53766, 7)"
      ]
     },
     "execution_count": 8,
     "metadata": {},
     "output_type": "execute_result"
    }
   ],
   "source": [
    "Test_dataset.shape"
   ]
  },
  {
   "cell_type": "code",
   "execution_count": 9,
   "metadata": {
    "scrolled": true
   },
   "outputs": [
    {
     "data": {
      "text/plain": [
       "array([[False, False, False, ..., False, False, False],\n",
       "       [False, False, False, ..., False, False, False],\n",
       "       [False, False, False, ..., False, False, False],\n",
       "       ...,\n",
       "       [False, False, False, ..., False, False, False],\n",
       "       [False, False, False, ..., False, False, False],\n",
       "       [False, False, False, ..., False, False, False]])"
      ]
     },
     "execution_count": 9,
     "metadata": {},
     "output_type": "execute_result"
    }
   ],
   "source": [
    "df.isnull().values"
   ]
  },
  {
   "cell_type": "code",
   "execution_count": 10,
   "metadata": {},
   "outputs": [
    {
     "data": {
      "text/plain": [
       "array([[False, False, False, ..., False, False, False],\n",
       "       [False, False, False, ..., False, False, False],\n",
       "       [False, False, False, ..., False, False, False],\n",
       "       ...,\n",
       "       [False, False, False, ..., False, False, False],\n",
       "       [False, False, False, ..., False, False, False],\n",
       "       [False, False, False, ..., False, False, False]])"
      ]
     },
     "execution_count": 10,
     "metadata": {},
     "output_type": "execute_result"
    }
   ],
   "source": [
    "Test_dataset.isnull().values"
   ]
  },
  {
   "cell_type": "code",
   "execution_count": 11,
   "metadata": {
    "colab": {
     "base_uri": "https://localhost:8080/",
     "height": 718
    },
    "executionInfo": {
     "elapsed": 1350,
     "status": "ok",
     "timestamp": 1681981210051,
     "user": {
      "displayName": "Sena ALHADHRAMI",
      "userId": "15424902837319805851"
     },
     "user_tz": -120
    },
    "id": "gP-9G_PcgmMx",
    "outputId": "e36aaf81-35e9-4801-fdc6-8ee16b916376"
   },
   "outputs": [
    {
     "data": {
      "image/png": "[encoded data removed]",
      "text/plain": [
       "<Figure size 864x576 with 1 Axes>"
      ]
     },
     "metadata": {
      "needs_background": "light"
     },
     "output_type": "display_data"
    }
   ],
   "source": [
    "# Filter the dataset to include only specific conditions\n",
    "conditions = ['Birth Control', 'Depression', 'Pain', 'Anxiety', 'Diabetes, Type 2']\n",
    "df_condition= df[df['condition'].isin(conditions)]\n",
    "\n",
    "# Plot the distribution of drug reviews by condition and rating\n",
    "plt.figure(figsize=(12, 8))\n",
    "sns.countplot(x='condition', hue='rating', data=df_condition, palette='viridis')\n",
    "plt.xlabel('Condition')\n",
    "plt.ylabel('Count')\n",
    "plt.title('Distribution of Drug Reviews by Condition and Rating')\n",
    "plt.legend(title='Rating')\n",
    "plt.show()\n"
   ]
  },
  {
   "cell_type": "code",
   "execution_count": 11,
   "metadata": {
    "colab": {
     "base_uri": "https://localhost:8080/"
    },
    "executionInfo": {
     "elapsed": 24,
     "status": "ok",
     "timestamp": 1681981210053,
     "user": {
      "displayName": "Sena ALHADHRAMI",
      "userId": "15424902837319805851"
     },
     "user_tz": -120
    },
    "id": "rU7PQq3Pg8Js",
    "outputId": "27da1858-235b-46e2-80fe-3aa8877c0e86",
    "scrolled": true
   },
   "outputs": [
    {
     "data": {
      "text/plain": [
       "10    50989\n",
       "9     27531\n",
       "1     21619\n",
       "8     18890\n",
       "7      9456\n",
       "5      8013\n",
       "2      6931\n",
       "3      6513\n",
       "6      6343\n",
       "4      5012\n",
       "Name: rating, dtype: int64"
      ]
     },
     "execution_count": 11,
     "metadata": {},
     "output_type": "execute_result"
    }
   ],
   "source": [
    "df['rating'].value_counts()"
   ]
  },
  {
   "cell_type": "code",
   "execution_count": null,
   "metadata": {},
   "outputs": [],
   "source": []
  },
  {
   "cell_type": "code",
   "execution_count": 12,
   "metadata": {},
   "outputs": [],
   "source": [
    "Prediction_Train_data = pd.DataFrame({'rating':df.rating,\n",
    "                                     'condition':df.condition,\n",
    "                                     'review':df.review})\n"
   ]
  },
  {
   "cell_type": "code",
   "execution_count": 13,
   "metadata": {},
   "outputs": [],
   "source": [
    "Prediction_Test_data = pd.DataFrame({'rating':Test_dataset.rating,\n",
    "                                     'condition':Test_dataset.condition,\n",
    "                                     'review':Test_dataset.review})"
   ]
  },
  {
   "cell_type": "code",
   "execution_count": 14,
   "metadata": {},
   "outputs": [],
   "source": [
    "report=['condition','review']"
   ]
  },
  {
   "cell_type": "code",
   "execution_count": 15,
   "metadata": {},
   "outputs": [],
   "source": [
    "Prediction_Train_data['report'] = Prediction_Train_data[report].apply(lambda row: '_'.join(row.values.astype(str)), axis=1)\n",
    "Prediction_Test_data['report'] = Prediction_Test_data[report].apply(lambda row: '_'.join(row.values.astype(str)), axis=1)"
   ]
  },
  {
   "cell_type": "code",
   "execution_count": 16,
   "metadata": {},
   "outputs": [
    {
     "data": {
      "image/png": "[encoded data removed]",
      "text/plain": [
       "<Figure size 432x288 with 1 Axes>"
      ]
     },
     "metadata": {
      "needs_background": "light"
     },
     "output_type": "display_data"
    }
   ],
   "source": [
    "# Tokenize the text in the report column\n",
    "word_counts = Prediction_Train_data['report'].str.split().apply(len)\n",
    "\n",
    "# Create a histogram of word counts\n",
    "plt.hist(word_counts, bins=50)\n",
    "plt.xlabel('Number of words')\n",
    "plt.ylabel('Count')\n",
    "plt.title('Distribution of word counts')\n",
    "plt.show()"
   ]
  },
  {
   "cell_type": "code",
   "execution_count": 17,
   "metadata": {},
   "outputs": [
    {
     "data": {
      "text/plain": [
       "<AxesSubplot:xlabel='rating', ylabel='count'>"
      ]
     },
     "execution_count": 17,
     "metadata": {},
     "output_type": "execute_result"
    },
    {
     "data": {
      "image/png": "[encoded data removed]",
      "text/plain": [
       "<Figure size 432x288 with 1 Axes>"
      ]
     },
     "metadata": {
      "needs_background": "light"
     },
     "output_type": "display_data"
    }
   ],
   "source": [
    "sns.countplot(x=Prediction_Train_data['rating'])"
   ]
  },
  {
   "cell_type": "code",
   "execution_count": 16,
   "metadata": {},
   "outputs": [
    {
     "data": {
      "text/plain": [
       "0         Left Ventricular Dysfunction_\"It has no side e...\n",
       "1         ADHD_\"My son is halfway through his fourth wee...\n",
       "2         Birth Control_\"I used to take another oral con...\n",
       "3         Birth Control_\"This is my first time using any...\n",
       "4         Opiate Dependence_\"Suboxone has completely tur...\n",
       "                                ...                        \n",
       "161292    Alcohol Dependence_\"I wrote my first report in...\n",
       "161293    Nausea/Vomiting_\"I was given this in IV before...\n",
       "161294    Rheumatoid Arthritis_\"Limited improvement afte...\n",
       "161295    Underactive Thyroid_\"I&#039;ve been on thyroid...\n",
       "161296    Constipation, Chronic_\"I&#039;ve had chronic c...\n",
       "Name: report, Length: 161297, dtype: object"
      ]
     },
     "execution_count": 16,
     "metadata": {},
     "output_type": "execute_result"
    }
   ],
   "source": [
    "Prediction_Train_data['report'] "
   ]
  },
  {
   "cell_type": "code",
   "execution_count": 17,
   "metadata": {},
   "outputs": [
    {
     "data": {
      "text/plain": [
       "0        Depression_\"I&#039;ve tried a few antidepressa...\n",
       "1        Crohn's Disease, Maintenance_\"My son has Crohn...\n",
       "2        Urinary Tract Infection_\"Quick reduction of sy...\n",
       "3        Weight Loss_\"Contrave combines drugs that were...\n",
       "4        Birth Control_\"I have been on this birth contr...\n",
       "                               ...                        \n",
       "53761    Breast Cancer, Prevention_\"I have taken Tamoxi...\n",
       "53762    Anxiety_\"I&#039;ve been taking Lexapro (escita...\n",
       "53763    Birth Control_\"I&#039;m married, 34 years old ...\n",
       "53764    Pain_\"I was prescribed Nucynta for severe neck...\n",
       "53765                               Sciatica_\"It works!!!\"\n",
       "Name: report, Length: 53766, dtype: object"
      ]
     },
     "execution_count": 17,
     "metadata": {},
     "output_type": "execute_result"
    }
   ],
   "source": [
    "Prediction_Test_data['report']"
   ]
  },
  {
   "cell_type": "code",
   "execution_count": 18,
   "metadata": {
    "scrolled": true
   },
   "outputs": [],
   "source": [
    "# Labeling of ratings as Postive, Negative and Neutral for sentimentclassification\n",
    "Prediction_Train_data['Sentiment'] = [ 'Negative' if (x<=4) else 'Neutral' if (4<x<=7) else 'Positive' for x in Prediction_Train_data['rating']]\n",
    "Prediction_Test_data['Sentiment'] = [ 'Negative' if (x<=4) else 'Neutral' if (4<x<=7) else 'Positive' for x in Prediction_Test_data['rating']]"
   ]
  },
  {
   "cell_type": "code",
   "execution_count": 19,
   "metadata": {},
   "outputs": [
    {
     "data": {
      "text/plain": [
       "0         Positive\n",
       "1         Positive\n",
       "2          Neutral\n",
       "3         Positive\n",
       "4         Positive\n",
       "            ...   \n",
       "161292    Positive\n",
       "161293    Negative\n",
       "161294    Negative\n",
       "161295    Positive\n",
       "161296    Positive\n",
       "Name: Sentiment, Length: 161297, dtype: object"
      ]
     },
     "execution_count": 19,
     "metadata": {},
     "output_type": "execute_result"
    }
   ],
   "source": [
    "Prediction_Train_data['Sentiment']"
   ]
  },
  {
   "cell_type": "code",
   "execution_count": 20,
   "metadata": {
    "scrolled": true
   },
   "outputs": [
    {
     "data": {
      "text/plain": [
       "0        Positive\n",
       "1        Positive\n",
       "2        Positive\n",
       "3        Positive\n",
       "4        Positive\n",
       "           ...   \n",
       "53761    Positive\n",
       "53762    Positive\n",
       "53763    Positive\n",
       "53764    Negative\n",
       "53765    Positive\n",
       "Name: Sentiment, Length: 53766, dtype: object"
      ]
     },
     "execution_count": 20,
     "metadata": {},
     "output_type": "execute_result"
    }
   ],
   "source": [
    "Prediction_Test_data['Sentiment']"
   ]
  },
  {
   "cell_type": "code",
   "execution_count": 21,
   "metadata": {
    "scrolled": false
   },
   "outputs": [
    {
     "data": {
      "text/plain": [
       "<AxesSubplot:xlabel='Sentiment', ylabel='count'>"
      ]
     },
     "execution_count": 21,
     "metadata": {},
     "output_type": "execute_result"
    },
    {
     "data": {
      "image/png": "[encoded data removed]",
      "text/plain": [
       "<Figure size 432x288 with 1 Axes>"
      ]
     },
     "metadata": {
      "needs_background": "light"
     },
     "output_type": "display_data"
    }
   ],
   "source": [
    "sns.countplot(x=Prediction_Train_data['Sentiment'])"
   ]
  },
  {
   "cell_type": "code",
   "execution_count": 22,
   "metadata": {},
   "outputs": [
    {
     "data": {
      "text/html": [
       "<div>\n",
       "<style scoped>\n",
       "    .dataframe tbody tr th:only-of-type {\n",
       "        vertical-align: middle;\n",
       "    }\n",
       "\n",
       "    .dataframe tbody tr th {\n",
       "        vertical-align: top;\n",
       "    }\n",
       "\n",
       "    .dataframe thead th {\n",
       "        text-align: right;\n",
       "    }\n",
       "</style>\n",
       "<table border=\"1\" class=\"dataframe\">\n",
       "  <thead>\n",
       "    <tr style=\"text-align: right;\">\n",
       "      <th></th>\n",
       "      <th>report</th>\n",
       "      <th>Sentiment</th>\n",
       "    </tr>\n",
       "  </thead>\n",
       "  <tbody>\n",
       "    <tr>\n",
       "      <th>0</th>\n",
       "      <td>Left Ventricular Dysfunction_\"It has no side e...</td>\n",
       "      <td>Positive</td>\n",
       "    </tr>\n",
       "    <tr>\n",
       "      <th>1</th>\n",
       "      <td>ADHD_\"My son is halfway through his fourth wee...</td>\n",
       "      <td>Positive</td>\n",
       "    </tr>\n",
       "    <tr>\n",
       "      <th>2</th>\n",
       "      <td>Birth Control_\"I used to take another oral con...</td>\n",
       "      <td>Neutral</td>\n",
       "    </tr>\n",
       "    <tr>\n",
       "      <th>3</th>\n",
       "      <td>Birth Control_\"This is my first time using any...</td>\n",
       "      <td>Positive</td>\n",
       "    </tr>\n",
       "    <tr>\n",
       "      <th>4</th>\n",
       "      <td>Opiate Dependence_\"Suboxone has completely tur...</td>\n",
       "      <td>Positive</td>\n",
       "    </tr>\n",
       "    <tr>\n",
       "      <th>...</th>\n",
       "      <td>...</td>\n",
       "      <td>...</td>\n",
       "    </tr>\n",
       "    <tr>\n",
       "      <th>161292</th>\n",
       "      <td>Alcohol Dependence_\"I wrote my first report in...</td>\n",
       "      <td>Positive</td>\n",
       "    </tr>\n",
       "    <tr>\n",
       "      <th>161293</th>\n",
       "      <td>Nausea/Vomiting_\"I was given this in IV before...</td>\n",
       "      <td>Negative</td>\n",
       "    </tr>\n",
       "    <tr>\n",
       "      <th>161294</th>\n",
       "      <td>Rheumatoid Arthritis_\"Limited improvement afte...</td>\n",
       "      <td>Negative</td>\n",
       "    </tr>\n",
       "    <tr>\n",
       "      <th>161295</th>\n",
       "      <td>Underactive Thyroid_\"I&amp;#039;ve been on thyroid...</td>\n",
       "      <td>Positive</td>\n",
       "    </tr>\n",
       "    <tr>\n",
       "      <th>161296</th>\n",
       "      <td>Constipation, Chronic_\"I&amp;#039;ve had chronic c...</td>\n",
       "      <td>Positive</td>\n",
       "    </tr>\n",
       "  </tbody>\n",
       "</table>\n",
       "<p>161297 rows × 2 columns</p>\n",
       "</div>"
      ],
      "text/plain": [
       "                                                   report Sentiment\n",
       "0       Left Ventricular Dysfunction_\"It has no side e...  Positive\n",
       "1       ADHD_\"My son is halfway through his fourth wee...  Positive\n",
       "2       Birth Control_\"I used to take another oral con...   Neutral\n",
       "3       Birth Control_\"This is my first time using any...  Positive\n",
       "4       Opiate Dependence_\"Suboxone has completely tur...  Positive\n",
       "...                                                   ...       ...\n",
       "161292  Alcohol Dependence_\"I wrote my first report in...  Positive\n",
       "161293  Nausea/Vomiting_\"I was given this in IV before...  Negative\n",
       "161294  Rheumatoid Arthritis_\"Limited improvement afte...  Negative\n",
       "161295  Underactive Thyroid_\"I&#039;ve been on thyroid...  Positive\n",
       "161296  Constipation, Chronic_\"I&#039;ve had chronic c...  Positive\n",
       "\n",
       "[161297 rows x 2 columns]"
      ]
     },
     "execution_count": 22,
     "metadata": {},
     "output_type": "execute_result"
    }
   ],
   "source": [
    "# Dropping the columns that are not required for the neural network.\n",
    "Prediction_Train_data.drop(['rating','condition','review'],axis=1)\n"
   ]
  },
  {
   "cell_type": "code",
   "execution_count": 23,
   "metadata": {},
   "outputs": [
    {
     "data": {
      "text/html": [
       "<div>\n",
       "<style scoped>\n",
       "    .dataframe tbody tr th:only-of-type {\n",
       "        vertical-align: middle;\n",
       "    }\n",
       "\n",
       "    .dataframe tbody tr th {\n",
       "        vertical-align: top;\n",
       "    }\n",
       "\n",
       "    .dataframe thead th {\n",
       "        text-align: right;\n",
       "    }\n",
       "</style>\n",
       "<table border=\"1\" class=\"dataframe\">\n",
       "  <thead>\n",
       "    <tr style=\"text-align: right;\">\n",
       "      <th></th>\n",
       "      <th>rating</th>\n",
       "      <th>condition</th>\n",
       "      <th>review</th>\n",
       "      <th>report</th>\n",
       "      <th>Sentiment</th>\n",
       "    </tr>\n",
       "  </thead>\n",
       "  <tbody>\n",
       "    <tr>\n",
       "      <th>0</th>\n",
       "      <td>10</td>\n",
       "      <td>Depression</td>\n",
       "      <td>\"I&amp;#039;ve tried a few antidepressants over th...</td>\n",
       "      <td>Depression_\"I&amp;#039;ve tried a few antidepressa...</td>\n",
       "      <td>Positive</td>\n",
       "    </tr>\n",
       "    <tr>\n",
       "      <th>1</th>\n",
       "      <td>8</td>\n",
       "      <td>Crohn's Disease, Maintenance</td>\n",
       "      <td>\"My son has Crohn&amp;#039;s disease and has done ...</td>\n",
       "      <td>Crohn's Disease, Maintenance_\"My son has Crohn...</td>\n",
       "      <td>Positive</td>\n",
       "    </tr>\n",
       "    <tr>\n",
       "      <th>2</th>\n",
       "      <td>9</td>\n",
       "      <td>Urinary Tract Infection</td>\n",
       "      <td>\"Quick reduction of symptoms\"</td>\n",
       "      <td>Urinary Tract Infection_\"Quick reduction of sy...</td>\n",
       "      <td>Positive</td>\n",
       "    </tr>\n",
       "    <tr>\n",
       "      <th>3</th>\n",
       "      <td>9</td>\n",
       "      <td>Weight Loss</td>\n",
       "      <td>\"Contrave combines drugs that were used for al...</td>\n",
       "      <td>Weight Loss_\"Contrave combines drugs that were...</td>\n",
       "      <td>Positive</td>\n",
       "    </tr>\n",
       "    <tr>\n",
       "      <th>4</th>\n",
       "      <td>9</td>\n",
       "      <td>Birth Control</td>\n",
       "      <td>\"I have been on this birth control for one cyc...</td>\n",
       "      <td>Birth Control_\"I have been on this birth contr...</td>\n",
       "      <td>Positive</td>\n",
       "    </tr>\n",
       "    <tr>\n",
       "      <th>5</th>\n",
       "      <td>4</td>\n",
       "      <td>Keratosis</td>\n",
       "      <td>\"4 days in on first 2 weeks.  Using on arms an...</td>\n",
       "      <td>Keratosis_\"4 days in on first 2 weeks.  Using ...</td>\n",
       "      <td>Negative</td>\n",
       "    </tr>\n",
       "  </tbody>\n",
       "</table>\n",
       "</div>"
      ],
      "text/plain": [
       "   rating                     condition  \\\n",
       "0      10                    Depression   \n",
       "1       8  Crohn's Disease, Maintenance   \n",
       "2       9       Urinary Tract Infection   \n",
       "3       9                   Weight Loss   \n",
       "4       9                 Birth Control   \n",
       "5       4                     Keratosis   \n",
       "\n",
       "                                              review  \\\n",
       "0  \"I&#039;ve tried a few antidepressants over th...   \n",
       "1  \"My son has Crohn&#039;s disease and has done ...   \n",
       "2                      \"Quick reduction of symptoms\"   \n",
       "3  \"Contrave combines drugs that were used for al...   \n",
       "4  \"I have been on this birth control for one cyc...   \n",
       "5  \"4 days in on first 2 weeks.  Using on arms an...   \n",
       "\n",
       "                                              report Sentiment  \n",
       "0  Depression_\"I&#039;ve tried a few antidepressa...  Positive  \n",
       "1  Crohn's Disease, Maintenance_\"My son has Crohn...  Positive  \n",
       "2  Urinary Tract Infection_\"Quick reduction of sy...  Positive  \n",
       "3  Weight Loss_\"Contrave combines drugs that were...  Positive  \n",
       "4  Birth Control_\"I have been on this birth contr...  Positive  \n",
       "5  Keratosis_\"4 days in on first 2 weeks.  Using ...  Negative  "
      ]
     },
     "execution_count": 23,
     "metadata": {},
     "output_type": "execute_result"
    }
   ],
   "source": [
    "Prediction_Test_data.head(6)"
   ]
  },
  {
   "cell_type": "markdown",
   "metadata": {
    "id": "iV2gUF8Lhl2Q"
   },
   "source": [
    "# **per-processing Data(Text data cleaning)**"
   ]
  },
  {
   "cell_type": "code",
   "execution_count": 24,
   "metadata": {
    "executionInfo": {
     "elapsed": 17,
     "status": "ok",
     "timestamp": 1681981210055,
     "user": {
      "displayName": "Sena ALHADHRAMI",
      "userId": "15424902837319805851"
     },
     "user_tz": -120
    },
    "id": "mxbtLXYJhsBo"
   },
   "outputs": [],
   "source": [
    "def clean_text (text):\n",
    "    # Remove Pre and Post Spaces\n",
    "    text = str(text).strip()\n",
    "    \n",
    "    # Lower case the entire text\n",
    "    text = str(text).lower()\n",
    "\n",
    "    # Substitute New Line Characters with spaces \n",
    "    text = re.sub(r\"\\n\", r\" \", text)\n",
    "        \n",
    "    # Tokenize the sentence\n",
    "    word_tokens = word_tokenize(text)\n",
    "    \n",
    "    # Remove the punctuation and  special characters from each individual word\n",
    "    cleaned_text = []\n",
    "    for word in word_tokens:\n",
    "        cleaned_text.append(\"\".join([char for char in word if char.isalnum()]))\n",
    "    \n",
    "    # Specify the stop words list\n",
    "    stop_words = stopwords.words('english')\n",
    "    \n",
    "    # Remove the stopwords and words containing less then 2 characters\n",
    "    text_tokens = [word for word in cleaned_text if (len(word) > 2) and (word not in stop_words)]\n",
    "    \n",
    "    #Lemmatize each word in the word list\n",
    "    text = lemmatize (text_tokens)\n",
    "    \n",
    "    return text"
   ]
  },
  {
   "cell_type": "code",
   "execution_count": 25,
   "metadata": {
    "executionInfo": {
     "elapsed": 16,
     "status": "ok",
     "timestamp": 1681981210055,
     "user": {
      "displayName": "Sena ALHADHRAMI",
      "userId": "15424902837319805851"
     },
     "user_tz": -120
    },
    "id": "i66YZ-iyiT6s"
   },
   "outputs": [],
   "source": [
    "def get_wordnet_pos (tag):\n",
    "    if tag.startswith('J'):\n",
    "        return wordnet.ADJ\n",
    "    elif tag.startswith('V'):\n",
    "        return wordnet.VERB\n",
    "    elif tag.startswith('N'):\n",
    "        return wordnet.NOUN\n",
    "    elif tag.startswith('R'):\n",
    "        return wordnet.ADV\n",
    "    else:\n",
    "        return wordnet.NOUN\n"
   ]
  },
  {
   "cell_type": "code",
   "execution_count": 26,
   "metadata": {
    "executionInfo": {
     "elapsed": 17,
     "status": "ok",
     "timestamp": 1681981210056,
     "user": {
      "displayName": "Sena ALHADHRAMI",
      "userId": "15424902837319805851"
     },
     "user_tz": -120
    },
    "id": "cwIvYdzEnZnQ"
   },
   "outputs": [],
   "source": [
    "def lemmatize (word_list):\n",
    "    wl = WordNetLemmatizer()\n",
    "    word_pos_tags = pos_tag(word_list)\n",
    "    lemmatized_list = []\n",
    "    for tag in word_pos_tags:\n",
    "        lemmatize_word = wl.lemmatize(tag[0],get_wordnet_pos(tag[1]))\n",
    "        lemmatized_list.append(lemmatize_word)\n",
    "    return \" \".join(lemmatized_list)\n"
   ]
  },
  {
   "cell_type": "code",
   "execution_count": 27,
   "metadata": {},
   "outputs": [],
   "source": [
    "Prediction_Train_data['report'] = Prediction_Train_data['report'].map(lambda x: clean_text(x))\n"
   ]
  },
  {
   "cell_type": "code",
   "execution_count": 28,
   "metadata": {},
   "outputs": [],
   "source": [
    "Prediction_Test_data['report'] = Prediction_Test_data['report'].map(lambda x: clean_text(x))"
   ]
  },
  {
   "cell_type": "code",
   "execution_count": 30,
   "metadata": {},
   "outputs": [],
   "source": [
    "Sentiment_train = Prediction_Train_data['Sentiment']\n",
    "Report_train = Prediction_Train_data['report']\n",
    "Sentiment_test = Prediction_Test_data['Sentiment']\n",
    "Report_test = Prediction_Test_data['report']"
   ]
  },
  {
   "cell_type": "code",
   "execution_count": 31,
   "metadata": {},
   "outputs": [
    {
     "data": {
      "text/plain": [
       "0         Positive\n",
       "1         Positive\n",
       "2          Neutral\n",
       "3         Positive\n",
       "4         Positive\n",
       "            ...   \n",
       "161292    Positive\n",
       "161293    Negative\n",
       "161294    Negative\n",
       "161295    Positive\n",
       "161296    Positive\n",
       "Name: Sentiment, Length: 161297, dtype: object"
      ]
     },
     "execution_count": 31,
     "metadata": {},
     "output_type": "execute_result"
    }
   ],
   "source": [
    "Sentiment_train"
   ]
  },
  {
   "cell_type": "code",
   "execution_count": 32,
   "metadata": {},
   "outputs": [
    {
     "data": {
      "text/plain": [
       "0         leave ventricular dysfunction side effect take...\n",
       "1         adhd son halfway fourth week intuniv become co...\n",
       "2         birth control use take another oral contracept...\n",
       "3         birth control first time use form birth contro...\n",
       "4         opiate dependence suboxone completely turn lif...\n",
       "                                ...                        \n",
       "161292    alcohol dependence write first report midoctob...\n",
       "161293    nauseavomiting give surgey immediately become ...\n",
       "161294    rheumatoid arthritis limit improvement month d...\n",
       "161295    underactive thyroid 039 thyroid medication yea...\n",
       "161296    constipation chronic 039 chronic constipation ...\n",
       "Name: report, Length: 161297, dtype: object"
      ]
     },
     "execution_count": 32,
     "metadata": {},
     "output_type": "execute_result"
    }
   ],
   "source": [
    "Report_train\n"
   ]
  },
  {
   "cell_type": "code",
   "execution_count": 35,
   "metadata": {},
   "outputs": [
    {
     "name": "stdout",
     "output_type": "stream",
     "text": [
      "Sentiment_Train shape after one-hot encoding :  (161297, 3)    Sentiment_Test shape after one-hot encoding :  (53766, 3) \n",
      "\n"
     ]
    }
   ],
   "source": [
    "from numpy import array\n",
    "# One-Hot Encoding of Sentiment_Train\n",
    "Sentiment_train = array(Sentiment_train)\n",
    "# integer encode\n",
    "label_encoder = LabelEncoder()\n",
    "Sentiment_train_integer_encoded = label_encoder.fit_transform(Sentiment_train)\n",
    "# binary encode\n",
    "onehot_encoder = OneHotEncoder(sparse=False)\n",
    "Sentiment_train_integer_encoded = Sentiment_train_integer_encoded.reshape(len(Sentiment_train_integer_encoded), 1)\n",
    "Sentiment_train_onehot_encoded = onehot_encoder.fit_transform(Sentiment_train_integer_encoded)\n",
    "# One-Hot Encoding of Sentiment_Test\n",
    "Sentiment_test = array(Sentiment_test)\n",
    "# integer encode\n",
    "label_encoder = LabelEncoder()\n",
    "Sentiment_test_integer_encoded = label_encoder.fit_transform(Sentiment_test)\n",
    "# binary encode\n",
    "onehot_encoder = OneHotEncoder(sparse=False)\n",
    "Sentiment_test_integer_encoded = Sentiment_test_integer_encoded.reshape(len(Sentiment_test_integer_encoded), 1)\n",
    "Sentiment_test_onehot_encoded = onehot_encoder.fit_transform(Sentiment_test_integer_encoded)\n",
    "print(\"Sentiment_Train shape after one-hot encoding : \",Sentiment_train_onehot_encoded.shape,\"  \"\n",
    "     ,\"Sentiment_Test shape after one-hot encoding : \",Sentiment_test_onehot_encoded.shape,\"\\n\")"
   ]
  },
  {
   "cell_type": "code",
   "execution_count": 36,
   "metadata": {},
   "outputs": [
    {
     "name": "stdout",
     "output_type": "stream",
     "text": [
      "Report_Train shape after padding :  (161297, 100)    Report_Test shape after padding:  (53766, 100)\n"
     ]
    }
   ],
   "source": [
    "# Tokenize and Create Sequence For Train set\n",
    "tokenizer = Tokenizer(num_words = 10000)\n",
    "tokenizer.fit_on_texts(Report_train)\n",
    "Report_train_sequences = tokenizer.texts_to_sequences(Report_train)\n",
    "Report_train_padded = pad_sequences(Report_train_sequences, maxlen=100, padding='post', truncating='post')             # maxlen is the size of words in a review here it is 100\n",
    "# Tokenize and Create Sequence For Test set\n",
    "Report_test_sequences = tokenizer.texts_to_sequences(Report_test)\n",
    "Report_test_padded = pad_sequences(Report_test_sequences, maxlen=100, padding='post', truncating='post')\n",
    "print(\"Report_Train shape after padding : \",Report_train_padded.shape,\"  \",\"Report_Test shape after padding: \",Report_test_padded.shape)\n",
    "Sentiment_labels = ['Negative', 'Neutral', 'Positive']              #  0:Negative   1: Neutral  2:Positive"
   ]
  },
  {
   "cell_type": "code",
   "execution_count": 37,
   "metadata": {},
   "outputs": [
    {
     "data": {
      "text/plain": [
       "array([[  41,    1,  326, ...,    0,    0,    0],\n",
       "       [1125,  413,  752, ...,    0,    0,    0],\n",
       "       [ 506,  531,   80, ...,    0,    0,    0],\n",
       "       ...,\n",
       "       [  17,   13,    1, ...,    0,    0,    0],\n",
       "       [   9,   84, 1634, ...,    0,    0,    0],\n",
       "       [1691,    7,    0, ...,    0,    0,    0]])"
      ]
     },
     "execution_count": 37,
     "metadata": {},
     "output_type": "execute_result"
    }
   ],
   "source": [
    "Report_test_padded"
   ]
  },
  {
   "cell_type": "markdown",
   "metadata": {},
   "source": [
    "# Training LSTM"
   ]
  },
  {
   "cell_type": "code",
   "execution_count": 194,
   "metadata": {
    "scrolled": true
   },
   "outputs": [
    {
     "name": "stdout",
     "output_type": "stream",
     "text": [
      "Model: \"sequential_9\"\n",
      "_________________________________________________________________\n",
      " Layer (type)                Output Shape              Param #   \n",
      "=================================================================\n",
      " embedding_8 (Embedding)     (None, 100, 100)          6056300   \n",
      "                                                                 \n",
      " lstm_7 (LSTM)               (None, 100)               80400     \n",
      "                                                                 \n",
      " dense_22 (Dense)            (None, 64)                6464      \n",
      "                                                                 \n",
      " dense_23 (Dense)            (None, 32)                2080      \n",
      "                                                                 \n",
      " dense_24 (Dense)            (None, 3)                 99        \n",
      "                                                                 \n",
      "=================================================================\n",
      "Total params: 6,145,343\n",
      "Trainable params: 6,145,343\n",
      "Non-trainable params: 0\n",
      "_________________________________________________________________\n",
      "None\n"
     ]
    }
   ],
   "source": [
    "# Defining the LSTM model\n",
    "vocab_size = len(tokenizer.index_word) + 1\n",
    "num_epochs = 5\n",
    "batch_size = 128\n",
    "sequence_len=100\n",
    "LSTMModel = Sequential()\n",
    "#LSTMModel.add(Embedding(10000, 100, input_length=100))\n",
    "#LSTMModel.add(layers.Embedding(input_dim=vocab_size, output_dim=100))\n",
    "LSTMModel.add(layers.Embedding(input_dim=vocab_size, output_dim=100, input_length=sequence_len))\n",
    "LSTMModel.add(LSTM(100, dropout=0.2, recurrent_dropout=0.2))\n",
    "LSTMModel.add(Dense(64, activation='sigmoid'))\n",
    "LSTMModel.add(Dense(32, activation='sigmoid'))\n",
    "LSTMModel.add(Dense(3, activation='softmax'))\n",
    "# Compile the model\n",
    "LSTMModel.compile(loss='categorical_crossentropy', optimizer='adam', metrics=['accuracy'])\n",
    "\n",
    "print(LSTMModel.summary())"
   ]
  },
  {
   "cell_type": "code",
   "execution_count": 195,
   "metadata": {
    "scrolled": false
   },
   "outputs": [
    {
     "name": "stdout",
     "output_type": "stream",
     "text": [
      "Epoch 1/5\n",
      "1135/1135 [==============================] - 1867s 2s/step - loss: 0.9339 - accuracy: 0.6035 - val_loss: 0.9396 - val_accuracy: 0.6006\n",
      "Epoch 2/5\n",
      "1135/1135 [==============================] - 1987s 2s/step - loss: 0.9336 - accuracy: 0.6043 - val_loss: 0.9390 - val_accuracy: 0.6006\n",
      "Epoch 3/5\n",
      "1135/1135 [==============================] - 1883s 2s/step - loss: 0.9333 - accuracy: 0.6043 - val_loss: 0.9395 - val_accuracy: 0.6006\n",
      "Epoch 4/5\n",
      "1135/1135 [==============================] - 2109s 2s/step - loss: 0.9332 - accuracy: 0.6043 - val_loss: 0.9415 - val_accuracy: 0.6006\n",
      "Epoch 5/5\n",
      "1135/1135 [==============================] - 2280s 2s/step - loss: 0.9332 - accuracy: 0.6043 - val_loss: 0.9377 - val_accuracy: 0.6006\n"
     ]
    }
   ],
   "source": [
    "#  Train the model\n",
    "history = LSTMModel.fit(Report_train_padded, Sentiment_train_onehot_encoded,\n",
    "                    validation_split=0.1, batch_size = batch_size, epochs= num_epochs)"
   ]
  },
  {
   "cell_type": "markdown",
   "metadata": {},
   "source": [
    "# evaluation on test data"
   ]
  },
  {
   "cell_type": "code",
   "execution_count": 204,
   "metadata": {
    "scrolled": true
   },
   "outputs": [
    {
     "name": "stdout",
     "output_type": "stream",
     "text": [
      "1681/1681 [==============================] - 108s 64ms/step - loss: 0.9348 - accuracy: 0.6017\n",
      "\n",
      " Evaluated model accuracy on test data : 0.6016627550125122\n",
      "\n",
      " stop time: Fri Apr 28 22:50:13 2023 \n",
      "\n",
      "1681/1681 [==============================] - 129s 77ms/step\n"
     ]
    }
   ],
   "source": [
    "import time\n",
    "import itertools\n",
    "import warnings\n",
    "from sklearn.metrics import confusion_matrix\n",
    "# Model Evaluation on Test data\n",
    "test_loss,test_acc = LSTMModel.evaluate(Report_test_padded, Sentiment_test_onehot_encoded)\n",
    "print(\"\\n Evaluated model accuracy on test data :\",test_acc)\n",
    "seconds= time.time()\n",
    "time_stop = time.ctime(seconds)\n",
    "print(\"\\n\",\"stop time:\", time_stop,\"\\n\")\n",
    "# Predict the values from the Test dataset\n",
    "Sentiment_pred = LSTMModel.predict(Report_test_padded)\n",
    "# Convert predictions classes to one hot vectors\n",
    "Sentiment_pred_classes = np.argmax(Sentiment_pred,axis = 1)\n",
    "# computing the confusion matrix\n"
   ]
  },
  {
   "cell_type": "code",
   "execution_count": 200,
   "metadata": {},
   "outputs": [
    {
     "data": {
      "text/plain": [
       "<function sklearn.metrics._classification.confusion_matrix(y_true, y_pred, *, labels=None, sample_weight=None, normalize=None)>"
      ]
     },
     "execution_count": 200,
     "metadata": {},
     "output_type": "execute_result"
    }
   ],
   "source": [
    "confusion_mtx = confusion_matrix(Sentiment_test_integer_encoded, Sentiment_pred_classes)\n",
    "confusion_matrix\n"
   ]
  },
  {
   "cell_type": "markdown",
   "metadata": {},
   "source": [
    "# Results"
   ]
  },
  {
   "cell_type": "code",
   "execution_count": 201,
   "metadata": {},
   "outputs": [
    {
     "name": "stdout",
     "output_type": "stream",
     "text": [
      "              precision    recall  f1-score   support\n",
      "\n",
      "    Negative       0.00      0.00      0.00     13497\n",
      "     Neutral       0.00      0.00      0.00      7920\n",
      "    Positive       0.60      1.00      0.75     32349\n",
      "\n",
      "    accuracy                           0.60     53766\n",
      "   macro avg       0.20      0.33      0.25     53766\n",
      "weighted avg       0.36      0.60      0.45     53766\n",
      "\n",
      "Accuracy: 0.601663\n",
      "Cohen_score: 0.000000\n"
     ]
    },
    {
     "name": "stderr",
     "output_type": "stream",
     "text": [
      "C:\\Users\\Sena\\anaconda3\\lib\\site-packages\\sklearn\\metrics\\_classification.py:1318: UndefinedMetricWarning: Precision and F-score are ill-defined and being set to 0.0 in labels with no predicted samples. Use `zero_division` parameter to control this behavior.\n",
      "  _warn_prf(average, modifier, msg_start, len(result))\n",
      "C:\\Users\\Sena\\anaconda3\\lib\\site-packages\\sklearn\\metrics\\_classification.py:1318: UndefinedMetricWarning: Precision and F-score are ill-defined and being set to 0.0 in labels with no predicted samples. Use `zero_division` parameter to control this behavior.\n",
      "  _warn_prf(average, modifier, msg_start, len(result))\n",
      "C:\\Users\\Sena\\anaconda3\\lib\\site-packages\\sklearn\\metrics\\_classification.py:1318: UndefinedMetricWarning: Precision and F-score are ill-defined and being set to 0.0 in labels with no predicted samples. Use `zero_division` parameter to control this behavior.\n",
      "  _warn_prf(average, modifier, msg_start, len(result))\n"
     ]
    }
   ],
   "source": [
    "#Printing Classification Report for Sentiment\n",
    "from sklearn.metrics import cohen_kappa_score\n",
    "from sklearn.metrics import accuracy_score\n",
    "from sklearn.metrics import classification_report\n",
    "print(classification_report(Sentiment_test_integer_encoded, Sentiment_pred_classes, target_names = Sentiment_labels))\n",
    "accuracy = accuracy_score(Sentiment_test_integer_encoded, Sentiment_pred_classes)\n",
    "print('Accuracy: %f' % accuracy)\n",
    "cohen_score = cohen_kappa_score(Sentiment_test_integer_encoded, Sentiment_pred_classes)\n",
    "print('Cohen_score: %f' % cohen_score)"
   ]
  },
  {
   "cell_type": "markdown",
   "metadata": {},
   "source": [
    "#  Training and validation curves"
   ]
  },
  {
   "cell_type": "code",
   "execution_count": 202,
   "metadata": {},
   "outputs": [
    {
     "data": {
      "image/png": "[encoded data removed]",
      "text/plain": [
       "<Figure size 432x288 with 2 Axes>"
      ]
     },
     "metadata": {
      "needs_background": "light"
     },
     "output_type": "display_data"
    }
   ],
   "source": [
    "\n",
    "# Plot the loss and accuracy curves for training and validation\n",
    "fig, ax = plt.subplots(2,1)\n",
    "ax[0].plot(history.history['loss'], color='b', label=\"Training loss\")\n",
    "ax[0].plot(history.history['val_loss'], color='r', label=\"validation loss\",axes =ax[0])\n",
    "legend = ax[0].legend(loc='best', shadow=True)\n",
    "ax[1].plot(history.history['accuracy'], color='b', label=\"Training accuracy\")\n",
    "ax[1].plot(history.history['val_accuracy'], color='r',label=\"Validation accuracy\")\n",
    "legend = ax[1].legend(loc='best', shadow=True)\n",
    "plt.show()"
   ]
  },
  {
   "cell_type": "code",
   "execution_count": 213,
   "metadata": {
    "scrolled": true
   },
   "outputs": [],
   "source": [
    "\n",
    "LSTMModel.save('my_lstm.h5')"
   ]
  },
  {
   "cell_type": "markdown",
   "metadata": {},
   "source": [
    "# Plotting the confusion matrix"
   ]
  },
  {
   "cell_type": "code",
   "execution_count": 203,
   "metadata": {},
   "outputs": [
    {
     "data": {
      "image/png": "[encoded data removed]",
      "text/plain": [
       "<Figure size 432x288 with 2 Axes>"
      ]
     },
     "metadata": {
      "needs_background": "light"
     },
     "output_type": "display_data"
    }
   ],
   "source": [
    "# Defining function for plotting confusion matrix\n",
    "def plot_confusion_matrix(cm, classes,\n",
    "                          normalize=False,\n",
    "                          title='Confusion matrix',\n",
    "                          cmap=plt.cm.Blues):\n",
    "    '''\n",
    "    This function prints and plots the confusion matrix.\n",
    "    Normalization can be applied by setting `normalize=True`.\n",
    "    '''\n",
    "    plt.imshow(cm, interpolation='nearest', cmap=cmap)\n",
    "    plt.title(title)\n",
    "    plt.colorbar()\n",
    "    tick_marks = np.arange(len(classes))\n",
    "    plt.xticks(tick_marks, classes, rotation=45)\n",
    "    plt.yticks(tick_marks, classes)\n",
    "    if normalize:\n",
    "        cm = cm.astype('float') / cm.sum(axis=1)[:, np.newaxis]\n",
    "    thresh = cm.max() / 2.\n",
    "    for i, j in itertools.product(range(cm.shape[0]), range(cm.shape[1])):\n",
    "        plt.text(j, i, cm[i, j],\n",
    "                 horizontalalignment=\"center\",\n",
    "                 color=\"white\" if cm[i, j] > thresh else \"black\")\n",
    "    plt.tight_layout()\n",
    "    plt.ylabel('True label')\n",
    "    plt.xlabel('Predicted label')\n",
    "    plt.show()\n",
    "# plot the confusion matrix\n",
    "plot_confusion_matrix(confusion_mtx, classes = range(3))"
   ]
  },
  {
   "cell_type": "code",
   "execution_count": null,
   "metadata": {},
   "outputs": [],
   "source": []
  },
  {
   "cell_type": "markdown",
   "metadata": {
    "executionInfo": {
     "elapsed": 10,
     "status": "ok",
     "timestamp": 1681988892381,
     "user": {
      "displayName": "Sena ALHADHRAMI",
      "userId": "15424902837319805851"
     },
     "user_tz": -120
    },
    "id": "wob-PDeV3hnJ"
   },
   "source": [
    "# CNN-LSTM"
   ]
  },
  {
   "cell_type": "code",
   "execution_count": 38,
   "metadata": {},
   "outputs": [
    {
     "name": "stdout",
     "output_type": "stream",
     "text": [
      "Model: \"sequential\"\n",
      "_________________________________________________________________\n",
      " Layer (type)                Output Shape              Param #   \n",
      "=================================================================\n",
      " embedding (Embedding)       (None, 100, 100)          6056300   \n",
      "                                                                 \n",
      " conv1d (Conv1D)             (None, 96, 64)            32064     \n",
      "                                                                 \n",
      " max_pooling1d (MaxPooling1D  (None, 24, 64)           0         \n",
      " )                                                               \n",
      "                                                                 \n",
      " lstm (LSTM)                 (None, 64)                33024     \n",
      "                                                                 \n",
      " dense (Dense)               (None, 3)                 195       \n",
      "                                                                 \n",
      "=================================================================\n",
      "Total params: 6,121,583\n",
      "Trainable params: 6,121,583\n",
      "Non-trainable params: 0\n",
      "_________________________________________________________________\n",
      "None\n"
     ]
    }
   ],
   "source": [
    "# Build the CNN-LSTM model\n",
    "vocab_size = len(tokenizer.index_word) + 1\n",
    "sequence_len=100\n",
    "num_epochs = 5\n",
    "batch_size = 128\n",
    "modelCNN_LSTM = Sequential()\n",
    "modelCNN_LSTM.add(layers.Embedding(input_dim=vocab_size, output_dim=100, input_length=sequence_len))\n",
    "modelCNN_LSTM.add(Conv1D(64, 5, activation='relu'))\n",
    "modelCNN_LSTM.add(MaxPooling1D(pool_size=4))\n",
    "modelCNN_LSTM.add(LSTM(64))\n",
    "modelCNN_LSTM.add(Dense(len(label_encoder.classes_), activation='softmax'))\n",
    "# Compile the model\n",
    "modelCNN_LSTM.compile(loss=\"categorical_crossentropy\", optimizer=\"adam\", metrics=[\"accuracy\"])\n",
    "print(modelCNN_LSTM.summary())\n",
    "# Train the model"
   ]
  },
  {
   "cell_type": "code",
   "execution_count": 39,
   "metadata": {
    "scrolled": false
   },
   "outputs": [
    {
     "name": "stdout",
     "output_type": "stream",
     "text": [
      "Epoch 1/20\n",
      "946/946 [==============================] - 102s 106ms/step - loss: 0.6997 - accuracy: 0.7180 - val_loss: 0.6224 - val_accuracy: 0.7471\n",
      "Epoch 2/20\n",
      "946/946 [==============================] - 102s 108ms/step - loss: 0.5460 - accuracy: 0.7824 - val_loss: 0.5807 - val_accuracy: 0.7710\n",
      "Epoch 3/20\n",
      "946/946 [==============================] - 103s 109ms/step - loss: 0.4058 - accuracy: 0.8468 - val_loss: 0.5841 - val_accuracy: 0.7832\n",
      "Epoch 4/20\n",
      "946/946 [==============================] - 99s 105ms/step - loss: 0.2736 - accuracy: 0.9038 - val_loss: 0.6284 - val_accuracy: 0.7829\n",
      "Epoch 5/20\n",
      "946/946 [==============================] - 97s 103ms/step - loss: 0.1845 - accuracy: 0.9392 - val_loss: 0.6418 - val_accuracy: 0.8192\n",
      "Epoch 6/20\n",
      "946/946 [==============================] - 102s 108ms/step - loss: 0.1298 - accuracy: 0.9588 - val_loss: 0.7128 - val_accuracy: 0.8191\n",
      "Epoch 7/20\n",
      "946/946 [==============================] - 104s 110ms/step - loss: 0.0944 - accuracy: 0.9710 - val_loss: 0.7308 - val_accuracy: 0.8219\n",
      "Epoch 8/20\n",
      "946/946 [==============================] - 101s 107ms/step - loss: 0.0740 - accuracy: 0.9777 - val_loss: 0.6997 - val_accuracy: 0.8240\n",
      "Epoch 9/20\n",
      "946/946 [==============================] - 100s 106ms/step - loss: 0.0651 - accuracy: 0.9800 - val_loss: 0.8112 - val_accuracy: 0.8130\n",
      "Epoch 10/20\n",
      "946/946 [==============================] - 102s 108ms/step - loss: 0.0544 - accuracy: 0.9838 - val_loss: 0.8595 - val_accuracy: 0.8115\n",
      "Epoch 11/20\n",
      "946/946 [==============================] - 104s 110ms/step - loss: 0.0459 - accuracy: 0.9861 - val_loss: 0.9167 - val_accuracy: 0.8248\n",
      "Epoch 12/20\n",
      "946/946 [==============================] - 102s 108ms/step - loss: 0.0448 - accuracy: 0.9866 - val_loss: 0.8979 - val_accuracy: 0.8252\n",
      "Epoch 13/20\n",
      "946/946 [==============================] - 104s 110ms/step - loss: 0.0387 - accuracy: 0.9884 - val_loss: 0.9528 - val_accuracy: 0.8281\n",
      "Epoch 14/20\n",
      "946/946 [==============================] - 104s 110ms/step - loss: 0.0362 - accuracy: 0.9893 - val_loss: 0.9427 - val_accuracy: 0.8257\n",
      "Epoch 15/20\n",
      "946/946 [==============================] - 102s 108ms/step - loss: 0.0347 - accuracy: 0.9898 - val_loss: 0.9248 - val_accuracy: 0.8280\n",
      "Epoch 16/20\n",
      "946/946 [==============================] - 103s 108ms/step - loss: 0.0314 - accuracy: 0.9904 - val_loss: 0.9761 - val_accuracy: 0.8305\n",
      "Epoch 17/20\n",
      "946/946 [==============================] - 103s 109ms/step - loss: 0.0281 - accuracy: 0.9919 - val_loss: 0.9773 - val_accuracy: 0.8277\n",
      "Epoch 18/20\n",
      "946/946 [==============================] - 103s 109ms/step - loss: 0.0271 - accuracy: 0.9918 - val_loss: 1.0053 - val_accuracy: 0.8249\n",
      "Epoch 19/20\n",
      "946/946 [==============================] - 104s 110ms/step - loss: 0.0260 - accuracy: 0.9923 - val_loss: 1.0135 - val_accuracy: 0.8184\n",
      "Epoch 20/20\n",
      "946/946 [==============================] - 96s 102ms/step - loss: 0.0257 - accuracy: 0.9922 - val_loss: 0.9912 - val_accuracy: 0.8298\n"
     ]
    }
   ],
   "source": [
    "historyCNN_LSTM  = modelCNN_LSTM.fit(Report_train_padded ,Sentiment_train_onehot_encoded, epochs=20,validation_split=0.25, batch_size = batch_size)\n"
   ]
  },
  {
   "cell_type": "markdown",
   "metadata": {},
   "source": [
    "# evaluation on test data"
   ]
  },
  {
   "cell_type": "code",
   "execution_count": 40,
   "metadata": {},
   "outputs": [
    {
     "name": "stdout",
     "output_type": "stream",
     "text": [
      "1681/1681 [==============================] - 21s 12ms/step - loss: 1.0135 - accuracy: 0.8263\n",
      "\n",
      " Evaluated model accuracy on test data : 0.8262656927108765\n",
      "\n",
      " stop time: Thu May  4 13:15:11 2023 \n",
      "\n",
      "1681/1681 [==============================] - 21s 13ms/step\n"
     ]
    }
   ],
   "source": [
    "import time\n",
    "import itertools\n",
    "import warnings\n",
    "from sklearn.metrics import confusion_matrix\n",
    "# Model Evaluation on Test data\n",
    "test_loss,test_acc = modelCNN_LSTM.evaluate(Report_test_padded, Sentiment_test_onehot_encoded)\n",
    "print(\"\\n Evaluated model accuracy on test data :\",test_acc)\n",
    "seconds= time.time()\n",
    "time_stop = time.ctime(seconds)\n",
    "print(\"\\n\",\"stop time:\", time_stop,\"\\n\")\n",
    "# Predict the values from the Test dataset\n",
    "Sentiment_pred = modelCNN_LSTM.predict(Report_test_padded)\n",
    "# Convert predictions classes to one hot vectors\n",
    "Sentiment_pred_classes = np.argmax(Sentiment_pred,axis = 1)\n",
    "# computing the confusion matrix"
   ]
  },
  {
   "cell_type": "code",
   "execution_count": 41,
   "metadata": {},
   "outputs": [
    {
     "data": {
      "text/plain": [
       "<function sklearn.metrics._classification.confusion_matrix(y_true, y_pred, *, labels=None, sample_weight=None, normalize=None)>"
      ]
     },
     "execution_count": 41,
     "metadata": {},
     "output_type": "execute_result"
    }
   ],
   "source": [
    "confusion_mtx = confusion_matrix(Sentiment_test_integer_encoded, Sentiment_pred_classes)\n",
    "confusion_matrix\n"
   ]
  },
  {
   "cell_type": "markdown",
   "metadata": {},
   "source": [
    "# Results"
   ]
  },
  {
   "cell_type": "code",
   "execution_count": 42,
   "metadata": {},
   "outputs": [
    {
     "name": "stdout",
     "output_type": "stream",
     "text": [
      "              precision    recall  f1-score   support\n",
      "\n",
      "    Negative       0.78      0.80      0.79     13497\n",
      "     Neutral       0.67      0.55      0.60      7920\n",
      "    Positive       0.88      0.90      0.89     32349\n",
      "\n",
      "    accuracy                           0.83     53766\n",
      "   macro avg       0.77      0.75      0.76     53766\n",
      "weighted avg       0.82      0.83      0.82     53766\n",
      "\n",
      "Accuracy: 0.826266\n",
      "Cohen_score: 0.680811\n"
     ]
    }
   ],
   "source": [
    "#Printing Classification Report for Sentiment\n",
    "from sklearn.metrics import cohen_kappa_score\n",
    "from sklearn.metrics import accuracy_score\n",
    "from sklearn.metrics import classification_report\n",
    "print(classification_report(Sentiment_test_integer_encoded, Sentiment_pred_classes, target_names = Sentiment_labels))\n",
    "accuracy = accuracy_score(Sentiment_test_integer_encoded, Sentiment_pred_classes)\n",
    "print('Accuracy: %f' % accuracy)\n",
    "cohen_score = cohen_kappa_score(Sentiment_test_integer_encoded, Sentiment_pred_classes)\n",
    "print('Cohen_score: %f' % cohen_score)"
   ]
  },
  {
   "cell_type": "markdown",
   "metadata": {},
   "source": [
    "# Training and validation curves"
   ]
  },
  {
   "cell_type": "code",
   "execution_count": 43,
   "metadata": {},
   "outputs": [
    {
     "data": {
      "image/png": "[encoded data removed]",
      "text/plain": [
       "<Figure size 432x288 with 2 Axes>"
      ]
     },
     "metadata": {
      "needs_background": "light"
     },
     "output_type": "display_data"
    }
   ],
   "source": [
    "# Plot the loss and accuracy curves for training and validation\n",
    "fig, ax = plt.subplots(2,1)\n",
    "ax[0].plot(historyCNN_LSTM.history['loss'], color='b', label=\"Training loss\")\n",
    "ax[0].plot(historyCNN_LSTM.history['val_loss'], color='r', label=\"validation loss\",axes =ax[0])\n",
    "legend = ax[0].legend(loc='best', shadow=True)\n",
    "ax[1].plot(historyCNN_LSTM.history['accuracy'], color='b', label=\"Training accuracy\")\n",
    "ax[1].plot(historyCNN_LSTM.history['val_accuracy'], color='r',label=\"Validation accuracy\")\n",
    "legend = ax[1].legend(loc='best', shadow=True)\n",
    "plt.show()"
   ]
  },
  {
   "cell_type": "markdown",
   "metadata": {},
   "source": [
    "# Plotting the confusion matrix"
   ]
  },
  {
   "cell_type": "code",
   "execution_count": 44,
   "metadata": {},
   "outputs": [
    {
     "data": {
      "image/png": "[encoded data removed]",
      "text/plain": [
       "<Figure size 432x288 with 2 Axes>"
      ]
     },
     "metadata": {
      "needs_background": "light"
     },
     "output_type": "display_data"
    }
   ],
   "source": [
    "# Defining function for plotting confusion matrix\n",
    "def plot_confusion_matrix(cm, classes,\n",
    "                          normalize=False,\n",
    "                          title='Confusion matrix',\n",
    "                          cmap=plt.cm.Blues):\n",
    "    '''\n",
    "    This function prints and plots the confusion matrix.\n",
    "    Normalization can be applied by setting `normalize=True`.\n",
    "    '''\n",
    "    plt.imshow(cm, interpolation='nearest', cmap=cmap)\n",
    "    plt.title(title)\n",
    "    plt.colorbar()\n",
    "    tick_marks = np.arange(len(classes))\n",
    "    plt.xticks(tick_marks, classes, rotation=45)\n",
    "    plt.yticks(tick_marks, classes)\n",
    "    if normalize:\n",
    "        cm = cm.astype('float') / cm.sum(axis=1)[:, np.newaxis]\n",
    "    thresh = cm.max() / 2.\n",
    "    for i, j in itertools.product(range(cm.shape[0]), range(cm.shape[1])):\n",
    "        plt.text(j, i, cm[i, j],\n",
    "                 horizontalalignment=\"center\",\n",
    "                 color=\"white\" if cm[i, j] > thresh else \"black\")\n",
    "    plt.tight_layout()\n",
    "    plt.ylabel('True label')\n",
    "    plt.xlabel('Predicted label')\n",
    "    plt.show()\n",
    "# plot the confusion matrix\n",
    "plot_confusion_matrix(confusion_mtx, classes = range(3))"
   ]
  },
  {
   "cell_type": "code",
   "execution_count": null,
   "metadata": {},
   "outputs": [],
   "source": []
  },
  {
   "cell_type": "code",
   "execution_count": null,
   "metadata": {},
   "outputs": [],
   "source": []
  },
  {
   "cell_type": "code",
   "execution_count": null,
   "metadata": {},
   "outputs": [],
   "source": []
  }
 ],
 "metadata": {
  "colab": {
   "authorship_tag": "ABX9TyNiCmLIAEIoOo2UjIvQZExv",
   "provenance": []
  },
  "kernelspec": {
   "display_name": "Python 3 (ipykernel)",
   "language": "python",
   "name": "python3"
  },
  "language_info": {
   "codemirror_mode": {
    "name": "ipython",
    "version": 3
   },
   "file_extension": ".py",
   "mimetype": "text/x-python",
   "name": "python",
   "nbconvert_exporter": "python",
   "pygments_lexer": "ipython3",
   "version": "3.9.12"
  }
 },
 "nbformat": 4,
 "nbformat_minor": 1
}
