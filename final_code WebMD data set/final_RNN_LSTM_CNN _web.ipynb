{
 "cells": [
  {
   "cell_type": "code",
   "execution_count": 1,
   "id": "2095ada5",
   "metadata": {},
   "outputs": [],
   "source": [
    "import os\n",
    "import re\n",
    "import nltk\n",
    "import pandas as pd\n",
    "import numpy as np\n",
    "import seaborn as sns\n",
    "import matplotlib.pyplot as plt\n",
    "from nltk.tokenize import word_tokenize\n",
    "from nltk import pos_tag\n",
    "from nltk.corpus import stopwords, wordnet\n",
    "from nltk.stem import WordNetLemmatizer\n",
    "from sklearn.datasets import fetch_20newsgroups\n",
    "#from tensorflow.keras import layers\n",
    "from keras import layers\n",
    "from sklearn.model_selection import train_test_split\n",
    "#from tensorflow.keras.models import Sequential\n",
    "from keras.models import Sequential\n",
    "#from tensorflow.keras.preprocessing.text import Tokenizer\n",
    "from keras.preprocessing.text import Tokenizer\n",
    "from tensorflow.keras.preprocessing.sequence import pad_sequences\n",
    "#from keras.preprocessing.sequence import pad_sequences\n",
    "import tensorflow as tf\n",
    "from keras.layers.core import Dense, Activation, Dropout\n",
    "#from keras.layers.normalization import BatchNormalization\n",
    "from keras.utils import np_utils\n",
    "from keras.layers import GlobalMaxPooling1D, Conv1D, MaxPooling1D, Flatten, Bidirectional, SpatialDropout1D"
   ]
  },
  {
   "cell_type": "code",
   "execution_count": 2,
   "id": "b8c59e25",
   "metadata": {},
   "outputs": [
    {
     "name": "stderr",
     "output_type": "stream",
     "text": [
      "[nltk_data] Downloading package punkt to\n",
      "[nltk_data]     C:\\Users\\Sena\\AppData\\Roaming\\nltk_data...\n",
      "[nltk_data]   Package punkt is already up-to-date!\n",
      "[nltk_data] Downloading package averaged_perceptron_tagger to\n",
      "[nltk_data]     C:\\Users\\Sena\\AppData\\Roaming\\nltk_data...\n",
      "[nltk_data]   Package averaged_perceptron_tagger is already up-to-\n",
      "[nltk_data]       date!\n",
      "[nltk_data] Downloading package wordnet to\n",
      "[nltk_data]     C:\\Users\\Sena\\AppData\\Roaming\\nltk_data...\n",
      "[nltk_data]   Package wordnet is already up-to-date!\n",
      "[nltk_data] Downloading package stopwords to\n",
      "[nltk_data]     C:\\Users\\Sena\\AppData\\Roaming\\nltk_data...\n",
      "[nltk_data]   Package stopwords is already up-to-date!\n",
      "[nltk_data] Downloading package omw-1.4 to\n",
      "[nltk_data]     C:\\Users\\Sena\\AppData\\Roaming\\nltk_data...\n",
      "[nltk_data]   Package omw-1.4 is already up-to-date!\n"
     ]
    },
    {
     "data": {
      "text/plain": [
       "True"
      ]
     },
     "execution_count": 2,
     "metadata": {},
     "output_type": "execute_result"
    }
   ],
   "source": [
    "nltk.download(\"punkt\")\n",
    "nltk.download(\"averaged_perceptron_tagger\")\n",
    "nltk.download(\"wordnet\")\n",
    "nltk.download(\"stopwords\")\n",
    "nltk.download('omw-1.4')"
   ]
  },
  {
   "cell_type": "code",
   "execution_count": 3,
   "id": "423fa0d5",
   "metadata": {},
   "outputs": [],
   "source": [
    "df = pd.read_csv('webmd.csv')"
   ]
  },
  {
   "cell_type": "code",
   "execution_count": 4,
   "id": "c2ca6205",
   "metadata": {},
   "outputs": [
    {
     "data": {
      "text/plain": [
       "(362806, 12)"
      ]
     },
     "execution_count": 4,
     "metadata": {},
     "output_type": "execute_result"
    }
   ],
   "source": [
    "df.shape"
   ]
  },
  {
   "cell_type": "code",
   "execution_count": 5,
   "id": "dfeff44c",
   "metadata": {
    "scrolled": false
   },
   "outputs": [
    {
     "data": {
      "text/html": [
       "<div>\n",
       "<style scoped>\n",
       "    .dataframe tbody tr th:only-of-type {\n",
       "        vertical-align: middle;\n",
       "    }\n",
       "\n",
       "    .dataframe tbody tr th {\n",
       "        vertical-align: top;\n",
       "    }\n",
       "\n",
       "    .dataframe thead th {\n",
       "        text-align: right;\n",
       "    }\n",
       "</style>\n",
       "<table border=\"1\" class=\"dataframe\">\n",
       "  <thead>\n",
       "    <tr style=\"text-align: right;\">\n",
       "      <th></th>\n",
       "      <th>Age</th>\n",
       "      <th>Condition</th>\n",
       "      <th>Date</th>\n",
       "      <th>Drug</th>\n",
       "      <th>DrugId</th>\n",
       "      <th>EaseofUse</th>\n",
       "      <th>Effectiveness</th>\n",
       "      <th>Reviews</th>\n",
       "      <th>Satisfaction</th>\n",
       "      <th>Sex</th>\n",
       "      <th>Sides</th>\n",
       "      <th>UsefulCount</th>\n",
       "    </tr>\n",
       "  </thead>\n",
       "  <tbody>\n",
       "    <tr>\n",
       "      <th>0</th>\n",
       "      <td>75 or over</td>\n",
       "      <td>Stuffy Nose</td>\n",
       "      <td>9/21/2014</td>\n",
       "      <td>25dph-7.5peh</td>\n",
       "      <td>146724</td>\n",
       "      <td>5</td>\n",
       "      <td>5</td>\n",
       "      <td>I'm a retired physician and of all the meds I ...</td>\n",
       "      <td>5</td>\n",
       "      <td>Male</td>\n",
       "      <td>Drowsiness,  dizziness ,  dry mouth /nose/thro...</td>\n",
       "      <td>0</td>\n",
       "    </tr>\n",
       "    <tr>\n",
       "      <th>1</th>\n",
       "      <td>25-34</td>\n",
       "      <td>Cold Symptoms</td>\n",
       "      <td>1/13/2011</td>\n",
       "      <td>25dph-7.5peh</td>\n",
       "      <td>146724</td>\n",
       "      <td>5</td>\n",
       "      <td>5</td>\n",
       "      <td>cleared me right up even with my throat hurtin...</td>\n",
       "      <td>5</td>\n",
       "      <td>Female</td>\n",
       "      <td>Drowsiness,  dizziness ,  dry mouth /nose/thro...</td>\n",
       "      <td>1</td>\n",
       "    </tr>\n",
       "    <tr>\n",
       "      <th>2</th>\n",
       "      <td>65-74</td>\n",
       "      <td>Other</td>\n",
       "      <td>7/16/2012</td>\n",
       "      <td>warfarin (bulk) 100 % powder</td>\n",
       "      <td>144731</td>\n",
       "      <td>2</td>\n",
       "      <td>3</td>\n",
       "      <td>why did my PTINR go from a normal of 2.5 to ov...</td>\n",
       "      <td>3</td>\n",
       "      <td>Female</td>\n",
       "      <td></td>\n",
       "      <td>0</td>\n",
       "    </tr>\n",
       "    <tr>\n",
       "      <th>3</th>\n",
       "      <td>75 or over</td>\n",
       "      <td>Other</td>\n",
       "      <td>9/23/2010</td>\n",
       "      <td>warfarin (bulk) 100 % powder</td>\n",
       "      <td>144731</td>\n",
       "      <td>2</td>\n",
       "      <td>2</td>\n",
       "      <td>FALLING AND DON'T REALISE IT</td>\n",
       "      <td>1</td>\n",
       "      <td>Female</td>\n",
       "      <td></td>\n",
       "      <td>0</td>\n",
       "    </tr>\n",
       "    <tr>\n",
       "      <th>4</th>\n",
       "      <td>35-44</td>\n",
       "      <td>Other</td>\n",
       "      <td>1/6/2009</td>\n",
       "      <td>warfarin (bulk) 100 % powder</td>\n",
       "      <td>144731</td>\n",
       "      <td>1</td>\n",
       "      <td>1</td>\n",
       "      <td>My grandfather was prescribed this medication ...</td>\n",
       "      <td>1</td>\n",
       "      <td>Male</td>\n",
       "      <td></td>\n",
       "      <td>1</td>\n",
       "    </tr>\n",
       "  </tbody>\n",
       "</table>\n",
       "</div>"
      ],
      "text/plain": [
       "          Age      Condition       Date                          Drug  DrugId  \\\n",
       "0  75 or over    Stuffy Nose  9/21/2014                  25dph-7.5peh  146724   \n",
       "1       25-34  Cold Symptoms  1/13/2011                  25dph-7.5peh  146724   \n",
       "2       65-74          Other  7/16/2012  warfarin (bulk) 100 % powder  144731   \n",
       "3  75 or over          Other  9/23/2010  warfarin (bulk) 100 % powder  144731   \n",
       "4       35-44          Other   1/6/2009  warfarin (bulk) 100 % powder  144731   \n",
       "\n",
       "   EaseofUse  Effectiveness  \\\n",
       "0          5              5   \n",
       "1          5              5   \n",
       "2          2              3   \n",
       "3          2              2   \n",
       "4          1              1   \n",
       "\n",
       "                                             Reviews  Satisfaction     Sex  \\\n",
       "0  I'm a retired physician and of all the meds I ...             5    Male   \n",
       "1  cleared me right up even with my throat hurtin...             5  Female   \n",
       "2  why did my PTINR go from a normal of 2.5 to ov...             3  Female   \n",
       "3                       FALLING AND DON'T REALISE IT             1  Female   \n",
       "4  My grandfather was prescribed this medication ...             1    Male   \n",
       "\n",
       "                                               Sides  UsefulCount  \n",
       "0  Drowsiness,  dizziness ,  dry mouth /nose/thro...            0  \n",
       "1  Drowsiness,  dizziness ,  dry mouth /nose/thro...            1  \n",
       "2                                                               0  \n",
       "3                                                               0  \n",
       "4                                                               1  "
      ]
     },
     "execution_count": 5,
     "metadata": {},
     "output_type": "execute_result"
    }
   ],
   "source": [
    "df.head()"
   ]
  },
  {
   "cell_type": "code",
   "execution_count": 6,
   "id": "61929569",
   "metadata": {
    "scrolled": false
   },
   "outputs": [],
   "source": [
    "report=['Condition','Reviews']"
   ]
  },
  {
   "cell_type": "code",
   "execution_count": 7,
   "id": "08fceb9f",
   "metadata": {
    "scrolled": true
   },
   "outputs": [
    {
     "data": {
      "text/html": [
       "<div>\n",
       "<style scoped>\n",
       "    .dataframe tbody tr th:only-of-type {\n",
       "        vertical-align: middle;\n",
       "    }\n",
       "\n",
       "    .dataframe tbody tr th {\n",
       "        vertical-align: top;\n",
       "    }\n",
       "\n",
       "    .dataframe thead th {\n",
       "        text-align: right;\n",
       "    }\n",
       "</style>\n",
       "<table border=\"1\" class=\"dataframe\">\n",
       "  <thead>\n",
       "    <tr style=\"text-align: right;\">\n",
       "      <th></th>\n",
       "      <th>Age</th>\n",
       "      <th>Condition</th>\n",
       "      <th>Date</th>\n",
       "      <th>Drug</th>\n",
       "      <th>DrugId</th>\n",
       "      <th>EaseofUse</th>\n",
       "      <th>Effectiveness</th>\n",
       "      <th>Reviews</th>\n",
       "      <th>Satisfaction</th>\n",
       "      <th>Sex</th>\n",
       "      <th>Sides</th>\n",
       "      <th>UsefulCount</th>\n",
       "      <th>report</th>\n",
       "    </tr>\n",
       "  </thead>\n",
       "  <tbody>\n",
       "    <tr>\n",
       "      <th>0</th>\n",
       "      <td>75 or over</td>\n",
       "      <td>Stuffy Nose</td>\n",
       "      <td>9/21/2014</td>\n",
       "      <td>25dph-7.5peh</td>\n",
       "      <td>146724</td>\n",
       "      <td>5</td>\n",
       "      <td>5</td>\n",
       "      <td>I'm a retired physician and of all the meds I ...</td>\n",
       "      <td>5</td>\n",
       "      <td>Male</td>\n",
       "      <td>Drowsiness,  dizziness ,  dry mouth /nose/thro...</td>\n",
       "      <td>0</td>\n",
       "      <td>Stuffy Nose_I'm a retired physician and of all...</td>\n",
       "    </tr>\n",
       "    <tr>\n",
       "      <th>1</th>\n",
       "      <td>25-34</td>\n",
       "      <td>Cold Symptoms</td>\n",
       "      <td>1/13/2011</td>\n",
       "      <td>25dph-7.5peh</td>\n",
       "      <td>146724</td>\n",
       "      <td>5</td>\n",
       "      <td>5</td>\n",
       "      <td>cleared me right up even with my throat hurtin...</td>\n",
       "      <td>5</td>\n",
       "      <td>Female</td>\n",
       "      <td>Drowsiness,  dizziness ,  dry mouth /nose/thro...</td>\n",
       "      <td>1</td>\n",
       "      <td>Cold Symptoms_cleared me right up even with my...</td>\n",
       "    </tr>\n",
       "    <tr>\n",
       "      <th>2</th>\n",
       "      <td>65-74</td>\n",
       "      <td>Other</td>\n",
       "      <td>7/16/2012</td>\n",
       "      <td>warfarin (bulk) 100 % powder</td>\n",
       "      <td>144731</td>\n",
       "      <td>2</td>\n",
       "      <td>3</td>\n",
       "      <td>why did my PTINR go from a normal of 2.5 to ov...</td>\n",
       "      <td>3</td>\n",
       "      <td>Female</td>\n",
       "      <td></td>\n",
       "      <td>0</td>\n",
       "      <td>Other_why did my PTINR go from a normal of 2.5...</td>\n",
       "    </tr>\n",
       "    <tr>\n",
       "      <th>3</th>\n",
       "      <td>75 or over</td>\n",
       "      <td>Other</td>\n",
       "      <td>9/23/2010</td>\n",
       "      <td>warfarin (bulk) 100 % powder</td>\n",
       "      <td>144731</td>\n",
       "      <td>2</td>\n",
       "      <td>2</td>\n",
       "      <td>FALLING AND DON'T REALISE IT</td>\n",
       "      <td>1</td>\n",
       "      <td>Female</td>\n",
       "      <td></td>\n",
       "      <td>0</td>\n",
       "      <td>Other_FALLING AND DON'T REALISE IT</td>\n",
       "    </tr>\n",
       "    <tr>\n",
       "      <th>4</th>\n",
       "      <td>35-44</td>\n",
       "      <td>Other</td>\n",
       "      <td>1/6/2009</td>\n",
       "      <td>warfarin (bulk) 100 % powder</td>\n",
       "      <td>144731</td>\n",
       "      <td>1</td>\n",
       "      <td>1</td>\n",
       "      <td>My grandfather was prescribed this medication ...</td>\n",
       "      <td>1</td>\n",
       "      <td>Male</td>\n",
       "      <td></td>\n",
       "      <td>1</td>\n",
       "      <td>Other_My grandfather was prescribed this medic...</td>\n",
       "    </tr>\n",
       "    <tr>\n",
       "      <th>...</th>\n",
       "      <td>...</td>\n",
       "      <td>...</td>\n",
       "      <td>...</td>\n",
       "      <td>...</td>\n",
       "      <td>...</td>\n",
       "      <td>...</td>\n",
       "      <td>...</td>\n",
       "      <td>...</td>\n",
       "      <td>...</td>\n",
       "      <td>...</td>\n",
       "      <td>...</td>\n",
       "      <td>...</td>\n",
       "      <td>...</td>\n",
       "    </tr>\n",
       "    <tr>\n",
       "      <th>362801</th>\n",
       "      <td>55-64</td>\n",
       "      <td>Stop Smoking</td>\n",
       "      <td>11/14/2008</td>\n",
       "      <td>chantix</td>\n",
       "      <td>144470</td>\n",
       "      <td>5</td>\n",
       "      <td>5</td>\n",
       "      <td>I took the whole 12 weeks.I could have stopped...</td>\n",
       "      <td>5</td>\n",
       "      <td>Female</td>\n",
       "      <td>Nausea ,  headache ,  vomiting , drowsiness, g...</td>\n",
       "      <td>2</td>\n",
       "      <td>Stop Smoking_I took the whole 12 weeks.I could...</td>\n",
       "    </tr>\n",
       "    <tr>\n",
       "      <th>362802</th>\n",
       "      <td></td>\n",
       "      <td>Other</td>\n",
       "      <td>11/14/2008</td>\n",
       "      <td>chantix</td>\n",
       "      <td>144470</td>\n",
       "      <td>2</td>\n",
       "      <td>3</td>\n",
       "      <td>My dad strated taking Chantix about 1 month ag...</td>\n",
       "      <td>1</td>\n",
       "      <td></td>\n",
       "      <td>Nausea ,  headache ,  vomiting , drowsiness, g...</td>\n",
       "      <td>16</td>\n",
       "      <td>Other_My dad strated taking Chantix about 1 mo...</td>\n",
       "    </tr>\n",
       "    <tr>\n",
       "      <th>362803</th>\n",
       "      <td>25-34</td>\n",
       "      <td>Stop Smoking</td>\n",
       "      <td>11/13/2008</td>\n",
       "      <td>chantix</td>\n",
       "      <td>144470</td>\n",
       "      <td>2</td>\n",
       "      <td>4</td>\n",
       "      <td>As long as I was on chantix, I didn't smoke.  ...</td>\n",
       "      <td>2</td>\n",
       "      <td>Female</td>\n",
       "      <td>Nausea ,  headache ,  vomiting , drowsiness, g...</td>\n",
       "      <td>3</td>\n",
       "      <td>Stop Smoking_As long as I was on chantix, I di...</td>\n",
       "    </tr>\n",
       "    <tr>\n",
       "      <th>362804</th>\n",
       "      <td>55-64</td>\n",
       "      <td>Stop Smoking</td>\n",
       "      <td>11/13/2008</td>\n",
       "      <td>chantix</td>\n",
       "      <td>144470</td>\n",
       "      <td>5</td>\n",
       "      <td>5</td>\n",
       "      <td>Started this medication Oct 5th 2008. Haven't ...</td>\n",
       "      <td>5</td>\n",
       "      <td>Male</td>\n",
       "      <td>Nausea ,  headache ,  vomiting , drowsiness, g...</td>\n",
       "      <td>1</td>\n",
       "      <td>Stop Smoking_Started this medication Oct 5th 2...</td>\n",
       "    </tr>\n",
       "    <tr>\n",
       "      <th>362805</th>\n",
       "      <td>45-54</td>\n",
       "      <td>Stop Smoking</td>\n",
       "      <td>11/12/2008</td>\n",
       "      <td>chantix</td>\n",
       "      <td>144470</td>\n",
       "      <td>4</td>\n",
       "      <td>5</td>\n",
       "      <td>One year ago, I tried Chantix and had to stop ...</td>\n",
       "      <td>5</td>\n",
       "      <td>Female</td>\n",
       "      <td>Nausea ,  headache ,  vomiting , drowsiness, g...</td>\n",
       "      <td>3</td>\n",
       "      <td>Stop Smoking_One year ago, I tried Chantix and...</td>\n",
       "    </tr>\n",
       "  </tbody>\n",
       "</table>\n",
       "<p>362806 rows × 13 columns</p>\n",
       "</div>"
      ],
      "text/plain": [
       "               Age      Condition        Date                          Drug  \\\n",
       "0       75 or over    Stuffy Nose   9/21/2014                  25dph-7.5peh   \n",
       "1            25-34  Cold Symptoms   1/13/2011                  25dph-7.5peh   \n",
       "2            65-74          Other   7/16/2012  warfarin (bulk) 100 % powder   \n",
       "3       75 or over          Other   9/23/2010  warfarin (bulk) 100 % powder   \n",
       "4            35-44          Other    1/6/2009  warfarin (bulk) 100 % powder   \n",
       "...            ...            ...         ...                           ...   \n",
       "362801       55-64   Stop Smoking  11/14/2008                       chantix   \n",
       "362802                      Other  11/14/2008                       chantix   \n",
       "362803       25-34   Stop Smoking  11/13/2008                       chantix   \n",
       "362804       55-64   Stop Smoking  11/13/2008                       chantix   \n",
       "362805       45-54   Stop Smoking  11/12/2008                       chantix   \n",
       "\n",
       "        DrugId  EaseofUse  Effectiveness  \\\n",
       "0       146724          5              5   \n",
       "1       146724          5              5   \n",
       "2       144731          2              3   \n",
       "3       144731          2              2   \n",
       "4       144731          1              1   \n",
       "...        ...        ...            ...   \n",
       "362801  144470          5              5   \n",
       "362802  144470          2              3   \n",
       "362803  144470          2              4   \n",
       "362804  144470          5              5   \n",
       "362805  144470          4              5   \n",
       "\n",
       "                                                  Reviews  Satisfaction  \\\n",
       "0       I'm a retired physician and of all the meds I ...             5   \n",
       "1       cleared me right up even with my throat hurtin...             5   \n",
       "2       why did my PTINR go from a normal of 2.5 to ov...             3   \n",
       "3                            FALLING AND DON'T REALISE IT             1   \n",
       "4       My grandfather was prescribed this medication ...             1   \n",
       "...                                                   ...           ...   \n",
       "362801  I took the whole 12 weeks.I could have stopped...             5   \n",
       "362802  My dad strated taking Chantix about 1 month ag...             1   \n",
       "362803  As long as I was on chantix, I didn't smoke.  ...             2   \n",
       "362804  Started this medication Oct 5th 2008. Haven't ...             5   \n",
       "362805  One year ago, I tried Chantix and had to stop ...             5   \n",
       "\n",
       "           Sex                                              Sides  \\\n",
       "0         Male  Drowsiness,  dizziness ,  dry mouth /nose/thro...   \n",
       "1       Female  Drowsiness,  dizziness ,  dry mouth /nose/thro...   \n",
       "2       Female                                                      \n",
       "3       Female                                                      \n",
       "4         Male                                                      \n",
       "...        ...                                                ...   \n",
       "362801  Female  Nausea ,  headache ,  vomiting , drowsiness, g...   \n",
       "362802          Nausea ,  headache ,  vomiting , drowsiness, g...   \n",
       "362803  Female  Nausea ,  headache ,  vomiting , drowsiness, g...   \n",
       "362804    Male  Nausea ,  headache ,  vomiting , drowsiness, g...   \n",
       "362805  Female  Nausea ,  headache ,  vomiting , drowsiness, g...   \n",
       "\n",
       "        UsefulCount                                             report  \n",
       "0                 0  Stuffy Nose_I'm a retired physician and of all...  \n",
       "1                 1  Cold Symptoms_cleared me right up even with my...  \n",
       "2                 0  Other_why did my PTINR go from a normal of 2.5...  \n",
       "3                 0                 Other_FALLING AND DON'T REALISE IT  \n",
       "4                 1  Other_My grandfather was prescribed this medic...  \n",
       "...             ...                                                ...  \n",
       "362801            2  Stop Smoking_I took the whole 12 weeks.I could...  \n",
       "362802           16  Other_My dad strated taking Chantix about 1 mo...  \n",
       "362803            3  Stop Smoking_As long as I was on chantix, I di...  \n",
       "362804            1  Stop Smoking_Started this medication Oct 5th 2...  \n",
       "362805            3  Stop Smoking_One year ago, I tried Chantix and...  \n",
       "\n",
       "[362806 rows x 13 columns]"
      ]
     },
     "execution_count": 7,
     "metadata": {},
     "output_type": "execute_result"
    }
   ],
   "source": [
    "\n",
    "df['report'] =df[report].apply(lambda row: '_'.join(row.values.astype(str)), axis=1)\n",
    "df"
   ]
  },
  {
   "cell_type": "code",
   "execution_count": 8,
   "id": "807cd05d",
   "metadata": {},
   "outputs": [
    {
     "data": {
      "text/html": [
       "<div>\n",
       "<style scoped>\n",
       "    .dataframe tbody tr th:only-of-type {\n",
       "        vertical-align: middle;\n",
       "    }\n",
       "\n",
       "    .dataframe tbody tr th {\n",
       "        vertical-align: top;\n",
       "    }\n",
       "\n",
       "    .dataframe thead th {\n",
       "        text-align: right;\n",
       "    }\n",
       "</style>\n",
       "<table border=\"1\" class=\"dataframe\">\n",
       "  <thead>\n",
       "    <tr style=\"text-align: right;\">\n",
       "      <th></th>\n",
       "      <th>Satisfaction</th>\n",
       "      <th>report</th>\n",
       "    </tr>\n",
       "  </thead>\n",
       "  <tbody>\n",
       "    <tr>\n",
       "      <th>0</th>\n",
       "      <td>5</td>\n",
       "      <td>Stuffy Nose_I'm a retired physician and of all...</td>\n",
       "    </tr>\n",
       "    <tr>\n",
       "      <th>1</th>\n",
       "      <td>5</td>\n",
       "      <td>Cold Symptoms_cleared me right up even with my...</td>\n",
       "    </tr>\n",
       "    <tr>\n",
       "      <th>2</th>\n",
       "      <td>3</td>\n",
       "      <td>Other_why did my PTINR go from a normal of 2.5...</td>\n",
       "    </tr>\n",
       "    <tr>\n",
       "      <th>3</th>\n",
       "      <td>1</td>\n",
       "      <td>Other_FALLING AND DON'T REALISE IT</td>\n",
       "    </tr>\n",
       "    <tr>\n",
       "      <th>4</th>\n",
       "      <td>1</td>\n",
       "      <td>Other_My grandfather was prescribed this medic...</td>\n",
       "    </tr>\n",
       "    <tr>\n",
       "      <th>5</th>\n",
       "      <td>4</td>\n",
       "      <td>Other_help heart condition operation well</td>\n",
       "    </tr>\n",
       "    <tr>\n",
       "      <th>6</th>\n",
       "      <td>2</td>\n",
       "      <td>Birth Control_Haven't gotten pregnant so it do...</td>\n",
       "    </tr>\n",
       "    <tr>\n",
       "      <th>7</th>\n",
       "      <td>5</td>\n",
       "      <td>Disease of Ovaries with Cysts_I have take this...</td>\n",
       "    </tr>\n",
       "    <tr>\n",
       "      <th>8</th>\n",
       "      <td>2</td>\n",
       "      <td>Acne_</td>\n",
       "    </tr>\n",
       "    <tr>\n",
       "      <th>9</th>\n",
       "      <td>2</td>\n",
       "      <td>Stuffy Nose_The 12 hour spray only works for m...</td>\n",
       "    </tr>\n",
       "  </tbody>\n",
       "</table>\n",
       "</div>"
      ],
      "text/plain": [
       "   Satisfaction                                             report\n",
       "0             5  Stuffy Nose_I'm a retired physician and of all...\n",
       "1             5  Cold Symptoms_cleared me right up even with my...\n",
       "2             3  Other_why did my PTINR go from a normal of 2.5...\n",
       "3             1                 Other_FALLING AND DON'T REALISE IT\n",
       "4             1  Other_My grandfather was prescribed this medic...\n",
       "5             4          Other_help heart condition operation well\n",
       "6             2  Birth Control_Haven't gotten pregnant so it do...\n",
       "7             5  Disease of Ovaries with Cysts_I have take this...\n",
       "8             2                                             Acne_ \n",
       "9             2  Stuffy Nose_The 12 hour spray only works for m..."
      ]
     },
     "execution_count": 8,
     "metadata": {},
     "output_type": "execute_result"
    }
   ],
   "source": [
    "\n",
    "df_train = df.drop(['Age','Condition','Date','Drug','DrugId','EaseofUse','Effectiveness','Sex','Sides','UsefulCount','Reviews'],axis=1)\n",
    "df_train .head(10)"
   ]
  },
  {
   "cell_type": "code",
   "execution_count": 9,
   "id": "1b532eb1",
   "metadata": {},
   "outputs": [],
   "source": [
    "def clean_text (text):\n",
    "    # Remove Pre and Post Spaces\n",
    "    text = str(text).strip()\n",
    "    \n",
    "    # Lower case the entire text\n",
    "    text = str(text).lower()\n",
    "\n",
    "    # Substitute New Line Characters with spaces \n",
    "    text = re.sub(r\"\\n\", r\" \", text)\n",
    "        \n",
    "    # Tokenize the sentence\n",
    "    word_tokens = word_tokenize(text)\n",
    "    \n",
    "    # Remove the punctuation and  special characters from each individual word\n",
    "    cleaned_text = []\n",
    "    for word in word_tokens:\n",
    "        cleaned_text.append(\"\".join([char for char in word if char.isalnum()]))\n",
    "    \n",
    "    # Specify the stop words list\n",
    "    stop_words = stopwords.words('english')\n",
    "    \n",
    "    # Remove the stopwords and words containing less then 2 characters\n",
    "    text_tokens = [word for word in cleaned_text if (len(word) > 2) and (word not in stop_words)]\n",
    "    \n",
    "    #Lemmatize each word in the word list\n",
    "    text = lemmatize (text_tokens)\n",
    "    \n",
    "    return text"
   ]
  },
  {
   "cell_type": "code",
   "execution_count": 10,
   "id": "8ab10593",
   "metadata": {},
   "outputs": [],
   "source": [
    "def get_wordnet_pos (tag):\n",
    "    if tag.startswith('J'):\n",
    "        return wordnet.ADJ\n",
    "    elif tag.startswith('V'):\n",
    "        return wordnet.VERB\n",
    "    elif tag.startswith('N'):\n",
    "        return wordnet.NOUN\n",
    "    elif tag.startswith('R'):\n",
    "        return wordnet.ADV\n",
    "    else:\n",
    "        return wordnet.NOUN\n"
   ]
  },
  {
   "cell_type": "code",
   "execution_count": 11,
   "id": "8af7e024",
   "metadata": {},
   "outputs": [],
   "source": [
    "def lemmatize (word_list):\n",
    "    wl = WordNetLemmatizer()\n",
    "    word_pos_tags = pos_tag(word_list)\n",
    "    lemmatized_list = []\n",
    "    for tag in word_pos_tags:\n",
    "        lemmatize_word = wl.lemmatize(tag[0],get_wordnet_pos(tag[1]))\n",
    "        lemmatized_list.append(lemmatize_word)\n",
    "    return \" \".join(lemmatized_list)"
   ]
  },
  {
   "cell_type": "code",
   "execution_count": 12,
   "id": "cb06b140",
   "metadata": {},
   "outputs": [],
   "source": [
    "df_train['report'] = df_train['report'].apply(lambda x: clean_text(x))"
   ]
  },
  {
   "cell_type": "code",
   "execution_count": 13,
   "id": "20e81cc9",
   "metadata": {
    "scrolled": false
   },
   "outputs": [
    {
     "data": {
      "text/plain": [
       "0         5\n",
       "1         5\n",
       "2         3\n",
       "3         1\n",
       "4         1\n",
       "         ..\n",
       "362801    5\n",
       "362802    1\n",
       "362803    2\n",
       "362804    5\n",
       "362805    5\n",
       "Name: Satisfaction, Length: 362806, dtype: int64"
      ]
     },
     "execution_count": 13,
     "metadata": {},
     "output_type": "execute_result"
    }
   ],
   "source": [
    "df_train['Satisfaction']"
   ]
  },
  {
   "cell_type": "code",
   "execution_count": 14,
   "id": "5bba0d25",
   "metadata": {},
   "outputs": [],
   "source": [
    "def map_rating_to_class(rating):\n",
    "    if rating >= 4:\n",
    "        return 'positive'\n",
    "    elif rating <= 2:\n",
    "        return 'negative'\n",
    "    else:\n",
    "        return 'neutral'\n",
    "\n",
    "# Apply the function to create a new column 'rating_class' in the DataFrame\n",
    "# Apply the function to create a new column 'class' in the DataFrame using .loc[row_indexer, col_indexer]\n",
    "df_train.loc[:, 'Satisfaction'] = df_train['Satisfaction'].apply(map_rating_to_class)\n",
    "\n",
    "#print(df.head(10))"
   ]
  },
  {
   "cell_type": "code",
   "execution_count": 15,
   "id": "d1688502",
   "metadata": {
    "scrolled": true
   },
   "outputs": [
    {
     "data": {
      "text/plain": [
       "0         positive\n",
       "1         positive\n",
       "2          neutral\n",
       "3         negative\n",
       "4         negative\n",
       "            ...   \n",
       "362801    positive\n",
       "362802    negative\n",
       "362803    negative\n",
       "362804    positive\n",
       "362805    positive\n",
       "Name: Satisfaction, Length: 362806, dtype: object"
      ]
     },
     "execution_count": 15,
     "metadata": {},
     "output_type": "execute_result"
    }
   ],
   "source": [
    "\n",
    "df_train['Satisfaction'] "
   ]
  },
  {
   "cell_type": "code",
   "execution_count": 16,
   "id": "5adbc092",
   "metadata": {},
   "outputs": [],
   "source": [
    "Sentiment_train = df_train['Satisfaction']\n",
    "Report_train = df_train['report']"
   ]
  },
  {
   "cell_type": "code",
   "execution_count": 17,
   "id": "5ae24d2e",
   "metadata": {},
   "outputs": [],
   "source": [
    "X_train, X_test, y_train, y_test = train_test_split(Report_train, Sentiment_train, test_size=0.25)\n"
   ]
  },
  {
   "cell_type": "code",
   "execution_count": 18,
   "id": "0b43240d",
   "metadata": {},
   "outputs": [
    {
     "name": "stdout",
     "output_type": "stream",
     "text": [
      "Sentiment_Train shape after one-hot encoding :  (362806, 3)    Sentiment_Test shape after one-hot encoding :  (90702, 3) \n",
      "\n"
     ]
    }
   ],
   "source": [
    "from numpy import array\n",
    "from sklearn.preprocessing import LabelEncoder, OneHotEncoder\n",
    "# One-Hot Encoding of Sentiment_Train\n",
    "Sentiment_train = array(Sentiment_train)\n",
    "# integer encode\n",
    "label_encoder = LabelEncoder()\n",
    "Sentiment_train_integer_encoded = label_encoder.fit_transform(Sentiment_train)\n",
    "# binary encode\n",
    "onehot_encoder = OneHotEncoder(sparse=False)\n",
    "Sentiment_train_integer_encoded = Sentiment_train_integer_encoded.reshape(len(Sentiment_train_integer_encoded), 1)\n",
    "Sentiment_train_onehot_encoded = onehot_encoder.fit_transform(Sentiment_train_integer_encoded)\n",
    "# One-Hot Encoding of Sentiment_Test\n",
    "Sentiment_test = array( y_test)\n",
    "# integer encode\n",
    "label_encoder = LabelEncoder()\n",
    "Sentiment_test_integer_encoded = label_encoder.fit_transform(y_test)\n",
    "# binary encode\n",
    "onehot_encoder = OneHotEncoder(sparse=False)\n",
    "Sentiment_test_integer_encoded = Sentiment_test_integer_encoded.reshape(len(Sentiment_test_integer_encoded), 1)\n",
    "Sentiment_test_onehot_encoded = onehot_encoder.fit_transform(Sentiment_test_integer_encoded)\n",
    "print(\"Sentiment_Train shape after one-hot encoding : \",Sentiment_train_onehot_encoded.shape,\"  \"\n",
    "     ,\"Sentiment_Test shape after one-hot encoding : \",Sentiment_test_onehot_encoded.shape,\"\\n\")"
   ]
  },
  {
   "cell_type": "code",
   "execution_count": 19,
   "id": "243d0171",
   "metadata": {},
   "outputs": [
    {
     "name": "stdout",
     "output_type": "stream",
     "text": [
      "Report_Train shape after padding :  (362806, 100)    Report_Test shape after padding:  (90702, 100)\n"
     ]
    }
   ],
   "source": [
    "# Tokenize and Create Sequence For Train set\n",
    "tokenizer = Tokenizer(num_words = 10000)\n",
    "tokenizer.fit_on_texts(Report_train)\n",
    "Report_train_sequences = tokenizer.texts_to_sequences(Report_train)\n",
    "Report_train_padded = pad_sequences(Report_train_sequences, maxlen=100, padding='post', truncating='post')             # maxlen is the size of words in a review here it is 100\n",
    "# Tokenize and Create Sequence For Test set\n",
    "Report_test_sequences = tokenizer.texts_to_sequences(X_test)\n",
    "Report_test_padded = pad_sequences(Report_test_sequences, maxlen=100, padding='post', truncating='post')\n",
    "print(\"Report_Train shape after padding : \",Report_train_padded.shape,\"  \",\"Report_Test shape after padding: \",Report_test_padded.shape)\n",
    "Sentiment_labels = ['Negative', 'Neutral', 'Positive']    "
   ]
  },
  {
   "cell_type": "code",
   "execution_count": 20,
   "id": "957a2715",
   "metadata": {},
   "outputs": [
    {
     "data": {
      "text/plain": [
       "173004"
      ]
     },
     "execution_count": 20,
     "metadata": {},
     "output_type": "execute_result"
    }
   ],
   "source": [
    "vocab_size = len(tokenizer.index_word) + 1\n",
    "vocab_size "
   ]
  },
  {
   "cell_type": "code",
   "execution_count": 21,
   "id": "83563cc1",
   "metadata": {},
   "outputs": [],
   "source": [
    "import os\n",
    "from tensorflow.keras.callbacks import EarlyStopping, ModelCheckpoint\n",
    "checkpoint_filepath = os.getcwd()\n",
    "model_checkpoint_callback = ModelCheckpoint(filepath=checkpoint_filepath, save_weights_only=False, monitor='val_loss', mode='min', save_best_only=True)\n",
    "callbacks = [EarlyStopping(patience=2), model_checkpoint_callback]"
   ]
  },
  {
   "cell_type": "markdown",
   "id": "c4b3305c",
   "metadata": {},
   "source": [
    "# LSTM"
   ]
  },
  {
   "cell_type": "code",
   "execution_count": 29,
   "id": "d15730c6",
   "metadata": {
    "scrolled": true
   },
   "outputs": [
    {
     "name": "stdout",
     "output_type": "stream",
     "text": [
      "Model: \"sequential_1\"\n",
      "_________________________________________________________________\n",
      " Layer (type)                Output Shape              Param #   \n",
      "=================================================================\n",
      " embedding_1 (Embedding)     (None, 100, 100)          17300400  \n",
      "                                                                 \n",
      " spatial_dropout1d (SpatialD  (None, 100, 100)         0         \n",
      " ropout1D)                                                       \n",
      "                                                                 \n",
      " bidirectional (Bidirectiona  (None, 200)              160800    \n",
      " l)                                                              \n",
      "                                                                 \n",
      " dense_1 (Dense)             (None, 1024)              205824    \n",
      "                                                                 \n",
      " dropout (Dropout)           (None, 1024)              0         \n",
      "                                                                 \n",
      " dense_2 (Dense)             (None, 1024)              1049600   \n",
      "                                                                 \n",
      " dropout_1 (Dropout)         (None, 1024)              0         \n",
      "                                                                 \n",
      " dense_3 (Dense)             (None, 3)                 3075      \n",
      "                                                                 \n",
      " activation (Activation)     (None, 3)                 0         \n",
      "                                                                 \n",
      "=================================================================\n",
      "Total params: 18,719,699\n",
      "Trainable params: 18,719,699\n",
      "Non-trainable params: 0\n",
      "_________________________________________________________________\n",
      "None\n"
     ]
    }
   ],
   "source": [
    "from keras.layers.core import Dense, Activation, Dropout\n",
    "from keras.layers import GlobalMaxPooling1D, Conv1D, MaxPooling1D, Flatten, Bidirectional, SpatialDropout1D\n",
    "from keras.layers import Embedding, Conv1D, LSTM, Dense, Dropout\n",
    "LSTM_model = Sequential()\n",
    "sequence_len=100\n",
    "LSTM_model.add(layers.Embedding(input_dim=vocab_size, output_dim=100, input_length=sequence_len))\n",
    "LSTM_model.add(SpatialDropout1D(0.3))\n",
    "LSTM_model.add(Bidirectional(LSTM(100, dropout=0.3, recurrent_dropout=0.3)))\n",
    "LSTM_model.add(Dense(1024, activation=\"relu\"))\n",
    "LSTM_model.add(Dropout(0.8))\n",
    "LSTM_model.add(Dense(1024, activation=\"relu\"))\n",
    "LSTM_model.add(Dropout(0.8))\n",
    "LSTM_model.add(Dense(3))\n",
    "LSTM_model.add(Activation(\"softmax\"))\n",
    "LSTM_model.compile(loss=\"categorical_crossentropy\", optimizer=\"adam\", metrics=[\"accuracy\"])\n",
    "print(LSTM_model.summary())"
   ]
  },
  {
   "cell_type": "code",
   "execution_count": 31,
   "id": "10b85eed",
   "metadata": {},
   "outputs": [
    {
     "name": "stdout",
     "output_type": "stream",
     "text": [
      "Epoch 1/5\n",
      "2835/2835 [==============================] - 11051s 4s/step - loss: 0.7586 - accuracy: 0.6877 - val_loss: 0.7059 - val_accuracy: 0.7032\n",
      "Epoch 2/5\n",
      "2835/2835 [==============================] - 12560s 4s/step - loss: 0.7341 - accuracy: 0.6971 - val_loss: 0.6766 - val_accuracy: 0.7187\n",
      "Epoch 3/5\n",
      "2835/2835 [==============================] - 10710s 4s/step - loss: 0.7117 - accuracy: 0.7063 - val_loss: 0.6506 - val_accuracy: 0.7301\n",
      "Epoch 4/5\n",
      "2835/2835 [==============================] - 14766s 5s/step - loss: 0.6941 - accuracy: 0.7141 - val_loss: 0.6409 - val_accuracy: 0.7356\n",
      "Epoch 5/5\n",
      "2835/2835 [==============================] - 12922s 5s/step - loss: 0.6771 - accuracy: 0.7228 - val_loss: 0.6186 - val_accuracy: 0.7447\n"
     ]
    }
   ],
   "source": [
    "history_LSTM = LSTM_model.fit(Report_train_padded,Sentiment_train_onehot_encoded, epochs=5, batch_size=128, validation_data=(Report_test_padded, Sentiment_test_onehot_encoded))\n",
    "\n"
   ]
  },
  {
   "cell_type": "code",
   "execution_count": 32,
   "id": "3afc3c57",
   "metadata": {},
   "outputs": [
    {
     "name": "stdout",
     "output_type": "stream",
     "text": [
      "2835/2835 [==============================] - 186s 66ms/step - loss: 0.6186 - accuracy: 0.7447\n",
      "\n",
      " Evaluated model accuracy on test data : 0.7446804046630859\n",
      "\n",
      " stop time: Sat May  6 00:55:54 2023 \n",
      "\n",
      "2835/2835 [==============================] - 137s 48ms/step\n"
     ]
    }
   ],
   "source": [
    "import time\n",
    "import itertools\n",
    "import warnings\n",
    "from sklearn.metrics import confusion_matrix\n",
    "# Model Evaluation on Test data\n",
    "test_loss,test_acc = LSTM_model.evaluate(Report_test_padded, Sentiment_test_onehot_encoded)\n",
    "print(\"\\n Evaluated model accuracy on test data :\",test_acc)\n",
    "seconds= time.time()\n",
    "time_stop = time.ctime(seconds)\n",
    "print(\"\\n\",\"stop time:\", time_stop,\"\\n\")\n",
    "# Predict the values from the Test dataset\n",
    "Sentiment_pred = LSTM_model.predict(Report_test_padded)\n",
    "# Convert predictions classes to one hot vectors\n",
    "Sentiment_pred_classes = np.argmax(Sentiment_pred,axis = 1)\n",
    "# computing the confusion matrix"
   ]
  },
  {
   "cell_type": "code",
   "execution_count": 33,
   "id": "85c1e09b",
   "metadata": {},
   "outputs": [
    {
     "data": {
      "text/plain": [
       "<function sklearn.metrics._classification.confusion_matrix(y_true, y_pred, *, labels=None, sample_weight=None, normalize=None)>"
      ]
     },
     "execution_count": 33,
     "metadata": {},
     "output_type": "execute_result"
    }
   ],
   "source": [
    "confusion_mtx = confusion_matrix(Sentiment_test_integer_encoded, Sentiment_pred_classes)\n",
    "confusion_matrix"
   ]
  },
  {
   "cell_type": "code",
   "execution_count": 34,
   "id": "8b3770ac",
   "metadata": {},
   "outputs": [
    {
     "name": "stdout",
     "output_type": "stream",
     "text": [
      "              precision    recall  f1-score   support\n",
      "\n",
      "    Negative       0.76      0.80      0.78     34095\n",
      "     Neutral       0.68      0.04      0.08     12898\n",
      "    Positive       0.73      0.91      0.81     43709\n",
      "\n",
      "    accuracy                           0.74     90702\n",
      "   macro avg       0.72      0.58      0.56     90702\n",
      "weighted avg       0.74      0.74      0.70     90702\n",
      "\n",
      "Accuracy: 0.744680\n",
      "Cohen_score: 0.546443\n"
     ]
    }
   ],
   "source": [
    "#Printing Classification Report for Sentiment\n",
    "from sklearn.metrics import cohen_kappa_score\n",
    "from sklearn.metrics import accuracy_score\n",
    "from sklearn.metrics import classification_report\n",
    "print(classification_report(Sentiment_test_integer_encoded, Sentiment_pred_classes, target_names = Sentiment_labels))\n",
    "accuracy = accuracy_score(Sentiment_test_integer_encoded, Sentiment_pred_classes)\n",
    "print('Accuracy: %f' % accuracy)\n",
    "cohen_score = cohen_kappa_score(Sentiment_test_integer_encoded, Sentiment_pred_classes)\n",
    "print('Cohen_score: %f' % cohen_score)"
   ]
  },
  {
   "cell_type": "code",
   "execution_count": 35,
   "id": "f67850a8",
   "metadata": {},
   "outputs": [
    {
     "data": {
      "image/png": "[encoded data removed]",
      "text/plain": [
       "<Figure size 432x288 with 2 Axes>"
      ]
     },
     "metadata": {
      "needs_background": "light"
     },
     "output_type": "display_data"
    }
   ],
   "source": [
    "\n",
    "# Plot the loss and accuracy curves for training and validation\n",
    "fig, ax = plt.subplots(2,1)\n",
    "ax[0].plot(history_LSTM .history['loss'], color='b', label=\"Training loss\")\n",
    "ax[0].plot(history_LSTM .history['val_loss'], color='r', label=\"validation loss\",axes =ax[0])\n",
    "legend = ax[0].legend(loc='best', shadow=True)\n",
    "ax[1].plot(history_LSTM .history['accuracy'], color='b', label=\"Training accuracy\")\n",
    "ax[1].plot(history_LSTM .history['val_accuracy'], color='r',label=\"Validation accuracy\")\n",
    "legend = ax[1].legend(loc='best', shadow=True)\n",
    "plt.show()"
   ]
  },
  {
   "cell_type": "code",
   "execution_count": 36,
   "id": "ce7ffb99",
   "metadata": {},
   "outputs": [
    {
     "data": {
      "image/png": "[encoded data removed]",
      "text/plain": [
       "<Figure size 432x288 with 2 Axes>"
      ]
     },
     "metadata": {
      "needs_background": "light"
     },
     "output_type": "display_data"
    }
   ],
   "source": [
    "# Defining function for plotting confusion matrix\n",
    "def plot_confusion_matrix(cm, classes,\n",
    "                          normalize=False,\n",
    "                          title='Confusion matrix',\n",
    "                          cmap=plt.cm.Blues):\n",
    "    '''\n",
    "    This function prints and plots the confusion matrix.\n",
    "    Normalization can be applied by setting `normalize=True`.\n",
    "    '''\n",
    "    plt.imshow(cm, interpolation='nearest', cmap=cmap)\n",
    "    plt.title(title)\n",
    "    plt.colorbar()\n",
    "    tick_marks = np.arange(len(classes))\n",
    "    plt.xticks(tick_marks, classes, rotation=45)\n",
    "    plt.yticks(tick_marks, classes)\n",
    "    if normalize:\n",
    "        cm = cm.astype('float') / cm.sum(axis=1)[:, np.newaxis]\n",
    "    thresh = cm.max() / 2.\n",
    "    for i, j in itertools.product(range(cm.shape[0]), range(cm.shape[1])):\n",
    "        plt.text(j, i, cm[i, j],\n",
    "                 horizontalalignment=\"center\",\n",
    "                 color=\"white\" if cm[i, j] > thresh else \"black\")\n",
    "    plt.tight_layout()\n",
    "    plt.ylabel('True label')\n",
    "    plt.xlabel('Predicted label')\n",
    "    plt.show()\n",
    "# plot the confusion matrix\n",
    "plot_confusion_matrix(confusion_mtx, classes = range(3))"
   ]
  },
  {
   "cell_type": "markdown",
   "id": "1b7c8f32",
   "metadata": {},
   "source": [
    "# LSTM_CNN"
   ]
  },
  {
   "cell_type": "code",
   "execution_count": 37,
   "id": "7703f618",
   "metadata": {},
   "outputs": [
    {
     "name": "stdout",
     "output_type": "stream",
     "text": [
      "Model: \"sequential_2\"\n",
      "_________________________________________________________________\n",
      " Layer (type)                Output Shape              Param #   \n",
      "=================================================================\n",
      " embedding_2 (Embedding)     (None, 100, 100)          17300400  \n",
      "                                                                 \n",
      " conv1d (Conv1D)             (None, 96, 64)            32064     \n",
      "                                                                 \n",
      " max_pooling1d (MaxPooling1D  (None, 24, 64)           0         \n",
      " )                                                               \n",
      "                                                                 \n",
      " lstm_1 (LSTM)               (None, 64)                33024     \n",
      "                                                                 \n",
      " dense_4 (Dense)             (None, 3)                 195       \n",
      "                                                                 \n",
      "=================================================================\n",
      "Total params: 17,365,683\n",
      "Trainable params: 17,365,683\n",
      "Non-trainable params: 0\n",
      "_________________________________________________________________\n",
      "None\n"
     ]
    }
   ],
   "source": [
    "# Build the CNN-LSTM model\n",
    "modelCNN_LSTM = Sequential()\n",
    "modelCNN_LSTM.add(layers.Embedding(input_dim=vocab_size, output_dim=100, input_length=sequence_len ))\n",
    "modelCNN_LSTM.add(Conv1D(64, 5, activation='relu'))\n",
    "modelCNN_LSTM.add(MaxPooling1D(pool_size=4))\n",
    "modelCNN_LSTM.add(LSTM(64))\n",
    "modelCNN_LSTM.add(Dense(len(label_encoder.classes_), activation='softmax'))\n",
    "# Compile the model\n",
    "modelCNN_LSTM.compile(loss=\"categorical_crossentropy\", optimizer=\"adam\", metrics=[\"accuracy\"])\n",
    "print(modelCNN_LSTM.summary())\n",
    "# Train the model"
   ]
  },
  {
   "cell_type": "code",
   "execution_count": 39,
   "id": "2876eec3",
   "metadata": {},
   "outputs": [
    {
     "name": "stdout",
     "output_type": "stream",
     "text": [
      "Epoch 1/5\n",
      "2835/2835 [==============================] - 593s 209ms/step - loss: 0.7701 - accuracy: 0.6784 - val_loss: 0.6859 - val_accuracy: 0.7179\n",
      "Epoch 2/5\n",
      "2835/2835 [==============================] - 601s 212ms/step - loss: 0.6608 - accuracy: 0.7295 - val_loss: 0.5562 - val_accuracy: 0.7820\n",
      "Epoch 3/5\n",
      "2835/2835 [==============================] - 606s 214ms/step - loss: 0.5668 - accuracy: 0.7728 - val_loss: 0.4741 - val_accuracy: 0.8150\n",
      "Epoch 4/5\n",
      "2835/2835 [==============================] - 610s 215ms/step - loss: 0.4792 - accuracy: 0.8126 - val_loss: 0.3936 - val_accuracy: 0.8537\n",
      "Epoch 5/5\n",
      "2835/2835 [==============================] - 593s 209ms/step - loss: 0.4101 - accuracy: 0.8421 - val_loss: 0.3414 - val_accuracy: 0.8747\n"
     ]
    }
   ],
   "source": [
    "history_LSTM_CNN= modelCNN_LSTM.fit(Report_train_padded,Sentiment_train_onehot_encoded, epochs=5, batch_size=128, validation_data=(Report_test_padded, Sentiment_test_onehot_encoded))\n",
    "\n"
   ]
  },
  {
   "cell_type": "code",
   "execution_count": 40,
   "id": "f32a984e",
   "metadata": {},
   "outputs": [
    {
     "name": "stdout",
     "output_type": "stream",
     "text": [
      "2835/2835 [==============================] - 35s 12ms/step - loss: 0.3414 - accuracy: 0.8747\n",
      "\n",
      " Evaluated model accuracy on test data : 0.8746665120124817\n",
      "\n",
      " stop time: Sat May  6 01:59:02 2023 \n",
      "\n",
      "2835/2835 [==============================] - 32s 11ms/step\n"
     ]
    }
   ],
   "source": [
    "import time\n",
    "import itertools\n",
    "import warnings\n",
    "from sklearn.metrics import confusion_matrix\n",
    "# Model Evaluation on Test data\n",
    "test_loss,test_acc =modelCNN_LSTM.evaluate(Report_test_padded, Sentiment_test_onehot_encoded)\n",
    "print(\"\\n Evaluated model accuracy on test data :\",test_acc)\n",
    "seconds= time.time()\n",
    "time_stop = time.ctime(seconds)\n",
    "print(\"\\n\",\"stop time:\", time_stop,\"\\n\")\n",
    "# Predict the values from the Test dataset\n",
    "Sentiment_pred = modelCNN_LSTM.predict(Report_test_padded)\n",
    "# Convert predictions classes to one hot vectors\n",
    "Sentiment_pred_classes = np.argmax(Sentiment_pred,axis = 1)\n",
    "# computing the confusion matrix"
   ]
  },
  {
   "cell_type": "code",
   "execution_count": 41,
   "id": "b0aeed12",
   "metadata": {},
   "outputs": [
    {
     "data": {
      "text/plain": [
       "<function sklearn.metrics._classification.confusion_matrix(y_true, y_pred, *, labels=None, sample_weight=None, normalize=None)>"
      ]
     },
     "execution_count": 41,
     "metadata": {},
     "output_type": "execute_result"
    }
   ],
   "source": [
    "confusion_mtx = confusion_matrix(Sentiment_test_integer_encoded, Sentiment_pred_classes)\n",
    "confusion_matrix"
   ]
  },
  {
   "cell_type": "code",
   "execution_count": 42,
   "id": "aa6c91cc",
   "metadata": {},
   "outputs": [
    {
     "name": "stdout",
     "output_type": "stream",
     "text": [
      "              precision    recall  f1-score   support\n",
      "\n",
      "    Negative       0.90      0.89      0.90     34095\n",
      "     Neutral       0.83      0.55      0.66     12898\n",
      "    Positive       0.86      0.96      0.91     43709\n",
      "\n",
      "    accuracy                           0.87     90702\n",
      "   macro avg       0.86      0.80      0.82     90702\n",
      "weighted avg       0.87      0.87      0.87     90702\n",
      "\n",
      "Accuracy: 0.874666\n",
      "Cohen_score: 0.787506\n"
     ]
    }
   ],
   "source": [
    "#Printing Classification Report for Sentiment\n",
    "from sklearn.metrics import cohen_kappa_score\n",
    "from sklearn.metrics import accuracy_score\n",
    "from sklearn.metrics import classification_report\n",
    "print(classification_report(Sentiment_test_integer_encoded, Sentiment_pred_classes, target_names = Sentiment_labels))\n",
    "accuracy = accuracy_score(Sentiment_test_integer_encoded, Sentiment_pred_classes)\n",
    "print('Accuracy: %f' % accuracy)\n",
    "cohen_score = cohen_kappa_score(Sentiment_test_integer_encoded, Sentiment_pred_classes)\n",
    "print('Cohen_score: %f' % cohen_score)"
   ]
  },
  {
   "cell_type": "code",
   "execution_count": 43,
   "id": "d5b993de",
   "metadata": {},
   "outputs": [
    {
     "data": {
      "image/png": "[encoded data removed]",
      "text/plain": [
       "<Figure size 432x288 with 2 Axes>"
      ]
     },
     "metadata": {
      "needs_background": "light"
     },
     "output_type": "display_data"
    }
   ],
   "source": [
    "\n",
    "# Plot the loss and accuracy curves for training and validation\n",
    "fig, ax = plt.subplots(2,1)\n",
    "ax[0].plot(history_LSTM_CNN .history['loss'], color='b', label=\"Training loss\")\n",
    "ax[0].plot(history_LSTM_CNN .history['val_loss'], color='r', label=\"validation loss\",axes =ax[0])\n",
    "legend = ax[0].legend(loc='best', shadow=True)\n",
    "ax[1].plot(history_LSTM_CNN.history['accuracy'], color='b', label=\"Training accuracy\")\n",
    "ax[1].plot(history_LSTM_CNN.history['val_accuracy'], color='r',label=\"Validation accuracy\")\n",
    "legend = ax[1].legend(loc='best', shadow=True)\n",
    "plt.show()"
   ]
  },
  {
   "cell_type": "code",
   "execution_count": 44,
   "id": "8a61fc97",
   "metadata": {},
   "outputs": [
    {
     "data": {
      "image/png": "[encoded data removed]",
      "text/plain": [
       "<Figure size 432x288 with 2 Axes>"
      ]
     },
     "metadata": {
      "needs_background": "light"
     },
     "output_type": "display_data"
    }
   ],
   "source": [
    "# Defining function for plotting confusion matrix\n",
    "def plot_confusion_matrix(cm, classes,\n",
    "                          normalize=False,\n",
    "                          title='Confusion matrix',\n",
    "                          cmap=plt.cm.Blues):\n",
    "    '''\n",
    "    This function prints and plots the confusion matrix.\n",
    "    Normalization can be applied by setting `normalize=True`.\n",
    "    '''\n",
    "    plt.imshow(cm, interpolation='nearest', cmap=cmap)\n",
    "    plt.title(title)\n",
    "    plt.colorbar()\n",
    "    tick_marks = np.arange(len(classes))\n",
    "    plt.xticks(tick_marks, classes, rotation=45)\n",
    "    plt.yticks(tick_marks, classes)\n",
    "    if normalize:\n",
    "        cm = cm.astype('float') / cm.sum(axis=1)[:, np.newaxis]\n",
    "    thresh = cm.max() / 2.\n",
    "    for i, j in itertools.product(range(cm.shape[0]), range(cm.shape[1])):\n",
    "        plt.text(j, i, cm[i, j],\n",
    "                 horizontalalignment=\"center\",\n",
    "                 color=\"white\" if cm[i, j] > thresh else \"black\")\n",
    "    plt.tight_layout()\n",
    "    plt.ylabel('True label')\n",
    "    plt.xlabel('Predicted label')\n",
    "    plt.show()\n",
    "# plot the confusion matrix\n",
    "plot_confusion_matrix(confusion_mtx, classes = range(3))"
   ]
  },
  {
   "cell_type": "code",
   "execution_count": null,
   "id": "1911752c",
   "metadata": {},
   "outputs": [],
   "source": []
  },
  {
   "cell_type": "code",
   "execution_count": null,
   "id": "b0106c8f",
   "metadata": {},
   "outputs": [],
   "source": []
  },
  {
   "cell_type": "code",
   "execution_count": null,
   "id": "5de99347",
   "metadata": {},
   "outputs": [],
   "source": []
  },
  {
   "cell_type": "code",
   "execution_count": null,
   "id": "411c492f",
   "metadata": {},
   "outputs": [],
   "source": []
  }
 ],
 "metadata": {
  "kernelspec": {
   "display_name": "Python 3 (ipykernel)",
   "language": "python",
   "name": "python3"
  },
  "language_info": {
   "codemirror_mode": {
    "name": "ipython",
    "version": 3
   },
   "file_extension": ".py",
   "mimetype": "text/x-python",
   "name": "python",
   "nbconvert_exporter": "python",
   "pygments_lexer": "ipython3",
   "version": "3.9.12"
  }
 },
 "nbformat": 4,
 "nbformat_minor": 5
}
